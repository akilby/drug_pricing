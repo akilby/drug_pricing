{
 "cells": [
  {
   "cell_type": "code",
   "execution_count": 49,
   "metadata": {},
   "outputs": [],
   "source": [
    "import os\n",
    "from praw import Reddit\n",
    "from praw.models import Comment, Subreddit, Submission\n",
    "from praw.models.listing.mixins.subreddit import CommentHelper\n",
    "from dotenv import load_dotenv\n",
    "from datetime import datetime\n",
    "import seaborn as sns\n",
    "from functools import reduce\n",
    "from typing import Union"
   ]
  },
  {
   "cell_type": "code",
   "execution_count": 50,
   "metadata": {},
   "outputs": [],
   "source": [
    "# load local environment variables\n",
    "env_path = \"../.env\"\n",
    "load_dotenv(dotenv_path=env_path)\n",
    "\n",
    "# establish reddit connection\n",
    "conn = Reddit(client_id=os.getenv(\"RCLIENT_ID\"),\n",
    "                    client_secret=os.getenv(\"RSECRET_KEY\"),\n",
    "                    password=os.getenv(\"RPASSWORD\"),\n",
    "                    username=os.getenv(\"RUSERNAME\"),\n",
    "                    user_agent=os.getenv(\"RUSER_AGENT\"))\n",
    "\n",
    "# define subreddit\n",
    "subr = conn.subreddit(\"opiates\")\n",
    "\n",
    "# define constants\n",
    "SUBR_NAME = \"opiates\""
   ]
  },
  {
   "cell_type": "code",
   "execution_count": 51,
   "metadata": {},
   "outputs": [],
   "source": [
    "def utc_to_dt(utc: float) -> datetime:\n",
    "    \"\"\"Convert a unix time to a python datetime.\"\"\"\n",
    "    return datetime.utcfromtimestamp(int(utc))"
   ]
  },
  {
   "cell_type": "code",
   "execution_count": 60,
   "metadata": {},
   "outputs": [],
   "source": [
    "class Post():\n",
    "    \"\"\"\n",
    "    Represents an intersection of attributes from Submission and Comment objects.\n",
    "    \"\"\"\n",
    "    \n",
    "    # Defines a type representing a Submission OR a Comment\n",
    "    SubComm: Union = Union[Submission, Comment]\n",
    "    \n",
    "    def __init__(self, subcomm: SubComm) -> None:\n",
    "        \"\"\"Initialize attributes of this object.\"\"\"\n",
    "        # initialize attributes particular to Submissions and Comments\n",
    "        if isinstance(subcomm, Submission):\n",
    "            self.text = subcomm.selftext\n",
    "            self.parent_id = None\n",
    "            self.is_sub = True\n",
    "        elif isinstance(subcomm, Comment):\n",
    "            self.text = subcomm.body\n",
    "            self.parent_id = subcomm.parent_id\n",
    "            self.is_sub = False\n",
    "        else:\n",
    "            raise ValueError(\"The given object is not a Submission or Comment.\")\n",
    "            \n",
    "        # initialize attributes common between Submissions and Comments\n",
    "        self.author = subcomm.author\n",
    "        self.time = utc_to_dt(subcomm.created_utc)\n",
    "        self.id = subcomm.id\n",
    "        self.score = subcomm.score\n",
    "            \n",
    "    def __eq__(self, obj: Any) -> bool:\n",
    "        \"\"\"Determine if the given object equals this object.\"\"\"\n",
    "        return isinstance(obj, Post) and (obj.id == self.id) and (obj.is_sub == self.is_sub)\n",
    "    \n",
    "    def __ne__(self, obj: Any) -> bool:\n",
    "        \"\"\"Determine if the given object does not equal this object.\"\"\"\n",
    "        return not obj == self"
   ]
  },
  {
   "cell_type": "code",
   "execution_count": 64,
   "metadata": {},
   "outputs": [],
   "source": [
    "def parse_comm_forest(root: CommentHelper, start_time: datetime) -> List[Post]:\n",
    "    \"\"\"\n",
    "    Parse all comments from the given comment forest (contained in a CommentHelper instance) as Post objects.\n",
    "    \n",
    "    :param root: a praw CommentHelper instance\n",
    "    :param start_time: a datetime representing the time to start extracting comments\n",
    "    \n",
    "    :returns posts: a list of all comments posted after the given time\n",
    "    \"\"\"\n",
    "    posts: List[Post] = []\n",
    "    for comment in root:\n",
    "        comm_time: datetime = utc_to_dt(comment.created_utc)\n",
    "        if comm_time > start_time:\n",
    "            posts.append(Post(comment))\n",
    "            if len(comment.replies) > 0:\n",
    "                posts += parse_comm_forest(comment.replies, start_time)\n",
    "    return posts"
   ]
  },
  {
   "cell_type": "code",
   "execution_count": 65,
   "metadata": {},
   "outputs": [],
   "source": [
    "def extract_comments(subr: Subreddit, start_time: datetime) -> List[Post]:\n",
    "    \"\"\"\n",
    "    Extract all submissions and comments in the subreddit that are after the given start time and store as Post objects.\n",
    "    \n",
    "    :param subr: a Subreddit of a praw Reddit instance \n",
    "    :param start_time: a datetime representing the time to start extracting comments\n",
    "    \n",
    "    :returns comments: a list of all comments posted after the given time\n",
    "    \"\"\"\n",
    "    posts: List[Post] = reduce(lambda base, sub: base + [Post(sub)] + parse_comm_forest(sub.comments, start_time), subr, [])\n",
    "    return posts"
   ]
  },
  {
   "cell_type": "code",
   "execution_count": 66,
   "metadata": {},
   "outputs": [],
   "source": [
    "start_date = datetime(2019, 12, 15)\n",
    "posts = extract_comments(subr.new(limit=10), start_date)"
   ]
  }
 ],
 "metadata": {
  "kernelspec": {
   "display_name": "Coconut",
   "language": "coconut",
   "name": "coconut"
  },
  "language_info": {
   "codemirror_mode": {
    "name": "python",
    "version": 3
   },
   "file_extension": ".coco",
   "mimetype": "text/x-python3",
   "name": "coconut",
   "pygments_lexer": "coconut",
   "version": "1.4.1"
  }
 },
 "nbformat": 4,
 "nbformat_minor": 4
}
