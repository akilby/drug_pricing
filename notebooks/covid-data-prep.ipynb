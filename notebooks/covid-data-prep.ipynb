{
 "cells": [
  {
   "cell_type": "code",
   "execution_count": 1,
   "metadata": {},
   "outputs": [
    {
     "name": "stdout",
     "output_type": "stream",
     "text": [
      "/home/denhart.c/projects/drug-pricing\n"
     ]
    }
   ],
   "source": [
    "# set the project path\n",
    "%cd ~/projects/drug-pricing"
   ]
  },
  {
   "cell_type": "code",
   "execution_count": 2,
   "metadata": {},
   "outputs": [],
   "source": [
    "%load_ext autoreload"
   ]
  },
  {
   "cell_type": "code",
   "execution_count": 3,
   "metadata": {},
   "outputs": [],
   "source": [
    "%autoreload 2\n",
    "\n",
    "import os\n",
    "import pickle\n",
    "from datetime import datetime\n",
    "from tqdm import tqdm\n",
    "from bson.objectid import ObjectId\n",
    "from collections import Counter\n",
    "\n",
    "import pandas as pd\n",
    "\n",
    "from src.utils import connect_to_mongo, get_nlp, ROOT_DIR, get_praw\n",
    "from src.schema import Post, User"
   ]
  },
  {
   "cell_type": "code",
   "execution_count": 4,
   "metadata": {},
   "outputs": [],
   "source": [
    "connect_to_mongo()"
   ]
  },
  {
   "cell_type": "code",
   "execution_count": 5,
   "metadata": {},
   "outputs": [],
   "source": [
    "lockdown_dt = datetime(2020, 3, 1)\n",
    "max_dt = datetime.now()\n",
    "min_dt = lockdown_dt - (max_dt - lockdown_dt)"
   ]
  },
  {
   "cell_type": "code",
   "execution_count": 6,
   "metadata": {},
   "outputs": [],
   "source": [
    "def get_user_month_counts() -> pd.DataFrame:\n",
    "\tpipeline = [\n",
    "\t\t{\n",
    "\t\t\t\"$group\": {\n",
    "\t\t\t\t\"_id\": { \"year\": {\"$year\": \"$datetime\"}, \"month\": {\"$month\": \"$datetime\"}, \"user\": \"$user\"},\n",
    "\t\t\t\t\"num_datetimes\": {\"$sum\": {\"$cond\": { \"if\": { \"$ne\": [\"$datetime\",\"true\"] },\"then\": 1,\"else\": 0 }}},\n",
    "\t\t\t\t\"num_spacy\": {\"$sum\": {\"$cond\": { \"if\": { \"$ne\": [\"$spacy\",\"true\"] },\"then\": 1,\"else\": 0 }}},\n",
    "\t\t\t\t\"num_posts\": {\"$sum\": 1},\n",
    "\t\t\t}\n",
    "\t\t},\n",
    "        { \n",
    "            '$lookup': {\n",
    "\t\t\t\t'from': 'users',\n",
    "\t\t\t\t'localField': 'user',\n",
    "\t\t\t\t'foreignField': '_id',\n",
    "\t\t\t\t'as': 'userData'\n",
    "\t\t\t}\n",
    "\t\t},\n",
    "\t]\n",
    "\tmonth_counts = Post.objects(subreddit='opiates').limit(10).aggregate(pipeline)\n",
    "\t'''\n",
    "\trows = [{'datetime': datetime(r['_id']['year'], r['_id']['month'], 1),\n",
    "\t\t\t'num_datetimes': r['num_datetimes'],\n",
    "\t\t\t'num_spacy': r['num_spacy'],\n",
    "\t\t\t'num_posts': r['num_posts']\n",
    "\t\t\t} for r in res if (r['_id']['year'] and r['_id']['month'])]\n",
    "\tdf = pd.DataFrame(rows)\n",
    "\treturn df\n",
    "\t'''\n",
    "\tres = list(month_counts)\n",
    "\treturn res\n"
   ]
  },
  {
   "cell_type": "code",
   "execution_count": 7,
   "metadata": {},
   "outputs": [],
   "source": [
    "res = get_user_month_counts()"
   ]
  },
  {
   "cell_type": "code",
   "execution_count": 58,
   "metadata": {},
   "outputs": [],
   "source": [
    "p1 = User.objects(pk='6154445924dd76f5e6e3cc80')"
   ]
  },
  {
   "cell_type": "code",
   "execution_count": 68,
   "metadata": {},
   "outputs": [],
   "source": [
    "ids = [str(r['_id']['user']) if 'user' in r['_id'] else None for r in res]"
   ]
  },
  {
   "cell_type": "code",
   "execution_count": 73,
   "metadata": {},
   "outputs": [],
   "source": [
    "usernames = [User.objects(pk=_id).only('username').first().username if _id else None for _id in ids]"
   ]
  },
  {
   "cell_type": "code",
   "execution_count": 65,
   "metadata": {},
   "outputs": [
    {
     "name": "stdout",
     "output_type": "stream",
     "text": [
      "5f27a5024c07ca09ea1b032a\n",
      "6154445924dd76f5e6e3cc80\n"
     ]
    },
    {
     "ename": "KeyError",
     "evalue": "'user'",
     "output_type": "error",
     "traceback": [
      "\u001b[0;31m---------------------------------------------------------------------------\u001b[0m",
      "\u001b[0;31mKeyError\u001b[0m                                  Traceback (most recent call last)",
      "\u001b[0;32m<ipython-input-65-eb6a5a9a12eb>\u001b[0m in \u001b[0;36m<module>\u001b[0;34m\u001b[0m\n\u001b[1;32m      1\u001b[0m \u001b[0;32mfor\u001b[0m \u001b[0mr\u001b[0m \u001b[0;32min\u001b[0m \u001b[0mres\u001b[0m\u001b[0;34m:\u001b[0m\u001b[0;34m\u001b[0m\u001b[0;34m\u001b[0m\u001b[0m\n\u001b[0;32m----> 2\u001b[0;31m     \u001b[0mprint\u001b[0m\u001b[0;34m(\u001b[0m\u001b[0mr\u001b[0m\u001b[0;34m[\u001b[0m\u001b[0;34m'_id'\u001b[0m\u001b[0;34m]\u001b[0m\u001b[0;34m[\u001b[0m\u001b[0;34m'user'\u001b[0m\u001b[0;34m]\u001b[0m\u001b[0;34m)\u001b[0m\u001b[0;34m\u001b[0m\u001b[0;34m\u001b[0m\u001b[0m\n\u001b[0m",
      "\u001b[0;31mKeyError\u001b[0m: 'user'"
     ]
    }
   ],
   "source": [
    "for r in res:\n",
    "    print(r['_id']['user'])"
   ]
  },
  {
   "cell_type": "code",
   "execution_count": 8,
   "metadata": {},
   "outputs": [],
   "source": [
    "covid_cache_fp = '/work/akilby/drug_pricing_project/denhart_cache/covid_keyword_counts_cache_opiates_1634766740.pk'\n",
    "with open(covid_cache_fp, 'rb') as f:\n",
    "    covid_cache = pickle.load(f)"
   ]
  },
  {
   "cell_type": "code",
   "execution_count": 6,
   "metadata": {},
   "outputs": [],
   "source": [
    "months_users_fp = '/work/akilby/drug_pricing_project/denhart_cache/opiates_month_user_counts_2021-10-14 08:08:02.963907.pk'\n",
    "with open(months_users_fp, 'rb') as f:\n",
    "    month_users_counts = pickle.load(f)"
   ]
  },
  {
   "cell_type": "code",
   "execution_count": 8,
   "metadata": {},
   "outputs": [
    {
     "data": {
      "text/plain": [
       "359409"
      ]
     },
     "execution_count": 8,
     "metadata": {},
     "output_type": "execute_result"
    }
   ],
   "source": [
    "len(month_users_counts)"
   ]
  },
  {
   "cell_type": "code",
   "execution_count": 11,
   "metadata": {},
   "outputs": [],
   "source": [
    "def raw_user_months_to_df(user_months):\n",
    "    usernames = []\n",
    "    datetimes = []\n",
    "    nposts = []\n",
    "    for row in user_months:\n",
    "        usernames.append(row[0])\n",
    "        if (row[1]['_id']['year'] and row[1]['_id']['month']):\n",
    "            datetimes.append(datetime(row[1]['_id']['year'], row[1]['_id']['month'], 1))\n",
    "        else:\n",
    "            datetimes.append(None)\n",
    "        nposts.append(row[1]['num_posts'])\n",
    "    \n",
    "    df = pd.DataFrame({\n",
    "        'username': usernames,\n",
    "        'datetime': datetimes,\n",
    "        'nposts': nposts\n",
    "    })\n",
    "    return df"
   ]
  },
  {
   "cell_type": "code",
   "execution_count": 12,
   "metadata": {},
   "outputs": [],
   "source": [
    "user_month_df = raw_user_months_to_df(month_users_counts)"
   ]
  },
  {
   "cell_type": "code",
   "execution_count": 16,
   "metadata": {},
   "outputs": [],
   "source": [
    "tf = datetime.now()\n",
    "user_month_df.to_csv(f'/work/akilby/drug_pricing_project/denhart_cache/user_month_counts_df_{tf}', index=False)"
   ]
  },
  {
   "cell_type": "code",
   "execution_count": 9,
   "metadata": {},
   "outputs": [
    {
     "ename": "NameError",
     "evalue": "name 'keywords_by_month' is not defined",
     "output_type": "error",
     "traceback": [
      "\u001b[0;31m---------------------------------------------------------------------------\u001b[0m",
      "\u001b[0;31mNameError\u001b[0m                                 Traceback (most recent call last)",
      "\u001b[0;32m<ipython-input-9-9d0017d9bbe6>\u001b[0m in \u001b[0;36m<module>\u001b[0;34m\u001b[0m\n\u001b[0;32m----> 1\u001b[0;31m \u001b[0mkeyword_to_type_map\u001b[0m \u001b[0;34m=\u001b[0m \u001b[0mdict\u001b[0m\u001b[0;34m(\u001b[0m\u001b[0mzip\u001b[0m\u001b[0;34m(\u001b[0m\u001b[0mkeywords_by_month\u001b[0m\u001b[0;34m[\u001b[0m\u001b[0;34m'keywords'\u001b[0m\u001b[0;34m]\u001b[0m\u001b[0;34m.\u001b[0m\u001b[0mtolist\u001b[0m\u001b[0;34m(\u001b[0m\u001b[0;34m)\u001b[0m\u001b[0;34m,\u001b[0m \u001b[0mkeywords_by_month\u001b[0m\u001b[0;34m[\u001b[0m\u001b[0;34m'type'\u001b[0m\u001b[0;34m]\u001b[0m\u001b[0;34m.\u001b[0m\u001b[0mtolist\u001b[0m\u001b[0;34m(\u001b[0m\u001b[0;34m)\u001b[0m\u001b[0;34m)\u001b[0m\u001b[0;34m)\u001b[0m\u001b[0;34m\u001b[0m\u001b[0;34m\u001b[0m\u001b[0m\n\u001b[0m",
      "\u001b[0;31mNameError\u001b[0m: name 'keywords_by_month' is not defined"
     ]
    }
   ],
   "source": [
    "keyword_to_type_map = dict(zip(keywords_by_month['keywords'].tolist(), keywords_by_month['type'].tolist()))"
   ]
  },
  {
   "cell_type": "code",
   "execution_count": 10,
   "metadata": {},
   "outputs": [],
   "source": [
    "all_keywords = list(covid_cache[list(covid_cache.keys())[0]].keys())"
   ]
  },
  {
   "cell_type": "code",
   "execution_count": 11,
   "metadata": {},
   "outputs": [],
   "source": [
    "sample_user = list(covid_cache.keys())[0]\n",
    "sample_keyword = list(covid_cache[sample_user].keys())[0]"
   ]
  },
  {
   "cell_type": "code",
   "execution_count": 12,
   "metadata": {},
   "outputs": [
    {
     "ename": "NameError",
     "evalue": "name 'keyword_to_type_map' is not defined",
     "output_type": "error",
     "traceback": [
      "\u001b[0;31m---------------------------------------------------------------------------\u001b[0m",
      "\u001b[0;31mNameError\u001b[0m                                 Traceback (most recent call last)",
      "\u001b[0;32m<ipython-input-12-80e75c07ab5f>\u001b[0m in \u001b[0;36m<module>\u001b[0;34m\u001b[0m\n\u001b[0;32m----> 1\u001b[0;31m \u001b[0mset\u001b[0m\u001b[0;34m(\u001b[0m\u001b[0mkeyword_to_type_map\u001b[0m\u001b[0;34m.\u001b[0m\u001b[0mvalues\u001b[0m\u001b[0;34m(\u001b[0m\u001b[0;34m)\u001b[0m\u001b[0;34m)\u001b[0m\u001b[0;34m\u001b[0m\u001b[0;34m\u001b[0m\u001b[0m\n\u001b[0m",
      "\u001b[0;31mNameError\u001b[0m: name 'keyword_to_type_map' is not defined"
     ]
    }
   ],
   "source": [
    "set(keyword_to_type_map.values())"
   ]
  },
  {
   "cell_type": "code",
   "execution_count": 13,
   "metadata": {},
   "outputs": [],
   "source": [
    "all_months = list(covid_cache[sample_user][sample_keyword].keys())"
   ]
  },
  {
   "cell_type": "code",
   "execution_count": 14,
   "metadata": {},
   "outputs": [
    {
     "name": "stderr",
     "output_type": "stream",
     "text": [
      "100%|██████████| 64130/64130 [06:02<00:00, 176.86it/s]\n"
     ]
    }
   ],
   "source": [
    "month_keywords = []\n",
    "month_months = []\n",
    "month_counts = []\n",
    "month_users = []\n",
    "for user in tqdm(covid_cache):\n",
    "    for keyword in all_keywords:\n",
    "        for month in all_months:\n",
    "            count = covid_cache[user][keyword][month]\n",
    "            if count > 0:\n",
    "                month_users.append(user)\n",
    "                month_keywords.append(keyword)\n",
    "                month_counts.append(count)\n",
    "                month_months.append(month)"
   ]
  },
  {
   "cell_type": "code",
   "execution_count": 14,
   "metadata": {},
   "outputs": [
    {
     "data": {
      "text/plain": [
       "1065410"
      ]
     },
     "execution_count": 14,
     "metadata": {},
     "output_type": "execute_result"
    }
   ],
   "source": [
    "len(month_keywords)"
   ]
  },
  {
   "cell_type": "code",
   "execution_count": 16,
   "metadata": {},
   "outputs": [],
   "source": [
    "opiates_df = pd.read_csv('cache/opiates_by_month_10_7.csv')"
   ]
  },
  {
   "cell_type": "code",
   "execution_count": 21,
   "metadata": {},
   "outputs": [],
   "source": [
    "opiates_df['types'] = opiates_df.keywords.apply(lambda k: keyword_to_type_map[k] if k in keyword_to_type_map else None)"
   ]
  },
  {
   "cell_type": "code",
   "execution_count": 23,
   "metadata": {},
   "outputs": [],
   "source": [
    "opiates_df.to_csv('opiates_counts_types.csv')"
   ]
  },
  {
   "cell_type": "code",
   "execution_count": 26,
   "metadata": {},
   "outputs": [],
   "source": [
    "from collections import Counter"
   ]
  },
  {
   "cell_type": "code",
   "execution_count": 27,
   "metadata": {},
   "outputs": [
    {
     "data": {
      "text/plain": [
       "Counter({None: 658505, 'physical': 279747, 'money': 68674})"
      ]
     },
     "execution_count": 27,
     "metadata": {},
     "output_type": "execute_result"
    }
   ],
   "source": [
    "Counter(opiates_df['types'])"
   ]
  },
  {
   "cell_type": "code",
   "execution_count": null,
   "metadata": {},
   "outputs": [],
   "source": [
    "set(opiates_df)"
   ]
  },
  {
   "cell_type": "code",
   "execution_count": 15,
   "metadata": {},
   "outputs": [
    {
     "ename": "NameError",
     "evalue": "name 'getsizeof' is not defined",
     "output_type": "error",
     "traceback": [
      "\u001b[0;31m---------------------------------------------------------------------------\u001b[0m",
      "\u001b[0;31mNameError\u001b[0m                                 Traceback (most recent call last)",
      "\u001b[0;32m<ipython-input-15-1b8430750a23>\u001b[0m in \u001b[0;36m<module>\u001b[0;34m\u001b[0m\n\u001b[0;32m----> 1\u001b[0;31m \u001b[0mgetsizeof\u001b[0m\u001b[0;34m(\u001b[0m\u001b[0;34m(\u001b[0m\u001b[0mmonth_keywords\u001b[0m\u001b[0;34m,\u001b[0m \u001b[0mmonth_counts\u001b[0m\u001b[0;34m,\u001b[0m \u001b[0mmonth_months\u001b[0m\u001b[0;34m)\u001b[0m\u001b[0;34m)\u001b[0m\u001b[0;34m\u001b[0m\u001b[0;34m\u001b[0m\u001b[0m\n\u001b[0m",
      "\u001b[0;31mNameError\u001b[0m: name 'getsizeof' is not defined"
     ]
    }
   ],
   "source": [
    "getsizeof((month_keywords, month_counts, month_months))"
   ]
  },
  {
   "cell_type": "code",
   "execution_count": null,
   "metadata": {},
   "outputs": [],
   "source": [
    "len(month_months)"
   ]
  },
  {
   "cell_type": "code",
   "execution_count": 15,
   "metadata": {},
   "outputs": [],
   "source": [
    "monthly_data = {\n",
    "    'keywords': month_keywords,\n",
    "    'months': month_months,\n",
    "    'counts': month_counts,\n",
    "    'users': month_users\n",
    "}"
   ]
  },
  {
   "cell_type": "code",
   "execution_count": 28,
   "metadata": {},
   "outputs": [
    {
     "data": {
      "text/plain": [
       "501"
      ]
     },
     "execution_count": 28,
     "metadata": {},
     "output_type": "execute_result"
    }
   ],
   "source": [
    "len(month_months)"
   ]
  },
  {
   "cell_type": "code",
   "execution_count": 16,
   "metadata": {},
   "outputs": [],
   "source": [
    "monthly_cache_fp = os.path.join(\n",
    "    '/work/akilby/drug_pricing_project', \n",
    "    'denhart_cache', \n",
    "    'monthly_opiates_data_10_7_new.pk'\n",
    ")\n",
    "with open(monthly_cache_fp, 'wb') as f:\n",
    "    pickle.dump(monthly_data, f)"
   ]
  },
  {
   "cell_type": "code",
   "execution_count": 8,
   "metadata": {},
   "outputs": [
    {
     "ename": "EOFError",
     "evalue": "Ran out of input",
     "output_type": "error",
     "traceback": [
      "\u001b[0;31m---------------------------------------------------------------------------\u001b[0m",
      "\u001b[0;31mEOFError\u001b[0m                                  Traceback (most recent call last)",
      "\u001b[0;32m<ipython-input-8-9747b23021aa>\u001b[0m in \u001b[0;36m<module>\u001b[0;34m\u001b[0m\n\u001b[1;32m      1\u001b[0m \u001b[0;32mwith\u001b[0m \u001b[0mopen\u001b[0m\u001b[0;34m(\u001b[0m\u001b[0mmonthly_cache_fp\u001b[0m\u001b[0;34m,\u001b[0m \u001b[0;34m'rb'\u001b[0m\u001b[0;34m)\u001b[0m \u001b[0;32mas\u001b[0m \u001b[0mf\u001b[0m\u001b[0;34m:\u001b[0m\u001b[0;34m\u001b[0m\u001b[0;34m\u001b[0m\u001b[0m\n\u001b[0;32m----> 2\u001b[0;31m     \u001b[0mmonthly_data\u001b[0m \u001b[0;34m=\u001b[0m \u001b[0mpickle\u001b[0m\u001b[0;34m.\u001b[0m\u001b[0mload\u001b[0m\u001b[0;34m(\u001b[0m\u001b[0mf\u001b[0m\u001b[0;34m)\u001b[0m\u001b[0;34m\u001b[0m\u001b[0;34m\u001b[0m\u001b[0m\n\u001b[0m",
      "\u001b[0;31mEOFError\u001b[0m: Ran out of input"
     ]
    }
   ],
   "source": [
    "with open(monthly_cache_fp, 'rb') as f:\n",
    "    monthly_data = pickle.load(f)"
   ]
  },
  {
   "cell_type": "code",
   "execution_count": 34,
   "metadata": {},
   "outputs": [
    {
     "data": {
      "text/plain": [
       "dict_keys(['keywords', 'months', 'counts', 'users'])"
      ]
     },
     "execution_count": 34,
     "metadata": {},
     "output_type": "execute_result"
    }
   ],
   "source": [
    "monthly_data.keys()"
   ]
  },
  {
   "cell_type": "code",
   "execution_count": 40,
   "metadata": {},
   "outputs": [
    {
     "data": {
      "text/plain": [
       "True"
      ]
     },
     "execution_count": 40,
     "metadata": {},
     "output_type": "execute_result"
    }
   ],
   "source": [
    "'payment' in monthly_data['keywords']"
   ]
  },
  {
   "cell_type": "code",
   "execution_count": 17,
   "metadata": {},
   "outputs": [],
   "source": [
    "opiates_keywords_by_month = pd.DataFrame(monthly_data)"
   ]
  },
  {
   "cell_type": "code",
   "execution_count": 28,
   "metadata": {},
   "outputs": [
    {
     "data": {
      "text/plain": [
       "True"
      ]
     },
     "execution_count": 28,
     "metadata": {},
     "output_type": "execute_result"
    }
   ],
   "source": [
    "'methadone' in opiates_keywords_by_month['keywords'].tolist()"
   ]
  },
  {
   "cell_type": "code",
   "execution_count": 19,
   "metadata": {},
   "outputs": [
    {
     "data": {
      "text/html": [
       "<div>\n",
       "<style scoped>\n",
       "    .dataframe tbody tr th:only-of-type {\n",
       "        vertical-align: middle;\n",
       "    }\n",
       "\n",
       "    .dataframe tbody tr th {\n",
       "        vertical-align: top;\n",
       "    }\n",
       "\n",
       "    .dataframe thead th {\n",
       "        text-align: right;\n",
       "    }\n",
       "</style>\n",
       "<table border=\"1\" class=\"dataframe\">\n",
       "  <thead>\n",
       "    <tr style=\"text-align: right;\">\n",
       "      <th></th>\n",
       "      <th>keywords</th>\n",
       "      <th>months</th>\n",
       "      <th>counts</th>\n",
       "      <th>users</th>\n",
       "    </tr>\n",
       "  </thead>\n",
       "  <tbody>\n",
       "    <tr>\n",
       "      <th>0</th>\n",
       "      <td>die</td>\n",
       "      <td>(9, 2021)</td>\n",
       "      <td>2</td>\n",
       "      <td>593365</td>\n",
       "    </tr>\n",
       "    <tr>\n",
       "      <th>1</th>\n",
       "      <td>methadone</td>\n",
       "      <td>(9, 2021)</td>\n",
       "      <td>2</td>\n",
       "      <td>593365</td>\n",
       "    </tr>\n",
       "    <tr>\n",
       "      <th>2</th>\n",
       "      <td>take</td>\n",
       "      <td>(9, 2021)</td>\n",
       "      <td>2</td>\n",
       "      <td>593365</td>\n",
       "    </tr>\n",
       "    <tr>\n",
       "      <th>3</th>\n",
       "      <td>addict</td>\n",
       "      <td>(9, 2021)</td>\n",
       "      <td>1</td>\n",
       "      <td>593365</td>\n",
       "    </tr>\n",
       "    <tr>\n",
       "      <th>4</th>\n",
       "      <td>hook</td>\n",
       "      <td>(9, 2021)</td>\n",
       "      <td>1</td>\n",
       "      <td>593365</td>\n",
       "    </tr>\n",
       "  </tbody>\n",
       "</table>\n",
       "</div>"
      ],
      "text/plain": [
       "    keywords     months  counts   users\n",
       "0        die  (9, 2021)       2  593365\n",
       "1  methadone  (9, 2021)       2  593365\n",
       "2       take  (9, 2021)       2  593365\n",
       "3     addict  (9, 2021)       1  593365\n",
       "4       hook  (9, 2021)       1  593365"
      ]
     },
     "execution_count": 19,
     "metadata": {},
     "output_type": "execute_result"
    }
   ],
   "source": [
    "opiates_keywords_by_month.head()"
   ]
  },
  {
   "cell_type": "code",
   "execution_count": 29,
   "metadata": {},
   "outputs": [],
   "source": [
    "opiates_keywords_by_month.to_csv('/work/akilby/drug_pricing_project/denhart_cache/opiates_by_month_10_21.csv', index=False)"
   ]
  },
  {
   "cell_type": "code",
   "execution_count": 32,
   "metadata": {},
   "outputs": [
    {
     "data": {
      "text/plain": [
       "350"
      ]
     },
     "execution_count": 32,
     "metadata": {},
     "output_type": "execute_result"
    }
   ],
   "source": [
    "len(set(opiates_keywords_by_month['keywords']))"
   ]
  },
  {
   "cell_type": "code",
   "execution_count": 37,
   "metadata": {},
   "outputs": [
    {
     "data": {
      "text/html": [
       "<div>\n",
       "<style scoped>\n",
       "    .dataframe tbody tr th:only-of-type {\n",
       "        vertical-align: middle;\n",
       "    }\n",
       "\n",
       "    .dataframe tbody tr th {\n",
       "        vertical-align: top;\n",
       "    }\n",
       "\n",
       "    .dataframe thead th {\n",
       "        text-align: right;\n",
       "    }\n",
       "</style>\n",
       "<table border=\"1\" class=\"dataframe\">\n",
       "  <thead>\n",
       "    <tr style=\"text-align: right;\">\n",
       "      <th></th>\n",
       "      <th>keywords</th>\n",
       "      <th>months</th>\n",
       "      <th>counts</th>\n",
       "      <th>users</th>\n",
       "      <th>type</th>\n",
       "    </tr>\n",
       "  </thead>\n",
       "  <tbody>\n",
       "    <tr>\n",
       "      <th>0</th>\n",
       "      <td>check</td>\n",
       "      <td>(9, 2021)</td>\n",
       "      <td>1</td>\n",
       "      <td>593365</td>\n",
       "      <td>money</td>\n",
       "    </tr>\n",
       "    <tr>\n",
       "      <th>1</th>\n",
       "      <td>try</td>\n",
       "      <td>(9, 2021)</td>\n",
       "      <td>4</td>\n",
       "      <td>593365</td>\n",
       "      <td>None</td>\n",
       "    </tr>\n",
       "    <tr>\n",
       "      <th>2</th>\n",
       "      <td>die</td>\n",
       "      <td>(9, 2021)</td>\n",
       "      <td>2</td>\n",
       "      <td>593365</td>\n",
       "      <td>physical</td>\n",
       "    </tr>\n",
       "    <tr>\n",
       "      <th>3</th>\n",
       "      <td>agree</td>\n",
       "      <td>(9, 2021)</td>\n",
       "      <td>1</td>\n",
       "      <td>593365</td>\n",
       "      <td>None</td>\n",
       "    </tr>\n",
       "    <tr>\n",
       "      <th>4</th>\n",
       "      <td>fent</td>\n",
       "      <td>(9, 2021)</td>\n",
       "      <td>2</td>\n",
       "      <td>593365</td>\n",
       "      <td>None</td>\n",
       "    </tr>\n",
       "  </tbody>\n",
       "</table>\n",
       "</div>"
      ],
      "text/plain": [
       "  keywords     months  counts   users      type\n",
       "0    check  (9, 2021)       1  593365     money\n",
       "1      try  (9, 2021)       4  593365      None\n",
       "2      die  (9, 2021)       2  593365  physical\n",
       "3    agree  (9, 2021)       1  593365      None\n",
       "4     fent  (9, 2021)       2  593365      None"
      ]
     },
     "execution_count": 37,
     "metadata": {},
     "output_type": "execute_result"
    }
   ],
   "source": [
    "opiates_keywords_by_month.head()"
   ]
  },
  {
   "cell_type": "code",
   "execution_count": 7,
   "metadata": {},
   "outputs": [],
   "source": [
    "opiates_keywords_by_month = pd.read_csv('/work/akilby/drug_pricing_project/denhart_cache/opiates_by_month_10_4.csv')"
   ]
  },
  {
   "cell_type": "code",
   "execution_count": 32,
   "metadata": {},
   "outputs": [],
   "source": [
    "opiates_keywords_by_month['type'] = opiates_keywords_by_month.keywords.apply(\n",
    "    lambda k: keyword_to_type_map[k] if k in keyword_to_type_map else None\n",
    ")"
   ]
  },
  {
   "cell_type": "code",
   "execution_count": 33,
   "metadata": {},
   "outputs": [
    {
     "data": {
      "text/html": [
       "<div>\n",
       "<style scoped>\n",
       "    .dataframe tbody tr th:only-of-type {\n",
       "        vertical-align: middle;\n",
       "    }\n",
       "\n",
       "    .dataframe tbody tr th {\n",
       "        vertical-align: top;\n",
       "    }\n",
       "\n",
       "    .dataframe thead th {\n",
       "        text-align: right;\n",
       "    }\n",
       "</style>\n",
       "<table border=\"1\" class=\"dataframe\">\n",
       "  <thead>\n",
       "    <tr style=\"text-align: right;\">\n",
       "      <th></th>\n",
       "      <th>keywords</th>\n",
       "      <th>months</th>\n",
       "      <th>counts</th>\n",
       "      <th>users</th>\n",
       "      <th>type</th>\n",
       "    </tr>\n",
       "  </thead>\n",
       "  <tbody>\n",
       "    <tr>\n",
       "      <th>0</th>\n",
       "      <td>check</td>\n",
       "      <td>(9, 2021)</td>\n",
       "      <td>1</td>\n",
       "      <td>593365</td>\n",
       "      <td>money</td>\n",
       "    </tr>\n",
       "    <tr>\n",
       "      <th>1</th>\n",
       "      <td>try</td>\n",
       "      <td>(9, 2021)</td>\n",
       "      <td>4</td>\n",
       "      <td>593365</td>\n",
       "      <td>None</td>\n",
       "    </tr>\n",
       "    <tr>\n",
       "      <th>2</th>\n",
       "      <td>die</td>\n",
       "      <td>(9, 2021)</td>\n",
       "      <td>2</td>\n",
       "      <td>593365</td>\n",
       "      <td>physical</td>\n",
       "    </tr>\n",
       "    <tr>\n",
       "      <th>3</th>\n",
       "      <td>agree</td>\n",
       "      <td>(9, 2021)</td>\n",
       "      <td>1</td>\n",
       "      <td>593365</td>\n",
       "      <td>None</td>\n",
       "    </tr>\n",
       "    <tr>\n",
       "      <th>4</th>\n",
       "      <td>fent</td>\n",
       "      <td>(9, 2021)</td>\n",
       "      <td>2</td>\n",
       "      <td>593365</td>\n",
       "      <td>None</td>\n",
       "    </tr>\n",
       "    <tr>\n",
       "      <th>...</th>\n",
       "      <td>...</td>\n",
       "      <td>...</td>\n",
       "      <td>...</td>\n",
       "      <td>...</td>\n",
       "      <td>...</td>\n",
       "    </tr>\n",
       "    <tr>\n",
       "      <th>1065405</th>\n",
       "      <td>sick</td>\n",
       "      <td>(3, 2019)</td>\n",
       "      <td>1</td>\n",
       "      <td>DeadReligion</td>\n",
       "      <td>None</td>\n",
       "    </tr>\n",
       "    <tr>\n",
       "      <th>1065406</th>\n",
       "      <td>take</td>\n",
       "      <td>(3, 2019)</td>\n",
       "      <td>3</td>\n",
       "      <td>DeadReligion</td>\n",
       "      <td>None</td>\n",
       "    </tr>\n",
       "    <tr>\n",
       "      <th>1065407</th>\n",
       "      <td>nauseous</td>\n",
       "      <td>(3, 2019)</td>\n",
       "      <td>1</td>\n",
       "      <td>DeadReligion</td>\n",
       "      <td>None</td>\n",
       "    </tr>\n",
       "    <tr>\n",
       "      <th>1065408</th>\n",
       "      <td>go</td>\n",
       "      <td>(3, 2019)</td>\n",
       "      <td>1</td>\n",
       "      <td>DeadReligion</td>\n",
       "      <td>None</td>\n",
       "    </tr>\n",
       "    <tr>\n",
       "      <th>1065409</th>\n",
       "      <td>pass</td>\n",
       "      <td>(3, 2019)</td>\n",
       "      <td>1</td>\n",
       "      <td>DeadReligion</td>\n",
       "      <td>None</td>\n",
       "    </tr>\n",
       "  </tbody>\n",
       "</table>\n",
       "<p>1065410 rows × 5 columns</p>\n",
       "</div>"
      ],
      "text/plain": [
       "         keywords     months  counts         users      type\n",
       "0           check  (9, 2021)       1        593365     money\n",
       "1             try  (9, 2021)       4        593365      None\n",
       "2             die  (9, 2021)       2        593365  physical\n",
       "3           agree  (9, 2021)       1        593365      None\n",
       "4            fent  (9, 2021)       2        593365      None\n",
       "...           ...        ...     ...           ...       ...\n",
       "1065405      sick  (3, 2019)       1  DeadReligion      None\n",
       "1065406      take  (3, 2019)       3  DeadReligion      None\n",
       "1065407  nauseous  (3, 2019)       1  DeadReligion      None\n",
       "1065408        go  (3, 2019)       1  DeadReligion      None\n",
       "1065409      pass  (3, 2019)       1  DeadReligion      None\n",
       "\n",
       "[1065410 rows x 5 columns]"
      ]
     },
     "execution_count": 33,
     "metadata": {},
     "output_type": "execute_result"
    }
   ],
   "source": [
    "opiates_keywords_by_month"
   ]
  },
  {
   "cell_type": "code",
   "execution_count": 12,
   "metadata": {},
   "outputs": [],
   "source": [
    "def month_before(m) -> str:\n",
    "    dt = datetime(m[1], m[0], 1)\n",
    "    if ((dt.year < lockdown_dt.year) or \n",
    "        (dt.year == lockdown_dt.year and dt.month < lockdown_dt.month)):\n",
    "        return 'before'\n",
    "    return 'after'"
   ]
  },
  {
   "cell_type": "code",
   "execution_count": 13,
   "metadata": {},
   "outputs": [
    {
     "ename": "TypeError",
     "evalue": "an integer is required (got type str)",
     "output_type": "error",
     "traceback": [
      "\u001b[0;31m---------------------------------------------------------------------------\u001b[0m",
      "\u001b[0;31mTypeError\u001b[0m                                 Traceback (most recent call last)",
      "\u001b[0;32m<ipython-input-13-a49232696ae6>\u001b[0m in \u001b[0;36m<module>\u001b[0;34m\u001b[0m\n\u001b[1;32m      1\u001b[0m opiates_keywords_by_month['period'] = opiates_keywords_by_month.months.apply(\n\u001b[0;32m----> 2\u001b[0;31m     \u001b[0mmonth_before\u001b[0m\u001b[0;34m\u001b[0m\u001b[0;34m\u001b[0m\u001b[0m\n\u001b[0m\u001b[1;32m      3\u001b[0m )\n",
      "\u001b[0;32m~/projects/drug-pricing/.venv/lib/python3.7/site-packages/pandas/core/series.py\u001b[0m in \u001b[0;36mapply\u001b[0;34m(self, func, convert_dtype, args, **kwds)\u001b[0m\n\u001b[1;32m   4136\u001b[0m             \u001b[0;32melse\u001b[0m\u001b[0;34m:\u001b[0m\u001b[0;34m\u001b[0m\u001b[0;34m\u001b[0m\u001b[0m\n\u001b[1;32m   4137\u001b[0m                 \u001b[0mvalues\u001b[0m \u001b[0;34m=\u001b[0m \u001b[0mself\u001b[0m\u001b[0;34m.\u001b[0m\u001b[0mastype\u001b[0m\u001b[0;34m(\u001b[0m\u001b[0mobject\u001b[0m\u001b[0;34m)\u001b[0m\u001b[0;34m.\u001b[0m\u001b[0m_values\u001b[0m\u001b[0;34m\u001b[0m\u001b[0;34m\u001b[0m\u001b[0m\n\u001b[0;32m-> 4138\u001b[0;31m                 \u001b[0mmapped\u001b[0m \u001b[0;34m=\u001b[0m \u001b[0mlib\u001b[0m\u001b[0;34m.\u001b[0m\u001b[0mmap_infer\u001b[0m\u001b[0;34m(\u001b[0m\u001b[0mvalues\u001b[0m\u001b[0;34m,\u001b[0m \u001b[0mf\u001b[0m\u001b[0;34m,\u001b[0m \u001b[0mconvert\u001b[0m\u001b[0;34m=\u001b[0m\u001b[0mconvert_dtype\u001b[0m\u001b[0;34m)\u001b[0m\u001b[0;34m\u001b[0m\u001b[0;34m\u001b[0m\u001b[0m\n\u001b[0m\u001b[1;32m   4139\u001b[0m \u001b[0;34m\u001b[0m\u001b[0m\n\u001b[1;32m   4140\u001b[0m         \u001b[0;32mif\u001b[0m \u001b[0mlen\u001b[0m\u001b[0;34m(\u001b[0m\u001b[0mmapped\u001b[0m\u001b[0;34m)\u001b[0m \u001b[0;32mand\u001b[0m \u001b[0misinstance\u001b[0m\u001b[0;34m(\u001b[0m\u001b[0mmapped\u001b[0m\u001b[0;34m[\u001b[0m\u001b[0;36m0\u001b[0m\u001b[0;34m]\u001b[0m\u001b[0;34m,\u001b[0m \u001b[0mSeries\u001b[0m\u001b[0;34m)\u001b[0m\u001b[0;34m:\u001b[0m\u001b[0;34m\u001b[0m\u001b[0;34m\u001b[0m\u001b[0m\n",
      "\u001b[0;32mpandas/_libs/lib.pyx\u001b[0m in \u001b[0;36mpandas._libs.lib.map_infer\u001b[0;34m()\u001b[0m\n",
      "\u001b[0;32m<ipython-input-12-06e25eb0b4cf>\u001b[0m in \u001b[0;36mmonth_before\u001b[0;34m(m)\u001b[0m\n\u001b[1;32m      1\u001b[0m \u001b[0;32mdef\u001b[0m \u001b[0mmonth_before\u001b[0m\u001b[0;34m(\u001b[0m\u001b[0mm\u001b[0m\u001b[0;34m)\u001b[0m \u001b[0;34m->\u001b[0m \u001b[0mstr\u001b[0m\u001b[0;34m:\u001b[0m\u001b[0;34m\u001b[0m\u001b[0;34m\u001b[0m\u001b[0m\n\u001b[0;32m----> 2\u001b[0;31m     \u001b[0mdt\u001b[0m \u001b[0;34m=\u001b[0m \u001b[0mdatetime\u001b[0m\u001b[0;34m(\u001b[0m\u001b[0mm\u001b[0m\u001b[0;34m[\u001b[0m\u001b[0;36m1\u001b[0m\u001b[0;34m]\u001b[0m\u001b[0;34m,\u001b[0m \u001b[0mm\u001b[0m\u001b[0;34m[\u001b[0m\u001b[0;36m0\u001b[0m\u001b[0;34m]\u001b[0m\u001b[0;34m,\u001b[0m \u001b[0;36m1\u001b[0m\u001b[0;34m)\u001b[0m\u001b[0;34m\u001b[0m\u001b[0;34m\u001b[0m\u001b[0m\n\u001b[0m\u001b[1;32m      3\u001b[0m     if ((dt.year < lockdown_dt.year) or \n\u001b[1;32m      4\u001b[0m         (dt.year == lockdown_dt.year and dt.month < lockdown_dt.month)):\n\u001b[1;32m      5\u001b[0m         \u001b[0;32mreturn\u001b[0m \u001b[0;34m'before'\u001b[0m\u001b[0;34m\u001b[0m\u001b[0;34m\u001b[0m\u001b[0m\n",
      "\u001b[0;31mTypeError\u001b[0m: an integer is required (got type str)"
     ]
    }
   ],
   "source": [
    "opiates_keywords_by_month['period'] = opiates_keywords_by_month.months.apply(\n",
    "    month_before\n",
    ")"
   ]
  },
  {
   "cell_type": "code",
   "execution_count": 46,
   "metadata": {},
   "outputs": [],
   "source": [
    "month_df = opiates_keywords_by_month.groupby(['months', 'keywords']).agg({\n",
    "    'counts': 'sum', \n",
    "    'period': 'first',\n",
    "    'type': 'first',\n",
    "})"
   ]
  },
  {
   "cell_type": "code",
   "execution_count": 47,
   "metadata": {},
   "outputs": [],
   "source": [
    "month_full_df = month_df.reset_index()"
   ]
  },
  {
   "cell_type": "code",
   "execution_count": 48,
   "metadata": {},
   "outputs": [],
   "source": [
    "month_full_df['datetime'] = month_full_df.months.apply(lambda d: datetime(d[1], d[0], 1))"
   ]
  },
  {
   "cell_type": "code",
   "execution_count": 50,
   "metadata": {},
   "outputs": [
    {
     "data": {
      "text/html": [
       "<div>\n",
       "<style scoped>\n",
       "    .dataframe tbody tr th:only-of-type {\n",
       "        vertical-align: middle;\n",
       "    }\n",
       "\n",
       "    .dataframe tbody tr th {\n",
       "        vertical-align: top;\n",
       "    }\n",
       "\n",
       "    .dataframe thead th {\n",
       "        text-align: right;\n",
       "    }\n",
       "</style>\n",
       "<table border=\"1\" class=\"dataframe\">\n",
       "  <thead>\n",
       "    <tr style=\"text-align: right;\">\n",
       "      <th></th>\n",
       "      <th>months</th>\n",
       "      <th>keywords</th>\n",
       "      <th>counts</th>\n",
       "      <th>period</th>\n",
       "      <th>type</th>\n",
       "      <th>datetime</th>\n",
       "    </tr>\n",
       "  </thead>\n",
       "  <tbody>\n",
       "    <tr>\n",
       "      <th>0</th>\n",
       "      <td>(1, 2019)</td>\n",
       "      <td>abandon</td>\n",
       "      <td>14</td>\n",
       "      <td>before</td>\n",
       "      <td>None</td>\n",
       "      <td>2019-01-01</td>\n",
       "    </tr>\n",
       "    <tr>\n",
       "      <th>1</th>\n",
       "      <td>(1, 2019)</td>\n",
       "      <td>account</td>\n",
       "      <td>234</td>\n",
       "      <td>before</td>\n",
       "      <td>money</td>\n",
       "      <td>2019-01-01</td>\n",
       "    </tr>\n",
       "    <tr>\n",
       "      <th>2</th>\n",
       "      <td>(1, 2019)</td>\n",
       "      <td>addict</td>\n",
       "      <td>1677</td>\n",
       "      <td>before</td>\n",
       "      <td>None</td>\n",
       "      <td>2019-01-01</td>\n",
       "    </tr>\n",
       "    <tr>\n",
       "      <th>3</th>\n",
       "      <td>(1, 2019)</td>\n",
       "      <td>adjourn</td>\n",
       "      <td>0</td>\n",
       "      <td>before</td>\n",
       "      <td>None</td>\n",
       "      <td>2019-01-01</td>\n",
       "    </tr>\n",
       "    <tr>\n",
       "      <th>4</th>\n",
       "      <td>(1, 2019)</td>\n",
       "      <td>agree</td>\n",
       "      <td>720</td>\n",
       "      <td>before</td>\n",
       "      <td>None</td>\n",
       "      <td>2019-01-01</td>\n",
       "    </tr>\n",
       "  </tbody>\n",
       "</table>\n",
       "</div>"
      ],
      "text/plain": [
       "      months keywords  counts  period   type   datetime\n",
       "0  (1, 2019)  abandon      14  before   None 2019-01-01\n",
       "1  (1, 2019)  account     234  before  money 2019-01-01\n",
       "2  (1, 2019)   addict    1677  before   None 2019-01-01\n",
       "3  (1, 2019)  adjourn       0  before   None 2019-01-01\n",
       "4  (1, 2019)    agree     720  before   None 2019-01-01"
      ]
     },
     "execution_count": 50,
     "metadata": {},
     "output_type": "execute_result"
    }
   ],
   "source": [
    "month_full_df.head()"
   ]
  },
  {
   "cell_type": "code",
   "execution_count": 91,
   "metadata": {},
   "outputs": [],
   "source": [
    "addict_df = month_full_df.loc[month_full_df['keywords'] == 'addict'].sort_values('datetime')"
   ]
  },
  {
   "cell_type": "code",
   "execution_count": 92,
   "metadata": {},
   "outputs": [
    {
     "data": {
      "text/plain": [
       "[<matplotlib.lines.Line2D at 0x2b5eefb06190>]"
      ]
     },
     "execution_count": 92,
     "metadata": {},
     "output_type": "execute_result"
    },
    {
     "data": {
      "image/png": "[encoded data removed]",
      "text/plain": [
       "<Figure size 432x288 with 1 Axes>"
      ]
     },
     "metadata": {
      "needs_background": "light"
     },
     "output_type": "display_data"
    }
   ],
   "source": [
    "plt.plot(addict_df['datetime'], addict_df['counts'])"
   ]
  },
  {
   "cell_type": "code",
   "execution_count": null,
   "metadata": {},
   "outputs": [],
   "source": [
    "month_full_df.drop('months', axis=1).to_csv('cache/keyword_month_counts_10_1.csv', index=False)"
   ]
  },
  {
   "cell_type": "code",
   "execution_count": null,
   "metadata": {},
   "outputs": [],
   "source": [
    "with open('cache/opiates_month_counts.pk', 'rb') as f:\n",
    "    subr_counts = pickle.load(f)"
   ]
  },
  {
   "cell_type": "code",
   "execution_count": null,
   "metadata": {},
   "outputs": [],
   "source": [
    "subr_counts_dict = {datetime(r['_id']['year'], r['_id']['month'], 1): r['count']\n",
    "                    for r in subr_counts\n",
    "                    if r['_id']['month']}"
   ]
  },
  {
   "cell_type": "code",
   "execution_count": null,
   "metadata": {},
   "outputs": [],
   "source": [
    "subr_counts_df = pd.DataFrame.from_dict(subr_counts_dict, orient='index').reset_index()"
   ]
  },
  {
   "cell_type": "code",
   "execution_count": null,
   "metadata": {},
   "outputs": [],
   "source": [
    "subr_counts_df.columns = ['datetime', 'count']"
   ]
  },
  {
   "cell_type": "code",
   "execution_count": null,
   "metadata": {},
   "outputs": [],
   "source": [
    "subr_counts_df = subr_counts_df.sort_values('datetime')"
   ]
  },
  {
   "cell_type": "code",
   "execution_count": null,
   "metadata": {},
   "outputs": [],
   "source": [
    "subr_counts_df.to_csv('cache/opiates_subr_month_counts_10_1.csv', index=False)"
   ]
  },
  {
   "cell_type": "code",
   "execution_count": null,
   "metadata": {},
   "outputs": [],
   "source": [
    "type_df = opiates_keywords_by_month.dropna().groupby(['type', 'period']).sum()"
   ]
  },
  {
   "cell_type": "code",
   "execution_count": null,
   "metadata": {},
   "outputs": [],
   "source": [
    "g = sns.catplot(\n",
    "    data=keyword_df, kind=\"bar\",\n",
    "    x=\"keywords\", y=\"counts\", hue=\"period\",\n",
    "    ci=\"sd\", palette=\"dark\", alpha=.6, height=6\n",
    ")\n",
    "g.despine(left=True)\n",
    "g.set_axis_labels(\"\", \"Keywords\")\n",
    "g.legend.set_title(\"\")\n",
    "plt.xticks(rotation=45)\n",
    "plt.savefig('figures/keyword_counts.png', bbox_inches='tight')\n",
    "plt.show()"
   ]
  },
  {
   "cell_type": "markdown",
   "metadata": {},
   "source": [
    "## r/opiates month counts"
   ]
  },
  {
   "cell_type": "code",
   "execution_count": 52,
   "metadata": {},
   "outputs": [],
   "source": [
    "pk = pickle.load(open('cache/opiates_month_counts_2021-09-30 11:59:19.609911.pk', 'rb'))"
   ]
  },
  {
   "cell_type": "code",
   "execution_count": 68,
   "metadata": {},
   "outputs": [],
   "source": [
    "ropiates_counts = []\n",
    "ropiates_months = []\n",
    "for r in pk:\n",
    "    ropiates_counts.append(r['count'])\n",
    "    if r['_id']['year']:\n",
    "        ropiates_months.append(datetime(r['_id']['year'], r['_id']['month'], 1))\n",
    "    else: \n",
    "        ropiates_months.append(None)"
   ]
  },
  {
   "cell_type": "code",
   "execution_count": 69,
   "metadata": {},
   "outputs": [],
   "source": [
    "ropiates_month_counts_df = pd.DataFrame({\n",
    "    'counts': ropiates_counts,\n",
    "    'months': ropiates_months,\n",
    "})"
   ]
  },
  {
   "cell_type": "code",
   "execution_count": 73,
   "metadata": {},
   "outputs": [],
   "source": [
    "ropiates_month_counts_df = ropiates_month_counts_df.sort_values('months')"
   ]
  },
  {
   "cell_type": "code",
   "execution_count": 76,
   "metadata": {},
   "outputs": [],
   "source": [
    "ropiates_month_counts_df.to_csv('/work/akilby/drug_pricing_project/denhart_cache/ropiates_counts_10_4.csv')"
   ]
  },
  {
   "cell_type": "code",
   "execution_count": 77,
   "metadata": {},
   "outputs": [],
   "source": [
    "import matplotlib.pyplot as plt"
   ]
  },
  {
   "cell_type": "code",
   "execution_count": 78,
   "metadata": {},
   "outputs": [
    {
     "data": {
      "text/plain": [
       "[<matplotlib.lines.Line2D at 0x2b5eef5acbd0>]"
      ]
     },
     "execution_count": 78,
     "metadata": {},
     "output_type": "execute_result"
    },
    {
     "data": {
      "image/png": "[encoded data removed]",
      "text/plain": [
       "<Figure size 432x288 with 1 Axes>"
      ]
     },
     "metadata": {
      "needs_background": "light"
     },
     "output_type": "display_data"
    }
   ],
   "source": [
    "plt.plot(ropiates_month_counts_df.months, ropiates_month_counts_df.counts)"
   ]
  },
  {
   "cell_type": "code",
   "execution_count": 79,
   "metadata": {},
   "outputs": [],
   "source": [
    "psaw_pk = pickle.load(open('cache/psaw_comm_month_counts_2021-09-29 06:45:51.903761.pk', 'rb'))"
   ]
  },
  {
   "cell_type": "code",
   "execution_count": 81,
   "metadata": {},
   "outputs": [],
   "source": [
    "psaw_months = [datetime(r[1], r[0], 1) for r in psaw_pk.keys()]\n",
    "psaw_counts = list(psaw_pk.values())"
   ]
  },
  {
   "cell_type": "code",
   "execution_count": 85,
   "metadata": {},
   "outputs": [],
   "source": [
    "psaw_df = pd.DataFrame({\n",
    "    'months': psaw_months,\n",
    "    'counts': psaw_counts,\n",
    "}).sort_values('months')"
   ]
  },
  {
   "cell_type": "code",
   "execution_count": 88,
   "metadata": {},
   "outputs": [],
   "source": [
    "psaw_df.to_csv('/work/akilby/drug_pricing_project/denhart_cache/psaw_counts_10_4.csv')"
   ]
  },
  {
   "cell_type": "code",
   "execution_count": 87,
   "metadata": {},
   "outputs": [
    {
     "data": {
      "text/plain": [
       "(array([17775., 17897., 18017., 18140., 18262., 18383., 18506., 18628.,\n",
       "        18748., 18871.]),\n",
       " [Text(0, 0, ''),\n",
       "  Text(0, 0, ''),\n",
       "  Text(0, 0, ''),\n",
       "  Text(0, 0, ''),\n",
       "  Text(0, 0, ''),\n",
       "  Text(0, 0, ''),\n",
       "  Text(0, 0, ''),\n",
       "  Text(0, 0, ''),\n",
       "  Text(0, 0, ''),\n",
       "  Text(0, 0, '')])"
      ]
     },
     "execution_count": 87,
     "metadata": {},
     "output_type": "execute_result"
    },
    {
     "data": {
      "image/png": "[encoded data removed]",
      "text/plain": [
       "<Figure size 432x288 with 1 Axes>"
      ]
     },
     "metadata": {
      "needs_background": "light"
     },
     "output_type": "display_data"
    }
   ],
   "source": [
    "plt.plot(psaw_df['months'], psaw_df['counts'])\n",
    "plt.xticks(rotation=45)"
   ]
  },
  {
   "cell_type": "markdown",
   "metadata": {},
   "source": [
    "## Map Viz"
   ]
  },
  {
   "cell_type": "code",
   "execution_count": 11,
   "metadata": {},
   "outputs": [],
   "source": [
    "users_preds = pickle.load(open('results/user-predictions-1623287814.pk', 'rb'))"
   ]
  },
  {
   "cell_type": "code",
   "execution_count": null,
   "metadata": {},
   "outputs": [],
   "source": []
  }
 ],
 "metadata": {
  "kernelspec": {
   "display_name": "drug-pricing-2",
   "language": "python",
   "name": "drug-pricing-2"
  },
  "language_info": {
   "codemirror_mode": {
    "name": "ipython",
    "version": 3
   },
   "file_extension": ".py",
   "mimetype": "text/x-python",
   "name": "python",
   "nbconvert_exporter": "python",
   "pygments_lexer": "ipython3",
   "version": "3.7.4"
  }
 },
 "nbformat": 4,
 "nbformat_minor": 2
}
