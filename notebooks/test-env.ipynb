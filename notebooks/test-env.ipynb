{
 "cells": [
  {
   "cell_type": "markdown",
   "metadata": {},
   "source": [
    "# Test Environment"
   ]
  },
  {
   "cell_type": "markdown",
   "metadata": {},
   "source": [
    "This notebook serves as an environment to test various scripts and bits of code.  Nothing here should be dependend on."
   ]
  },
  {
   "cell_type": "code",
   "execution_count": 1,
   "metadata": {},
   "outputs": [
    {
     "name": "stdout",
     "output_type": "stream",
     "text": [
      "/Users/cccdenhart/projects/drug-pricing\n"
     ]
    }
   ],
   "source": [
    "# set the project path\n",
    "%cd ~/projects/drug-pricing"
   ]
  },
  {
   "cell_type": "code",
   "execution_count": 2,
   "metadata": {},
   "outputs": [],
   "source": [
    "%load_ext autoreload"
   ]
  },
  {
   "cell_type": "code",
   "execution_count": 3,
   "metadata": {},
   "outputs": [],
   "source": [
    "%autoreload 2\n",
    "import pandas as pd\n",
    "from tqdm import tqdm\n",
    "import numpy as np\n",
    "from scipy.special import softmax\n",
    "\n",
    "from src.scripts.aggregate_locations import main\n",
    "from src.utils import connect_to_mongo, get_nlp\n",
    "from src.schema import User, Post, SubmissionPost, CommentPost, Location\n",
    "from src.models.v1.__init__ import load_locations, V1, DENYLIST, DenylistFilter, LocationFilter, FrequencyRanker"
   ]
  },
  {
   "cell_type": "code",
   "execution_count": 23,
   "metadata": {},
   "outputs": [
    {
     "name": "stdout",
     "output_type": "stream",
     "text": [
      "Reading data .....\n",
      "Transforming data .....\n",
      "Wrote grouped locations to data/locations/grouped-locations.csv .....\n"
     ]
    }
   ],
   "source": [
    "main()"
   ]
  },
  {
   "cell_type": "code",
   "execution_count": 5,
   "metadata": {},
   "outputs": [],
   "source": [
    "connect_to_mongo()"
   ]
  },
  {
   "cell_type": "code",
   "execution_count": 24,
   "metadata": {},
   "outputs": [],
   "source": [
    "df = pd.read_csv(\"data/locations/grouped-locations.csv\")"
   ]
  },
  {
   "cell_type": "code",
   "execution_count": 26,
   "metadata": {},
   "outputs": [
    {
     "data": {
      "text/html": [
       "<div>\n",
       "<style scoped>\n",
       "    .dataframe tbody tr th:only-of-type {\n",
       "        vertical-align: middle;\n",
       "    }\n",
       "\n",
       "    .dataframe tbody tr th {\n",
       "        vertical-align: top;\n",
       "    }\n",
       "\n",
       "    .dataframe thead th {\n",
       "        text-align: right;\n",
       "    }\n",
       "</style>\n",
       "<table border=\"1\" class=\"dataframe\">\n",
       "  <thead>\n",
       "    <tr style=\"text-align: right;\">\n",
       "      <th></th>\n",
       "      <th>neighborhood</th>\n",
       "      <th>city</th>\n",
       "      <th>county</th>\n",
       "      <th>state</th>\n",
       "      <th>country</th>\n",
       "      <th>metro</th>\n",
       "      <th>state_full</th>\n",
       "    </tr>\n",
       "  </thead>\n",
       "  <tbody>\n",
       "    <tr>\n",
       "      <th>0</th>\n",
       "      <td>northeast dallas</td>\n",
       "      <td>dallas</td>\n",
       "      <td>dallas</td>\n",
       "      <td>tx</td>\n",
       "      <td>united states of america</td>\n",
       "      <td>dallas-fort worth-arlington</td>\n",
       "      <td>texas</td>\n",
       "    </tr>\n",
       "    <tr>\n",
       "      <th>1</th>\n",
       "      <td>maryvale</td>\n",
       "      <td>phoenix</td>\n",
       "      <td>maricopa</td>\n",
       "      <td>az</td>\n",
       "      <td>united states of america</td>\n",
       "      <td>phoenix-mesa-scottsdale</td>\n",
       "      <td>arizona</td>\n",
       "    </tr>\n",
       "    <tr>\n",
       "      <th>2</th>\n",
       "      <td>paradise</td>\n",
       "      <td>las vegas</td>\n",
       "      <td>clark</td>\n",
       "      <td>nv</td>\n",
       "      <td>united states of america</td>\n",
       "      <td>las vegas-henderson-paradise</td>\n",
       "      <td>nevada</td>\n",
       "    </tr>\n",
       "    <tr>\n",
       "      <th>3</th>\n",
       "      <td>upper west side</td>\n",
       "      <td>new york</td>\n",
       "      <td>new york</td>\n",
       "      <td>ny</td>\n",
       "      <td>united states of america</td>\n",
       "      <td>new york-newark-jersey city</td>\n",
       "      <td>new york</td>\n",
       "    </tr>\n",
       "    <tr>\n",
       "      <th>4</th>\n",
       "      <td>south los angeles</td>\n",
       "      <td>los angeles</td>\n",
       "      <td>los angeles</td>\n",
       "      <td>ca</td>\n",
       "      <td>united states of america</td>\n",
       "      <td>los angeles-long beach-anaheim</td>\n",
       "      <td>california</td>\n",
       "    </tr>\n",
       "  </tbody>\n",
       "</table>\n",
       "</div>"
      ],
      "text/plain": [
       "        neighborhood         city       county state  \\\n",
       "0   northeast dallas       dallas       dallas    tx   \n",
       "1           maryvale      phoenix     maricopa    az   \n",
       "2           paradise    las vegas        clark    nv   \n",
       "3    upper west side     new york     new york    ny   \n",
       "4  south los angeles  los angeles  los angeles    ca   \n",
       "\n",
       "                    country                           metro  state_full  \n",
       "0  united states of america     dallas-fort worth-arlington       texas  \n",
       "1  united states of america         phoenix-mesa-scottsdale     arizona  \n",
       "2  united states of america    las vegas-henderson-paradise      nevada  \n",
       "3  united states of america     new york-newark-jersey city    new york  \n",
       "4  united states of america  los angeles-long beach-anaheim  california  "
      ]
     },
     "execution_count": 26,
     "metadata": {},
     "output_type": "execute_result"
    }
   ],
   "source": [
    "df.head()"
   ]
  },
  {
   "cell_type": "code",
   "execution_count": 25,
   "metadata": {},
   "outputs": [
    {
     "data": {
      "text/plain": [
       "(16378, 7)"
      ]
     },
     "execution_count": 25,
     "metadata": {},
     "output_type": "execute_result"
    }
   ],
   "source": [
    "df.shape"
   ]
  },
  {
   "cell_type": "code",
   "execution_count": 8,
   "metadata": {},
   "outputs": [],
   "source": [
    "neigh = pd.read_csv(\"data/locations/neighborhoods.csv\")"
   ]
  },
  {
   "cell_type": "code",
   "execution_count": 51,
   "metadata": {},
   "outputs": [],
   "source": [
    "# define model\n",
    "fp = \"data/locations/grouped-locations.csv\"\n",
    "locations = pd.read_csv(fp)\n",
    "filters = [\n",
    "    DenylistFilter(DENYLIST),\n",
    "    LocationFilter(locations)\n",
    "]\n",
    "rankers = [FrequencyRanker()]\n",
    "nlp = get_nlp()\n",
    "\n",
    "model = V1(filters, rankers, locations, nlp)"
   ]
  },
  {
   "cell_type": "code",
   "execution_count": 65,
   "metadata": {},
   "outputs": [],
   "source": [
    "use_top = True\n",
    "if use_top:\n",
    "    # get the users with the most posts\n",
    "    # pipeline = [{\"$sortByCount\": \"$user\"}, {\"$limit\": 6}]\n",
    "    pipeline = [{\"$limit\": 6}]\n",
    "    res = Post.objects().aggregate(pipeline)\n",
    "    ids = [str(r[\"_id\"]) for r in res if r[\"_id\"]]\n",
    "    users = User.objects(id__in=ids)\n",
    "else:\n",
    "    usernames = pd.read_csv(\"data/rand_user_200.csv\", squeeze=True).tolist()\n",
    "    users = User.objects(username__in=usernames).all()"
   ]
  },
  {
   "cell_type": "code",
   "execution_count": 66,
   "metadata": {},
   "outputs": [],
   "source": [
    "entscores = [model.score_entities(u) for u in users]"
   ]
  },
  {
   "cell_type": "code",
   "execution_count": 67,
   "metadata": {},
   "outputs": [],
   "source": [
    "locscores = [model.score_locations(e) for e in entscores]"
   ]
  },
  {
   "cell_type": "code",
   "execution_count": 68,
   "metadata": {},
   "outputs": [
    {
     "data": {
      "text/plain": [
       "[]"
      ]
     },
     "execution_count": 68,
     "metadata": {},
     "output_type": "execute_result"
    }
   ],
   "source": [
    "[len(e) for e in entscores]"
   ]
  },
  {
   "cell_type": "code",
   "execution_count": 64,
   "metadata": {},
   "outputs": [
    {
     "data": {
      "text/plain": [
       "[]"
      ]
     },
     "execution_count": 64,
     "metadata": {},
     "output_type": "execute_result"
    }
   ],
   "source": [
    "[len(l) for l in locscores]"
   ]
  },
  {
   "cell_type": "code",
   "execution_count": 58,
   "metadata": {},
   "outputs": [
    {
     "data": {
      "text/plain": [
       "{'san diego': 1.0,\n",
       " 'virginia': 1.0,\n",
       " 'massachusetts': 2.0,\n",
       " 'cambodia': 1.0,\n",
       " 'arizona': 1.0,\n",
       " 'phoenix': 1.0,\n",
       " 'san antonio': 1.0,\n",
       " 'louisville': 1.0,\n",
       " 'lexington': 2.0,\n",
       " 'missouri': 2.0,\n",
       " 'florida': 1.0,\n",
       " 'chicago': 1.0,\n",
       " 'minnesota': 2.0,\n",
       " 'kentucky': 1.0,\n",
       " 'texas': 1.0,\n",
       " 'canada': 1.0,\n",
       " 'illinois': 1.0,\n",
       " 'new york': 1.0}"
      ]
     },
     "execution_count": 58,
     "metadata": {},
     "output_type": "execute_result"
    }
   ],
   "source": [
    "entscores[1]"
   ]
  },
  {
   "cell_type": "code",
   "execution_count": 55,
   "metadata": {},
   "outputs": [
    {
     "data": {
      "text/plain": [
       "[('elkhart-goshen', 0.0007792002494621963),\n",
       " ('sacramento--roseville--arden-arcade', 0.0007792002494621963),\n",
       " ('new orleans-metairie', 0.0007792002494621963),\n",
       " ('chicago-naperville-elgin', 0.00028665175233280127),\n",
       " ('orlando-kissimmee-sanford', 0.00028665175233280127),\n",
       " ('miami-fort lauderdale-west palm beach', 0.00028665175233280127),\n",
       " ('indianapolis-carmel-anderson', 0.00028665175233280127),\n",
       " ('anchorage', 0.00028665175233280127),\n",
       " ('north port-sarasota-bradenton', 0.00028665175233280127),\n",
       " ('tampa-st. petersburg-clearwater', 0.00028665175233280127),\n",
       " ('urban honolulu', 0.00028665175233280127),\n",
       " ('jacksonville', 0.00028665175233280127),\n",
       " ('cape coral-fort myers', 0.00028665175233280127),\n",
       " ('tallahassee', 0.00028665175233280127),\n",
       " ('charleston', 0.00028665175233280127),\n",
       " ('panama city', 0.00028665175233280127),\n",
       " ('homosassa springs', 0.00028665175233280127),\n",
       " ('port st. lucie', 0.00028665175233280127),\n",
       " ('key west', 0.00028665175233280127),\n",
       " ('new haven-milford', 0.00028665175233280127),\n",
       " ('pensacola-ferry pass-brent', 0.00028665175233280127),\n",
       " ('muncie', 0.00028665175233280127),\n",
       " ('philadelphia-camden-wilmington', 0.00028665175233280127),\n",
       " ('fort wayne', 0.00028665175233280127),\n",
       " ('naples-immokalee-marco island', 0.00028665175233280127),\n",
       " ('south bend-mishawaka', 0.00028665175233280127),\n",
       " ('evansville', 0.00028665175233280127),\n",
       " ('palm bay-melbourne-titusville', 0.00028665175233280127),\n",
       " ('deltona-daytona beach-ormond beach', 0.00028665175233280127),\n",
       " ('gainesville', 0.00028665175233280127),\n",
       " ('bloomington', 0.00028665175233280127),\n",
       " ('morgantown', 0.00028665175233280127),\n",
       " ('lakeland-winter haven', 0.00028665175233280127),\n",
       " ('fairbanks', 0.00028665175233280127),\n",
       " ('lafayette-west lafayette', 0.00028665175233280127),\n",
       " ('marion', 0.00028665175233280127),\n",
       " ('atlanta-sandy springs-roswell', 0.00028665175233280127),\n",
       " ('louisville/jefferson county', 0.00028665175233280127),\n",
       " ('hagerstown-martinsburg', 0.00028665175233280127),\n",
       " ('kokomo', 0.00028665175233280127),\n",
       " (nan, 0.00028665175233280127)]"
      ]
     },
     "execution_count": 55,
     "metadata": {},
     "output_type": "execute_result"
    }
   ],
   "source": [
    "locscores[3]"
   ]
  },
  {
   "cell_type": "code",
   "execution_count": null,
   "metadata": {},
   "outputs": [],
   "source": []
  }
 ],
 "metadata": {
  "kernelspec": {
   "display_name": "Python 3",
   "language": "python",
   "name": "python3"
  },
  "language_info": {
   "codemirror_mode": {
    "name": "ipython",
    "version": 3
   },
   "file_extension": ".py",
   "mimetype": "text/x-python",
   "name": "python",
   "nbconvert_exporter": "python",
   "pygments_lexer": "ipython3",
   "version": "3.7.3"
  }
 },
 "nbformat": 4,
 "nbformat_minor": 4
}
