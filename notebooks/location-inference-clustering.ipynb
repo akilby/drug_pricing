{
 "cells": [
  {
   "cell_type": "markdown",
   "metadata": {},
   "source": [
    "# Location Inference Strategy with Clustering\n",
    "**IDEA**: cluster extracted entities by coordinates\n",
    "\n",
    "**Strengths**:\n",
    "- computationally friendly\n",
    "- allows prediction output to be treated as real value (rather than granular classification)\n",
    "- results can be comparable to previous studies (e.g. pct of users correct within 100 miles)\n",
    "\n",
    "**Weaknesses**:\n",
    "- disregards entities that are not in gazetteer (doesn't learn representation of reddit lingo)\n",
    "- depends on spacy (may not be great for NER in reddit)\n",
    "\n",
    "**Steps**:\n",
    "1. Prepare gazetteer\n",
    "    - Filter locations by population (> 50k?)\n",
    "    - For international data, only include country\n",
    "2. Prepare entities\n",
    "    - extract all location entities\n",
    "    - filter location entities by if they exist in gazetteer\n",
    "3. Cluster entities\n",
    "    - group entities per user\n",
    "    - geocode every possibility that the entity could represent\n",
    "    - extract highest density cluster\n",
    "4. Group clusters\n",
    "    - calculate coordinates for the center of the cluster\n",
    "    - reverse geocode to find the closest real location from the cluster center"
   ]
  },
  {
   "cell_type": "markdown",
   "metadata": {},
   "source": [
    "## Load data"
   ]
  },
  {
   "cell_type": "code",
   "execution_count": 1,
   "metadata": {},
   "outputs": [
    {
     "name": "stdout",
     "output_type": "stream",
     "text": [
      "/home/denhart.c/projects/drug-pricing\n"
     ]
    }
   ],
   "source": [
    "# set the project path\n",
    "%cd ~/projects/drug-pricing"
   ]
  },
  {
   "cell_type": "code",
   "execution_count": 2,
   "metadata": {},
   "outputs": [],
   "source": [
    "%load_ext autoreload"
   ]
  },
  {
   "cell_type": "code",
   "execution_count": 38,
   "metadata": {},
   "outputs": [],
   "source": [
    "%autoreload 2\n",
    "import pandas as pd\n",
    "from tqdm import tqdm\n",
    "import numpy as np\n",
    "from scipy.special import softmax\n",
    "from typing import List\n",
    "import functools as ft\n",
    "import geocoder\n",
    "\n",
    "from src.utils import connect_to_mongo, get_nlp\n",
    "from src.schema import User, Post, SubmissionPost, CommentPost, Location\n",
    "from src.models.v1.__init__ import get_user_spacy, get_ents, DENYLIST\n",
    "from src.models.v1.filters import BaseFilter, DenylistFilter, LocationFilter"
   ]
  },
  {
   "cell_type": "code",
   "execution_count": 19,
   "metadata": {},
   "outputs": [],
   "source": [
    "connect_to_mongo()\n",
    "nlp = get_nlp()\n",
    "mapbox_key = \"pk.eyJ1IjoiY2NjZGVuaGFydCIsImEiOiJjamtzdjNuNHAyMjB4M3B0ZHVoY3l2MndtIn0.jkJIFGPTN7oSkQlHi0xtow\""
   ]
  },
  {
   "cell_type": "markdown",
   "metadata": {},
   "source": [
    "## Prepare Gazetteer"
   ]
  },
  {
   "cell_type": "code",
   "execution_count": 6,
   "metadata": {},
   "outputs": [],
   "source": [
    "gazetteer = pd.read_csv(\"data/locations/grouped-locations.csv\")"
   ]
  },
  {
   "cell_type": "code",
   "execution_count": 7,
   "metadata": {},
   "outputs": [
    {
     "data": {
      "text/html": [
       "<div>\n",
       "<style scoped>\n",
       "    .dataframe tbody tr th:only-of-type {\n",
       "        vertical-align: middle;\n",
       "    }\n",
       "\n",
       "    .dataframe tbody tr th {\n",
       "        vertical-align: top;\n",
       "    }\n",
       "\n",
       "    .dataframe thead th {\n",
       "        text-align: right;\n",
       "    }\n",
       "</style>\n",
       "<table border=\"1\" class=\"dataframe\">\n",
       "  <thead>\n",
       "    <tr style=\"text-align: right;\">\n",
       "      <th></th>\n",
       "      <th>neighborhood</th>\n",
       "      <th>city</th>\n",
       "      <th>county</th>\n",
       "      <th>state</th>\n",
       "      <th>country</th>\n",
       "      <th>metro</th>\n",
       "      <th>state_full</th>\n",
       "    </tr>\n",
       "  </thead>\n",
       "  <tbody>\n",
       "    <tr>\n",
       "      <th>0</th>\n",
       "      <td>northeast dallas</td>\n",
       "      <td>dallas</td>\n",
       "      <td>dallas</td>\n",
       "      <td>tx</td>\n",
       "      <td>united states of america</td>\n",
       "      <td>dallas-fort worth-arlington</td>\n",
       "      <td>texas</td>\n",
       "    </tr>\n",
       "    <tr>\n",
       "      <th>1</th>\n",
       "      <td>maryvale</td>\n",
       "      <td>phoenix</td>\n",
       "      <td>maricopa</td>\n",
       "      <td>az</td>\n",
       "      <td>united states of america</td>\n",
       "      <td>phoenix-mesa-scottsdale</td>\n",
       "      <td>arizona</td>\n",
       "    </tr>\n",
       "    <tr>\n",
       "      <th>2</th>\n",
       "      <td>paradise</td>\n",
       "      <td>las vegas</td>\n",
       "      <td>clark</td>\n",
       "      <td>nv</td>\n",
       "      <td>united states of america</td>\n",
       "      <td>las vegas-henderson-paradise</td>\n",
       "      <td>nevada</td>\n",
       "    </tr>\n",
       "    <tr>\n",
       "      <th>3</th>\n",
       "      <td>upper west side</td>\n",
       "      <td>new york</td>\n",
       "      <td>new york</td>\n",
       "      <td>ny</td>\n",
       "      <td>united states of america</td>\n",
       "      <td>new york-newark-jersey city</td>\n",
       "      <td>new york</td>\n",
       "    </tr>\n",
       "    <tr>\n",
       "      <th>4</th>\n",
       "      <td>south los angeles</td>\n",
       "      <td>los angeles</td>\n",
       "      <td>los angeles</td>\n",
       "      <td>ca</td>\n",
       "      <td>united states of america</td>\n",
       "      <td>los angeles-long beach-anaheim</td>\n",
       "      <td>california</td>\n",
       "    </tr>\n",
       "  </tbody>\n",
       "</table>\n",
       "</div>"
      ],
      "text/plain": [
       "        neighborhood         city       county state  \\\n",
       "0   northeast dallas       dallas       dallas    tx   \n",
       "1           maryvale      phoenix     maricopa    az   \n",
       "2           paradise    las vegas        clark    nv   \n",
       "3    upper west side     new york     new york    ny   \n",
       "4  south los angeles  los angeles  los angeles    ca   \n",
       "\n",
       "                    country                           metro  state_full  \n",
       "0  united states of america     dallas-fort worth-arlington       texas  \n",
       "1  united states of america         phoenix-mesa-scottsdale     arizona  \n",
       "2  united states of america    las vegas-henderson-paradise      nevada  \n",
       "3  united states of america     new york-newark-jersey city    new york  \n",
       "4  united states of america  los angeles-long beach-anaheim  california  "
      ]
     },
     "execution_count": 7,
     "metadata": {},
     "output_type": "execute_result"
    }
   ],
   "source": [
    "gazetteer.head()"
   ]
  },
  {
   "cell_type": "markdown",
   "metadata": {},
   "source": [
    "## Prepare entities"
   ]
  },
  {
   "cell_type": "code",
   "execution_count": 13,
   "metadata": {},
   "outputs": [],
   "source": [
    "username = \"traceyh415\"\n",
    "u = User.objects(username=username).first()"
   ]
  },
  {
   "cell_type": "code",
   "execution_count": 28,
   "metadata": {},
   "outputs": [],
   "source": [
    "def filter_entities(entities: List[str], filters: List[BaseFilter]) -> List[str]:\n",
    "    \"\"\"Filter out entities based on filter criteria of the given filters.\"\"\"\n",
    "    distinct_entities = set(entities)\n",
    "    possible_entities = ft.reduce(lambda acc, f: f.filter(acc), \n",
    "                                  filters, \n",
    "                                  distinct_entities)\n",
    "    filtered_entities = [entity for entity in entities if entity in possible_entities]\n",
    "    return filtered_entities"
   ]
  },
  {
   "cell_type": "code",
   "execution_count": 32,
   "metadata": {},
   "outputs": [],
   "source": [
    "filters = [DenylistFilter(DENYLIST), LocationFilter(gazetteer)]"
   ]
  },
  {
   "cell_type": "code",
   "execution_count": 20,
   "metadata": {},
   "outputs": [],
   "source": [
    "user_spacy_docs = get_user_spacy(u, nlp)"
   ]
  },
  {
   "cell_type": "code",
   "execution_count": 21,
   "metadata": {},
   "outputs": [],
   "source": [
    "user_entities = get_ents(user_spacy_docs, \"GPE\")"
   ]
  },
  {
   "cell_type": "code",
   "execution_count": 33,
   "metadata": {},
   "outputs": [],
   "source": [
    "filtered_user_entities = filter_entities(user_entities, filters)"
   ]
  },
  {
   "cell_type": "code",
   "execution_count": 35,
   "metadata": {},
   "outputs": [
    {
     "data": {
      "text/plain": [
       "602"
      ]
     },
     "execution_count": 35,
     "metadata": {},
     "output_type": "execute_result"
    }
   ],
   "source": [
    "len(filtered_user_entities)"
   ]
  },
  {
   "cell_type": "markdown",
   "metadata": {},
   "source": [
    "## Cluster entities"
   ]
  },
  {
   "cell_type": "code",
   "execution_count": 39,
   "metadata": {},
   "outputs": [],
   "source": [
    "e = filtered_user_entities[0]"
   ]
  },
  {
   "cell_type": "code",
   "execution_count": 40,
   "metadata": {},
   "outputs": [
    {
     "data": {
      "text/plain": [
       "'rhode island'"
      ]
     },
     "execution_count": 40,
     "metadata": {},
     "output_type": "execute_result"
    }
   ],
   "source": [
    "e"
   ]
  },
  {
   "cell_type": "code",
   "execution_count": 45,
   "metadata": {},
   "outputs": [
    {
     "name": "stderr",
     "output_type": "stream",
     "text": [
      "Status code Unknown from https://api.mapbox.com/geocoding/v5/mapbox.places/rhode island.json: ERROR - HTTPSConnectionPool(host='api.mapbox.com', port=443): Max retries exceeded with url: /geocoding/v5/mapbox.places/rhode%20island.json?access_token=pk.eyJ1IjoiY2NjZGVuaGFydCIsImEiOiJjamtzdjNuNHAyMjB4M3B0ZHVoY3l2MndtIn0.jkJIFGPTN7oSkQlHi0xtow (Caused by ConnectTimeoutError(<urllib3.connection.VerifiedHTTPSConnection object at 0x2b7bc9f25190>, 'Connection to api.mapbox.com timed out. (connect timeout=5.0)'))\n"
     ]
    }
   ],
   "source": [
    "g = geocoder.mapbox(e, key=mapbox_key)"
   ]
  },
  {
   "cell_type": "code",
   "execution_count": 46,
   "metadata": {},
   "outputs": [],
   "source": [
    "import requests"
   ]
  },
  {
   "cell_type": "code",
   "execution_count": null,
   "metadata": {},
   "outputs": [],
   "source": [
    "!curl www.wikipedia.com"
   ]
  },
  {
   "cell_type": "code",
   "execution_count": null,
   "metadata": {},
   "outputs": [],
   "source": []
  }
 ],
 "metadata": {
  "kernelspec": {
   "display_name": "drug-pricing",
   "language": "python",
   "name": "drug-pricing"
  },
  "language_info": {
   "codemirror_mode": {
    "name": "ipython",
    "version": 3
   },
   "file_extension": ".py",
   "mimetype": "text/x-python",
   "name": "python",
   "nbconvert_exporter": "python",
   "pygments_lexer": "ipython3",
   "version": "3.7.4"
  }
 },
 "nbformat": 4,
 "nbformat_minor": 2
}
