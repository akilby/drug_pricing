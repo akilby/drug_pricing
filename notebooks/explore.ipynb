{
 "cells": [
  {
   "cell_type": "code",
   "execution_count": 1,
   "metadata": {},
   "outputs": [],
   "source": [
    "import os\n",
    "import pandas as pd\n",
    "import csv\n",
    "from pandas.io.common import EmptyDataError"
   ]
  },
  {
   "cell_type": "code",
   "execution_count": 10,
   "metadata": {},
   "outputs": [],
   "source": [
    "# constants\n",
    "root = \"/work/akilby/drug_pricing_project/opiates/opiates/\"\n",
    "thread_fn = os.path.join(root, \"threads/r_opiates_1514592000_1515196800.csv\")\n",
    "comment_fn = os.path.join(root, \"comments/complete/opiates_101pxa.csv\")"
   ]
  },
  {
   "cell_type": "code",
   "execution_count": 3,
   "metadata": {},
   "outputs": [],
   "source": [
    "def read_all_files(data_loc):\n",
    "    \"\"\"\n",
    "    Reads text from each file in the given directory into a single dataframe\n",
    "    String --> DataFrame\n",
    "    :param loc: the directory filepath containing the text files\n",
    "    :returns full_df: the resulting combined dataframe\n",
    "    \"\"\"\n",
    "    full_df = pd.DataFrame()\n",
    "    for fn in os.listdir(data_loc):\n",
    "        fp = os.path.join(data_loc, fn)\n",
    "        try:\n",
    "            cur_df = pd.read_csv(fp, header=None)\n",
    "            full_df.append(cur_df)\n",
    "        except EmptyDataError:\n",
    "            pass\n",
    "    return full_df"
   ]
  },
  {
   "cell_type": "code",
   "execution_count": null,
   "metadata": {},
   "outputs": [],
   "source": [
    "# read threads and comments into dataframes\n",
    "thread_df = read_all_files(os.path.join(root, \"threads\"))\n",
    "comm_df = read_all_files(os.path.join(root, \"comments\", \"complete\"))"
   ]
  },
  {
   "cell_type": "code",
   "execution_count": 12,
   "metadata": {},
   "outputs": [],
   "source": [
    "thread_df = pd.read_csv(thread_fn, header=None)\n",
    "comm_df = pd.read_csv(comment_fn, header=None)"
   ]
  },
  {
   "cell_type": "code",
   "execution_count": 13,
   "metadata": {},
   "outputs": [
    {
     "data": {
      "text/html": [
       "<div>\n",
       "<style scoped>\n",
       "    .dataframe tbody tr th:only-of-type {\n",
       "        vertical-align: middle;\n",
       "    }\n",
       "\n",
       "    .dataframe tbody tr th {\n",
       "        vertical-align: top;\n",
       "    }\n",
       "\n",
       "    .dataframe thead th {\n",
       "        text-align: right;\n",
       "    }\n",
       "</style>\n",
       "<table border=\"1\" class=\"dataframe\">\n",
       "  <thead>\n",
       "    <tr style=\"text-align: right;\">\n",
       "      <th></th>\n",
       "      <th>0</th>\n",
       "      <th>1</th>\n",
       "      <th>2</th>\n",
       "      <th>3</th>\n",
       "      <th>4</th>\n",
       "      <th>5</th>\n",
       "      <th>6</th>\n",
       "      <th>7</th>\n",
       "    </tr>\n",
       "  </thead>\n",
       "  <tbody>\n",
       "    <tr>\n",
       "      <th>0</th>\n",
       "      <td>7n255u</td>\n",
       "      <td>https://www.reddit.com/r/opiates/comments/7n25...</td>\n",
       "      <td>10</td>\n",
       "      <td>https://redd.it/7n255u</td>\n",
       "      <td>schizoidparanoid</td>\n",
       "      <td>Raise your hand if you’re sitting at the spot ...</td>\n",
       "      <td>NaN</td>\n",
       "      <td>1.514648e+09</td>\n",
       "    </tr>\n",
       "    <tr>\n",
       "      <th>1</th>\n",
       "      <td>7n2291</td>\n",
       "      <td>https://i.redd.it/b3fpw3d1v2701.jpg</td>\n",
       "      <td>20</td>\n",
       "      <td>https://redd.it/7n2291</td>\n",
       "      <td>beepbeeptoottoot</td>\n",
       "      <td>Fucking norcos</td>\n",
       "      <td>NaN</td>\n",
       "      <td>1.514647e+09</td>\n",
       "    </tr>\n",
       "    <tr>\n",
       "      <th>2</th>\n",
       "      <td>7n20r3</td>\n",
       "      <td>https://i.redd.it/0kt3m1hlt2701.jpg</td>\n",
       "      <td>47</td>\n",
       "      <td>https://redd.it/7n20r3</td>\n",
       "      <td>HostDisorder</td>\n",
       "      <td>rare pickup for me</td>\n",
       "      <td>NaN</td>\n",
       "      <td>1.514647e+09</td>\n",
       "    </tr>\n",
       "    <tr>\n",
       "      <th>3</th>\n",
       "      <td>7n0mzc</td>\n",
       "      <td>https://imgur.com/gallery/pCPjm</td>\n",
       "      <td>3</td>\n",
       "      <td>https://redd.it/7n0mzc</td>\n",
       "      <td>Burner_001</td>\n",
       "      <td>I am one happy boy!</td>\n",
       "      <td>NaN</td>\n",
       "      <td>1.514624e+09</td>\n",
       "    </tr>\n",
       "    <tr>\n",
       "      <th>4</th>\n",
       "      <td>7n0i78</td>\n",
       "      <td>https://www.reddit.com/r/opiates/comments/7n0i...</td>\n",
       "      <td>126</td>\n",
       "      <td>https://redd.it/7n0i78</td>\n",
       "      <td>spinderella69</td>\n",
       "      <td>Can we all be adults here please?</td>\n",
       "      <td>There has been a **lot** or drama on this sub ...</td>\n",
       "      <td>1.514622e+09</td>\n",
       "    </tr>\n",
       "  </tbody>\n",
       "</table>\n",
       "</div>"
      ],
      "text/plain": [
       "        0                                                  1    2  \\\n",
       "0  7n255u  https://www.reddit.com/r/opiates/comments/7n25...   10   \n",
       "1  7n2291                https://i.redd.it/b3fpw3d1v2701.jpg   20   \n",
       "2  7n20r3                https://i.redd.it/0kt3m1hlt2701.jpg   47   \n",
       "3  7n0mzc                    https://imgur.com/gallery/pCPjm    3   \n",
       "4  7n0i78  https://www.reddit.com/r/opiates/comments/7n0i...  126   \n",
       "\n",
       "                        3                 4  \\\n",
       "0  https://redd.it/7n255u  schizoidparanoid   \n",
       "1  https://redd.it/7n2291  beepbeeptoottoot   \n",
       "2  https://redd.it/7n20r3      HostDisorder   \n",
       "3  https://redd.it/7n0mzc        Burner_001   \n",
       "4  https://redd.it/7n0i78     spinderella69   \n",
       "\n",
       "                                                   5  \\\n",
       "0  Raise your hand if you’re sitting at the spot ...   \n",
       "1                                     Fucking norcos   \n",
       "2                                 rare pickup for me   \n",
       "3                                I am one happy boy!   \n",
       "4                  Can we all be adults here please?   \n",
       "\n",
       "                                                   6             7  \n",
       "0                                                NaN  1.514648e+09  \n",
       "1                                                NaN  1.514647e+09  \n",
       "2                                                NaN  1.514647e+09  \n",
       "3                                                NaN  1.514624e+09  \n",
       "4  There has been a **lot** or drama on this sub ...  1.514622e+09  "
      ]
     },
     "execution_count": 13,
     "metadata": {},
     "output_type": "execute_result"
    }
   ],
   "source": [
    "thread_df.head()"
   ]
  },
  {
   "cell_type": "code",
   "execution_count": 14,
   "metadata": {},
   "outputs": [
    {
     "data": {
      "text/html": [
       "<div>\n",
       "<style scoped>\n",
       "    .dataframe tbody tr th:only-of-type {\n",
       "        vertical-align: middle;\n",
       "    }\n",
       "\n",
       "    .dataframe tbody tr th {\n",
       "        vertical-align: top;\n",
       "    }\n",
       "\n",
       "    .dataframe thead th {\n",
       "        text-align: right;\n",
       "    }\n",
       "</style>\n",
       "<table border=\"1\" class=\"dataframe\">\n",
       "  <thead>\n",
       "    <tr style=\"text-align: right;\">\n",
       "      <th></th>\n",
       "      <th>0</th>\n",
       "      <th>1</th>\n",
       "      <th>2</th>\n",
       "      <th>3</th>\n",
       "      <th>4</th>\n",
       "      <th>5</th>\n",
       "    </tr>\n",
       "  </thead>\n",
       "  <tbody>\n",
       "    <tr>\n",
       "      <th>0</th>\n",
       "      <td>c69qdji</td>\n",
       "      <td>https://www.reddit.com/r/opiates/comments/101p...</td>\n",
       "      <td>t3_101pxa</td>\n",
       "      <td>90-120mg? And yeah it should work</td>\n",
       "      <td>NaN</td>\n",
       "      <td>1.347938e+09</td>\n",
       "    </tr>\n",
       "    <tr>\n",
       "      <th>1</th>\n",
       "      <td>c6alnw6</td>\n",
       "      <td>https://www.reddit.com/r/opiates/comments/101p...</td>\n",
       "      <td>t3_101pxa</td>\n",
       "      <td>You can plug a tire iron. Doesn't mean its a g...</td>\n",
       "      <td>belovely</td>\n",
       "      <td>1.348089e+09</td>\n",
       "    </tr>\n",
       "  </tbody>\n",
       "</table>\n",
       "</div>"
      ],
      "text/plain": [
       "         0                                                  1          2  \\\n",
       "0  c69qdji  https://www.reddit.com/r/opiates/comments/101p...  t3_101pxa   \n",
       "1  c6alnw6  https://www.reddit.com/r/opiates/comments/101p...  t3_101pxa   \n",
       "\n",
       "                                                   3         4             5  \n",
       "0                  90-120mg? And yeah it should work       NaN  1.347938e+09  \n",
       "1  You can plug a tire iron. Doesn't mean its a g...  belovely  1.348089e+09  "
      ]
     },
     "execution_count": 14,
     "metadata": {},
     "output_type": "execute_result"
    }
   ],
   "source": [
    "comm_df.head()"
   ]
  },
  {
   "cell_type": "code",
   "execution_count": null,
   "metadata": {},
   "outputs": [],
   "source": []
  }
 ],
 "metadata": {
  "kernelspec": {
   "display_name": "Python 3",
   "language": "python",
   "name": "python3"
  },
  "language_info": {
   "codemirror_mode": {
    "name": "ipython",
    "version": 3
   },
   "file_extension": ".py",
   "mimetype": "text/x-python",
   "name": "python",
   "nbconvert_exporter": "python",
   "pygments_lexer": "ipython3",
   "version": "3.7.3"
  }
 },
 "nbformat": 4,
 "nbformat_minor": 4
}
