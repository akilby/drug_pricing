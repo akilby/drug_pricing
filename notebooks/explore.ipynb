{
 "cells": [
  {
   "cell_type": "code",
   "execution_count": 25,
   "metadata": {},
   "outputs": [],
   "source": [
    "import pymongo\n",
    "from pprint import pprint\n",
    "from datetime import datetime"
   ]
  },
  {
   "cell_type": "code",
   "execution_count": 26,
   "metadata": {},
   "outputs": [],
   "source": [
    "def utc_to_dt(utc: float) -> datetime:\n",
    "    \"\"\"Convert a unix time to a python datetime.\"\"\"\n",
    "    return datetime.utcfromtimestamp(int(utc))"
   ]
  },
  {
   "cell_type": "code",
   "execution_count": 6,
   "metadata": {},
   "outputs": [],
   "source": [
    "# define mongo connection\n",
    "conn = pymongo.MongoClient('localhost', 27017)\n",
    "db = conn[\"drug_pricing\"]\n",
    "coll = db[\"praw\"]"
   ]
  },
  {
   "cell_type": "code",
   "execution_count": 52,
   "metadata": {},
   "outputs": [],
   "source": [
    "q = coll.find({ \"$text\": {\"$search\": \"lawrence november 2019\"} })"
   ]
  },
  {
   "cell_type": "code",
   "execution_count": 53,
   "metadata": {},
   "outputs": [
    {
     "name": "stdout",
     "output_type": "stream",
     "text": [
      "I am a bit of a science nerd, on an amatuer basis, and like reading articles related to tech and addiction.\n",
      "\n",
      "So this morning, my favorite tech site is talking about gene editing and the state of the art in fixing your crappy genes. There is a technique called CRISPR that scientists now have available. If I am getting this right, they can kind of cut and paste genes now. They use enzymes to take out bad dna and replace it with better, improved versions.\n",
      "\n",
      "Then, to get the new dna into the body, they take a common virus, put the new dna inside, and inject it into a mouse to infect the little guy with better genetic material.\n",
      "\n",
      "The idea is that the new dna will replace whatever bad gene is causing the issues.\n",
      "\n",
      "Seems a good fit for addiction. Right? Just find whatever gene causes you to do dope, cut it out and replace it with normal person dna.\n",
      "\n",
      "Well, not quite that simple. Yet. First, it is not for sure that addiction is caused by genes. Current thinking in the US is that it is a 50 - 50 deal between the environment and genetics. Read more in the link below.\n",
      "\n",
      "BUT - that is info gathered in the US.\n",
      "\n",
      "In Japan, if I understand correctly, only a tiny portion of the population are drug addicts or even drunks.\n",
      "\n",
      "The Japanese are very intolerant of illegal drugs and they still have a society where people are pretty much homogenous, meaning they are not that into cultural diversity. They sort of look alike, make decisions together, and are super sensitive to pissing each other off. Hence the bows, respect, etc.\n",
      "\n",
      "From what I gather, they arrest something like 13,000 people every year on drug charges.\n",
      "\n",
      "Unless, of course, you are Paul Mccartney or another foreign devil musician, in which case they are going to bust the shit out of you and make your life miserable for coming over there to entertain them. Stash that dope, Paul!\n",
      "\n",
      "Just kidding. I like and admire the Japanese.\n",
      "\n",
      "In the US, I am pretty sure arrest figures are in the millions.\n",
      "\n",
      "But wait, if it is true that most opiate addicts are exposed to addiction by pharmaceutical products, should we not have similar rates of addiction? The Japanese have doctors too, after all.\n",
      "\n",
      "BUT - nothing is ever that simple. In research involving where addiction comes from, there is a shitload of conflicting and complicated information. Which is why we have scientists to stay awake at night figuring this stuff out.\n",
      "\n",
      "At this point, no, they cannot simply get rid of addiction genes. And even if they could, some people would still be addicts.\n",
      "\n",
      "10 years from now? I would say there is a good possibility science will be able to help us out.\n",
      "\n",
      "Here are the links for the articles I refer to, if anyone is interested.\n",
      "\n",
      "[https://arstechnica.com/science/2019/02/were-still-a-long-way-from-using-gene-editing-for-medical-conditions/](https://arstechnica.com/science/2019/02/were-still-a-long-way-from-using-gene-editing-for-medical-conditions/)\n",
      "\n",
      "&#x200B;\n",
      "\n",
      "[https://geneticliteracyproject.org/2019/01/18/how-much-can-we-blame-our-genes-for-addictive-behavior/](https://geneticliteracyproject.org/2019/01/18/how-much-can-we-blame-our-genes-for-addictive-behavior/)\n",
      "\n",
      "&#x200B;\n"
     ]
    }
   ],
   "source": [
    "print(q[0][\"text\"])"
   ]
  },
  {
   "cell_type": "code",
   "execution_count": 54,
   "metadata": {},
   "outputs": [
    {
     "data": {
      "text/plain": [
       "'2010-04-19 18:30:57'"
      ]
     },
     "execution_count": 54,
     "metadata": {},
     "output_type": "execute_result"
    }
   ],
   "source": [
    "str(utc_to_dt(1271701857))"
   ]
  },
  {
   "cell_type": "code",
   "execution_count": null,
   "metadata": {},
   "outputs": [],
   "source": []
  }
 ],
 "metadata": {
  "kernelspec": {
   "display_name": "Python 3",
   "language": "python",
   "name": "python3"
  },
  "language_info": {
   "codemirror_mode": {
    "name": "ipython",
    "version": 3
   },
   "file_extension": ".py",
   "mimetype": "text/x-python",
   "name": "python",
   "nbconvert_exporter": "python",
   "pygments_lexer": "ipython3",
   "version": "3.7.5"
  }
 },
 "nbformat": 4,
 "nbformat_minor": 4
}
