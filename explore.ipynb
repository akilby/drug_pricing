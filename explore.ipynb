{
 "cells": [
  {
   "cell_type": "markdown",
   "metadata": {},
   "source": [
    "# Utility Functions"
   ]
  },
  {
   "cell_type": "code",
   "execution_count": 23,
   "metadata": {},
   "outputs": [],
   "source": [
    "# type annotations\n",
    "from typing import List, Set, Tuple\n",
    "from datetime import datetime, date\n",
    "import pandas as pd\n",
    "import numpy as np\n",
    "import functools as ft\n",
    "from praw import Reddit\n",
    "from psaw import PushshiftAPI\n",
    "import spacy\n",
    "from spacy.lang.en import English\n",
    "from spacy.tokens import DocBin\n",
    "nlp = spacy.load(\"en_core_web_sm\")"
   ]
  },
  {
   "cell_type": "code",
   "execution_count": 14,
   "metadata": {
    "collapsed": false,
    "jupyter": {
     "outputs_hidden": false
    }
   },
   "outputs": [],
   "source": [
    "def word_per_year(df: pd.DataFrame, words: List[str], user_counts: List[int]) -> pd.DataFrame:\n",
    "    \"\"\"\n",
    "    Find the number of occurrences of the word per year in the df.\n",
    "    Also returns a column with word counts normalized by active user counts.\n",
    "    \n",
    "    Note: assumes columns names \"text\" and \"year\" in the df.\n",
    "    \"\"\"\n",
    "    years: List[str] = list(df[\"year\"].unique())\n",
    "    check_in = lambda text: 1 if len(set(words) & set(str(text).split())) > 0 else 0\n",
    "    countw = lambda year: df.loc[df.year == year, \"lower_text\"].apply(check_in).sum()\n",
    "    word_counts: List[int] = [countw(year) for year in years]\n",
    "    wc_norm: List[float] = [w / u for w, u in zip(word_counts, user_counts)]\n",
    "    return pd.DataFrame({\"years\": years, \"word_counts\": word_counts, \"wc_norm\": wc_norm})\n",
    "\n",
    "\n",
    "def append_wc(df: pd.DataFrame, words: List[List[str]], user_counts: List[int]) -> pd.DataFrame:\n",
    "    \"\"\"Generates a dataframe with multiple word counts for visualization.\"\"\"\n",
    "    wc_df = ft.reduce(lambda acc, w: acc.append(word_per_year(df, w, user_counts)), words, pd.DataFrame())\n",
    "    nyear = df.year.unique().shape[0]\n",
    "    word_arr = ft.reduce(lambda acc, w: acc + [w[0]] * nyear, words, [])\n",
    "    wc_df[\"words\"] = word_arr\n",
    "    return wc_df\n",
    "\n",
    "\n",
    "def user_ents(u: str):\n",
    "    \"\"\"Get all entities associated with a given user.\"\"\"\n",
    "    grouped_ents = ents_df.loc[ents_df[\"username\"] == u, :][\"ents\"].tolist()\n",
    "    return ft.reduce(lambda x, y: x + y, grouped_ents, [])\n",
    "\n",
    "\n",
    "def ents_by_type(ents, etype):\n",
    "    \"\"\"Get the text for entities of the given type from the given ents.\"\"\"\n",
    "    etypes = [e.text.lower().strip(\".\") for e in ents if e.label_ == etype]\n",
    "    return etypes\n",
    "\n",
    "\n",
    "def row_with_kw(df: pd.DataFrame, kw: str):\n",
    "    \"\"\"Returns row indexes of dataframe with ents with the given keyword.\"\"\"\n",
    "    return [i for i, ents in enumerate(ents_df[\"ents\"].tolist()) \n",
    "            if kw in [str(e).lower() for e in ents]]\n",
    "\n",
    "def disk_to_spacy(fp: str) -> List[English]:\n",
    "    \"\"\"Read spacy documents from disk.\"\"\"\n",
    "    docbin = DocBin().from_bytes(open(fp, \"rb\").read())\n",
    "    disk_docs = docbin.get_docs(nlp.vocab)\n",
    "    disk_docsl = list(disk_docs)\n",
    "    return disk_docsl"
   ]
  },
  {
   "cell_type": "markdown",
   "metadata": {},
   "source": [
    "# Read in data"
   ]
  },
  {
   "cell_type": "code",
   "execution_count": 2,
   "metadata": {},
   "outputs": [],
   "source": [
    "# general processing\n",
    "import pymongo\n",
    "from utils import utc_to_dt, COLL, PSAW, PRAW\n",
    "from tqdm import tqdm\n",
    "from collections import Counter"
   ]
  },
  {
   "cell_type": "code",
   "execution_count": 3,
   "metadata": {
    "collapsed": true,
    "jupyter": {
     "outputs_hidden": true
    }
   },
   "outputs": [
    {
     "ename": "ServerSelectionTimeoutError",
     "evalue": "10.99.248.17:27017: timed out",
     "output_type": "error",
     "traceback": [
      "\u001b[0;31m---------------------------------------------------------------------------\u001b[0m",
      "\u001b[0;31mServerSelectionTimeoutError\u001b[0m               Traceback (most recent call last)",
      "\u001b[0;32m<ipython-input-3-bdc0fb6cbd4d>\u001b[0m in \u001b[0;36m<module>\u001b[0;34m\u001b[0m\n\u001b[1;32m      1\u001b[0m \u001b[0;31m# read in full mongo collection\u001b[0m\u001b[0;34m\u001b[0m\u001b[0;34m\u001b[0m\u001b[0;34m\u001b[0m\u001b[0m\n\u001b[1;32m      2\u001b[0m \u001b[0mres\u001b[0m \u001b[0;34m=\u001b[0m \u001b[0mCOLL\u001b[0m\u001b[0;34m.\u001b[0m\u001b[0mfind\u001b[0m\u001b[0;34m(\u001b[0m\u001b[0;34m{\u001b[0m\u001b[0;34m}\u001b[0m\u001b[0;34m)\u001b[0m\u001b[0;34m\u001b[0m\u001b[0;34m\u001b[0m\u001b[0m\n\u001b[0;32m----> 3\u001b[0;31m \u001b[0mdf\u001b[0m \u001b[0;34m=\u001b[0m \u001b[0mpd\u001b[0m\u001b[0;34m.\u001b[0m\u001b[0mDataFrame\u001b[0m\u001b[0;34m(\u001b[0m\u001b[0mres\u001b[0m\u001b[0;34m)\u001b[0m\u001b[0;34m\u001b[0m\u001b[0;34m\u001b[0m\u001b[0m\n\u001b[0m",
      "\u001b[0;32m/usr/local/lib/python3.7/site-packages/pandas/core/frame.py\u001b[0m in \u001b[0;36m__init__\u001b[0;34m(self, data, index, columns, dtype, copy)\u001b[0m\n\u001b[1;32m    427\u001b[0m               and not isinstance(data, string_and_binary_types)):\n\u001b[1;32m    428\u001b[0m             \u001b[0;32mif\u001b[0m \u001b[0;32mnot\u001b[0m \u001b[0misinstance\u001b[0m\u001b[0;34m(\u001b[0m\u001b[0mdata\u001b[0m\u001b[0;34m,\u001b[0m \u001b[0mcompat\u001b[0m\u001b[0;34m.\u001b[0m\u001b[0mSequence\u001b[0m\u001b[0;34m)\u001b[0m\u001b[0;34m:\u001b[0m\u001b[0;34m\u001b[0m\u001b[0;34m\u001b[0m\u001b[0m\n\u001b[0;32m--> 429\u001b[0;31m                 \u001b[0mdata\u001b[0m \u001b[0;34m=\u001b[0m \u001b[0mlist\u001b[0m\u001b[0;34m(\u001b[0m\u001b[0mdata\u001b[0m\u001b[0;34m)\u001b[0m\u001b[0;34m\u001b[0m\u001b[0;34m\u001b[0m\u001b[0m\n\u001b[0m\u001b[1;32m    430\u001b[0m             \u001b[0;32mif\u001b[0m \u001b[0mlen\u001b[0m\u001b[0;34m(\u001b[0m\u001b[0mdata\u001b[0m\u001b[0;34m)\u001b[0m \u001b[0;34m>\u001b[0m \u001b[0;36m0\u001b[0m\u001b[0;34m:\u001b[0m\u001b[0;34m\u001b[0m\u001b[0;34m\u001b[0m\u001b[0m\n\u001b[1;32m    431\u001b[0m                 \u001b[0;32mif\u001b[0m \u001b[0mis_list_like\u001b[0m\u001b[0;34m(\u001b[0m\u001b[0mdata\u001b[0m\u001b[0;34m[\u001b[0m\u001b[0;36m0\u001b[0m\u001b[0;34m]\u001b[0m\u001b[0;34m)\u001b[0m \u001b[0;32mand\u001b[0m \u001b[0mgetattr\u001b[0m\u001b[0;34m(\u001b[0m\u001b[0mdata\u001b[0m\u001b[0;34m[\u001b[0m\u001b[0;36m0\u001b[0m\u001b[0;34m]\u001b[0m\u001b[0;34m,\u001b[0m \u001b[0;34m'ndim'\u001b[0m\u001b[0;34m,\u001b[0m \u001b[0;36m1\u001b[0m\u001b[0;34m)\u001b[0m \u001b[0;34m==\u001b[0m \u001b[0;36m1\u001b[0m\u001b[0;34m:\u001b[0m\u001b[0;34m\u001b[0m\u001b[0;34m\u001b[0m\u001b[0m\n",
      "\u001b[0;32m/usr/local/lib/python3.7/site-packages/pymongo/cursor.py\u001b[0m in \u001b[0;36mnext\u001b[0;34m(self)\u001b[0m\n\u001b[1;32m   1154\u001b[0m         \u001b[0;32mif\u001b[0m \u001b[0mself\u001b[0m\u001b[0;34m.\u001b[0m\u001b[0m__empty\u001b[0m\u001b[0;34m:\u001b[0m\u001b[0;34m\u001b[0m\u001b[0;34m\u001b[0m\u001b[0m\n\u001b[1;32m   1155\u001b[0m             \u001b[0;32mraise\u001b[0m \u001b[0mStopIteration\u001b[0m\u001b[0;34m\u001b[0m\u001b[0;34m\u001b[0m\u001b[0m\n\u001b[0;32m-> 1156\u001b[0;31m         \u001b[0;32mif\u001b[0m \u001b[0mlen\u001b[0m\u001b[0;34m(\u001b[0m\u001b[0mself\u001b[0m\u001b[0;34m.\u001b[0m\u001b[0m__data\u001b[0m\u001b[0;34m)\u001b[0m \u001b[0;32mor\u001b[0m \u001b[0mself\u001b[0m\u001b[0;34m.\u001b[0m\u001b[0m_refresh\u001b[0m\u001b[0;34m(\u001b[0m\u001b[0;34m)\u001b[0m\u001b[0;34m:\u001b[0m\u001b[0;34m\u001b[0m\u001b[0;34m\u001b[0m\u001b[0m\n\u001b[0m\u001b[1;32m   1157\u001b[0m             \u001b[0;32mif\u001b[0m \u001b[0mself\u001b[0m\u001b[0;34m.\u001b[0m\u001b[0m__manipulate\u001b[0m\u001b[0;34m:\u001b[0m\u001b[0;34m\u001b[0m\u001b[0;34m\u001b[0m\u001b[0m\n\u001b[1;32m   1158\u001b[0m                 \u001b[0m_db\u001b[0m \u001b[0;34m=\u001b[0m \u001b[0mself\u001b[0m\u001b[0;34m.\u001b[0m\u001b[0m__collection\u001b[0m\u001b[0;34m.\u001b[0m\u001b[0mdatabase\u001b[0m\u001b[0;34m\u001b[0m\u001b[0;34m\u001b[0m\u001b[0m\n",
      "\u001b[0;32m/usr/local/lib/python3.7/site-packages/pymongo/cursor.py\u001b[0m in \u001b[0;36m_refresh\u001b[0;34m(self)\u001b[0m\n\u001b[1;32m   1048\u001b[0m \u001b[0;34m\u001b[0m\u001b[0m\n\u001b[1;32m   1049\u001b[0m         \u001b[0;32mif\u001b[0m \u001b[0;32mnot\u001b[0m \u001b[0mself\u001b[0m\u001b[0;34m.\u001b[0m\u001b[0m__session\u001b[0m\u001b[0;34m:\u001b[0m\u001b[0;34m\u001b[0m\u001b[0;34m\u001b[0m\u001b[0m\n\u001b[0;32m-> 1050\u001b[0;31m             \u001b[0mself\u001b[0m\u001b[0;34m.\u001b[0m\u001b[0m__session\u001b[0m \u001b[0;34m=\u001b[0m \u001b[0mself\u001b[0m\u001b[0;34m.\u001b[0m\u001b[0m__collection\u001b[0m\u001b[0;34m.\u001b[0m\u001b[0mdatabase\u001b[0m\u001b[0;34m.\u001b[0m\u001b[0mclient\u001b[0m\u001b[0;34m.\u001b[0m\u001b[0m_ensure_session\u001b[0m\u001b[0;34m(\u001b[0m\u001b[0;34m)\u001b[0m\u001b[0;34m\u001b[0m\u001b[0;34m\u001b[0m\u001b[0m\n\u001b[0m\u001b[1;32m   1051\u001b[0m \u001b[0;34m\u001b[0m\u001b[0m\n\u001b[1;32m   1052\u001b[0m         \u001b[0;32mif\u001b[0m \u001b[0mself\u001b[0m\u001b[0;34m.\u001b[0m\u001b[0m__id\u001b[0m \u001b[0;32mis\u001b[0m \u001b[0;32mNone\u001b[0m\u001b[0;34m:\u001b[0m  \u001b[0;31m# Query\u001b[0m\u001b[0;34m\u001b[0m\u001b[0;34m\u001b[0m\u001b[0m\n",
      "\u001b[0;32m/usr/local/lib/python3.7/site-packages/pymongo/mongo_client.py\u001b[0m in \u001b[0;36m_ensure_session\u001b[0;34m(self, session)\u001b[0m\n\u001b[1;32m   1808\u001b[0m             \u001b[0;31m# Don't make implicit sessions causally consistent. Applications\u001b[0m\u001b[0;34m\u001b[0m\u001b[0;34m\u001b[0m\u001b[0;34m\u001b[0m\u001b[0m\n\u001b[1;32m   1809\u001b[0m             \u001b[0;31m# should always opt-in.\u001b[0m\u001b[0;34m\u001b[0m\u001b[0;34m\u001b[0m\u001b[0;34m\u001b[0m\u001b[0m\n\u001b[0;32m-> 1810\u001b[0;31m             \u001b[0;32mreturn\u001b[0m \u001b[0mself\u001b[0m\u001b[0;34m.\u001b[0m\u001b[0m__start_session\u001b[0m\u001b[0;34m(\u001b[0m\u001b[0;32mTrue\u001b[0m\u001b[0;34m,\u001b[0m \u001b[0mcausal_consistency\u001b[0m\u001b[0;34m=\u001b[0m\u001b[0;32mFalse\u001b[0m\u001b[0;34m)\u001b[0m\u001b[0;34m\u001b[0m\u001b[0;34m\u001b[0m\u001b[0m\n\u001b[0m\u001b[1;32m   1811\u001b[0m         \u001b[0;32mexcept\u001b[0m \u001b[0;34m(\u001b[0m\u001b[0mConfigurationError\u001b[0m\u001b[0;34m,\u001b[0m \u001b[0mInvalidOperation\u001b[0m\u001b[0;34m)\u001b[0m\u001b[0;34m:\u001b[0m\u001b[0;34m\u001b[0m\u001b[0;34m\u001b[0m\u001b[0m\n\u001b[1;32m   1812\u001b[0m             \u001b[0;31m# Sessions not supported, or multiple users authenticated.\u001b[0m\u001b[0;34m\u001b[0m\u001b[0;34m\u001b[0m\u001b[0;34m\u001b[0m\u001b[0m\n",
      "\u001b[0;32m/usr/local/lib/python3.7/site-packages/pymongo/mongo_client.py\u001b[0m in \u001b[0;36m__start_session\u001b[0;34m(self, implicit, **kwargs)\u001b[0m\n\u001b[1;32m   1761\u001b[0m \u001b[0;34m\u001b[0m\u001b[0m\n\u001b[1;32m   1762\u001b[0m         \u001b[0;31m# Raises ConfigurationError if sessions are not supported.\u001b[0m\u001b[0;34m\u001b[0m\u001b[0;34m\u001b[0m\u001b[0;34m\u001b[0m\u001b[0m\n\u001b[0;32m-> 1763\u001b[0;31m         \u001b[0mserver_session\u001b[0m \u001b[0;34m=\u001b[0m \u001b[0mself\u001b[0m\u001b[0;34m.\u001b[0m\u001b[0m_get_server_session\u001b[0m\u001b[0;34m(\u001b[0m\u001b[0;34m)\u001b[0m\u001b[0;34m\u001b[0m\u001b[0;34m\u001b[0m\u001b[0m\n\u001b[0m\u001b[1;32m   1764\u001b[0m         \u001b[0mopts\u001b[0m \u001b[0;34m=\u001b[0m \u001b[0mclient_session\u001b[0m\u001b[0;34m.\u001b[0m\u001b[0mSessionOptions\u001b[0m\u001b[0;34m(\u001b[0m\u001b[0;34m**\u001b[0m\u001b[0mkwargs\u001b[0m\u001b[0;34m)\u001b[0m\u001b[0;34m\u001b[0m\u001b[0;34m\u001b[0m\u001b[0m\n\u001b[1;32m   1765\u001b[0m         return client_session.ClientSession(\n",
      "\u001b[0;32m/usr/local/lib/python3.7/site-packages/pymongo/mongo_client.py\u001b[0m in \u001b[0;36m_get_server_session\u001b[0;34m(self)\u001b[0m\n\u001b[1;32m   1794\u001b[0m     \u001b[0;32mdef\u001b[0m \u001b[0m_get_server_session\u001b[0m\u001b[0;34m(\u001b[0m\u001b[0mself\u001b[0m\u001b[0;34m)\u001b[0m\u001b[0;34m:\u001b[0m\u001b[0;34m\u001b[0m\u001b[0;34m\u001b[0m\u001b[0m\n\u001b[1;32m   1795\u001b[0m         \u001b[0;34m\"\"\"Internal: start or resume a _ServerSession.\"\"\"\u001b[0m\u001b[0;34m\u001b[0m\u001b[0;34m\u001b[0m\u001b[0m\n\u001b[0;32m-> 1796\u001b[0;31m         \u001b[0;32mreturn\u001b[0m \u001b[0mself\u001b[0m\u001b[0;34m.\u001b[0m\u001b[0m_topology\u001b[0m\u001b[0;34m.\u001b[0m\u001b[0mget_server_session\u001b[0m\u001b[0;34m(\u001b[0m\u001b[0;34m)\u001b[0m\u001b[0;34m\u001b[0m\u001b[0;34m\u001b[0m\u001b[0m\n\u001b[0m\u001b[1;32m   1797\u001b[0m \u001b[0;34m\u001b[0m\u001b[0m\n\u001b[1;32m   1798\u001b[0m     \u001b[0;32mdef\u001b[0m \u001b[0m_return_server_session\u001b[0m\u001b[0;34m(\u001b[0m\u001b[0mself\u001b[0m\u001b[0;34m,\u001b[0m \u001b[0mserver_session\u001b[0m\u001b[0;34m,\u001b[0m \u001b[0mlock\u001b[0m\u001b[0;34m)\u001b[0m\u001b[0;34m:\u001b[0m\u001b[0;34m\u001b[0m\u001b[0;34m\u001b[0m\u001b[0m\n",
      "\u001b[0;32m/usr/local/lib/python3.7/site-packages/pymongo/topology.py\u001b[0m in \u001b[0;36mget_server_session\u001b[0;34m(self)\u001b[0m\n\u001b[1;32m    483\u001b[0m                             \u001b[0many_server_selector\u001b[0m\u001b[0;34m,\u001b[0m\u001b[0;34m\u001b[0m\u001b[0;34m\u001b[0m\u001b[0m\n\u001b[1;32m    484\u001b[0m                             \u001b[0mself\u001b[0m\u001b[0;34m.\u001b[0m\u001b[0m_settings\u001b[0m\u001b[0;34m.\u001b[0m\u001b[0mserver_selection_timeout\u001b[0m\u001b[0;34m,\u001b[0m\u001b[0;34m\u001b[0m\u001b[0;34m\u001b[0m\u001b[0m\n\u001b[0;32m--> 485\u001b[0;31m                             None)\n\u001b[0m\u001b[1;32m    486\u001b[0m                 \u001b[0;32melif\u001b[0m \u001b[0;32mnot\u001b[0m \u001b[0mself\u001b[0m\u001b[0;34m.\u001b[0m\u001b[0m_description\u001b[0m\u001b[0;34m.\u001b[0m\u001b[0mreadable_servers\u001b[0m\u001b[0;34m:\u001b[0m\u001b[0;34m\u001b[0m\u001b[0;34m\u001b[0m\u001b[0m\n\u001b[1;32m    487\u001b[0m                     self._select_servers_loop(\n",
      "\u001b[0;32m/usr/local/lib/python3.7/site-packages/pymongo/topology.py\u001b[0m in \u001b[0;36m_select_servers_loop\u001b[0;34m(self, selector, timeout, address)\u001b[0m\n\u001b[1;32m    207\u001b[0m             \u001b[0;32mif\u001b[0m \u001b[0mtimeout\u001b[0m \u001b[0;34m==\u001b[0m \u001b[0;36m0\u001b[0m \u001b[0;32mor\u001b[0m \u001b[0mnow\u001b[0m \u001b[0;34m>\u001b[0m \u001b[0mend_time\u001b[0m\u001b[0;34m:\u001b[0m\u001b[0;34m\u001b[0m\u001b[0;34m\u001b[0m\u001b[0m\n\u001b[1;32m    208\u001b[0m                 raise ServerSelectionTimeoutError(\n\u001b[0;32m--> 209\u001b[0;31m                     self._error_message(selector))\n\u001b[0m\u001b[1;32m    210\u001b[0m \u001b[0;34m\u001b[0m\u001b[0m\n\u001b[1;32m    211\u001b[0m             \u001b[0mself\u001b[0m\u001b[0;34m.\u001b[0m\u001b[0m_ensure_opened\u001b[0m\u001b[0;34m(\u001b[0m\u001b[0;34m)\u001b[0m\u001b[0;34m\u001b[0m\u001b[0;34m\u001b[0m\u001b[0m\n",
      "\u001b[0;31mServerSelectionTimeoutError\u001b[0m: 10.99.248.17:27017: timed out"
     ]
    }
   ],
   "source": [
    "# read in full mongo collection\n",
    "res = COLL.find({})\n",
    "df = pd.DataFrame(res)"
   ]
  },
  {
   "cell_type": "code",
   "execution_count": 18,
   "metadata": {},
   "outputs": [
    {
     "data": {
      "text/plain": [
       "(458859, 5)"
      ]
     },
     "execution_count": 18,
     "metadata": {},
     "output_type": "execute_result"
    }
   ],
   "source": [
    "hist_df.shape"
   ]
  },
  {
   "cell_type": "code",
   "execution_count": 26,
   "metadata": {},
   "outputs": [],
   "source": [
    "# read in top n posting histories\n",
    "hist_df = pd.read_csv(\"data/histories.csv\")"
   ]
  },
  {
   "cell_type": "markdown",
   "metadata": {
    "toc-hr-collapsed": false
   },
   "source": [
    "# User Histories"
   ]
  },
  {
   "cell_type": "code",
   "execution_count": 5,
   "metadata": {},
   "outputs": [],
   "source": [
    "# visualizations\n",
    "import seaborn as sns\n",
    "import matplotlib.pyplot as plt\n",
    "from IPython.core.display import display, HTML"
   ]
  },
  {
   "cell_type": "markdown",
   "metadata": {},
   "source": [
    "## User Plots"
   ]
  },
  {
   "cell_type": "code",
   "execution_count": 28,
   "metadata": {},
   "outputs": [
    {
     "data": {
      "image/png": "[encoded data removed]",
      "text/plain": [
       "<Figure size 432x288 with 1 Axes>"
      ]
     },
     "metadata": {
      "needs_background": "light"
     },
     "output_type": "display_data"
    }
   ],
   "source": [
    "user_counts = hist_df.groupby(\"username\").count().sort_values(\"id\").reset_index()\n",
    "ax = sns.distplot(user_counts[\"id\"].tolist())\n",
    "ax.set(xlabel=\"Number of Submissions + Comments\")\n",
    "plt.show()"
   ]
  },
  {
   "cell_type": "markdown",
   "metadata": {},
   "source": [
    "## Convert history text to spacy"
   ]
  },
  {
   "cell_type": "code",
   "execution_count": null,
   "metadata": {},
   "outputs": [
    {
     "name": "stderr",
     "output_type": "stream",
     "text": [
      "  9%|▉         | 40036/456277 [06:18<1:23:22, 83.20it/s] "
     ]
    }
   ],
   "source": [
    "# convert text to spacy docs\n",
    "text_idx = [i for i, t in enumerate(hist_df[\"text\"].tolist()) if type(t) == str]\n",
    "text_docs = [t for t in hist_df[\"text\"].tolist() if type(t) == str]\n",
    "spacy_docs = []\n",
    "for t in tqdm(text_docs):\n",
    "    spacy_docs.append(nlp(t))"
   ]
  },
  {
   "cell_type": "code",
   "execution_count": 313,
   "metadata": {},
   "outputs": [],
   "source": [
    "# add spacy docs to users dataframe\n",
    "hist_df[\"spacy\"] = spacy_docs"
   ]
  },
  {
   "cell_type": "markdown",
   "metadata": {},
   "source": [
    "## Extract entities"
   ]
  },
  {
   "cell_type": "code",
   "execution_count": 30,
   "metadata": {
    "collapsed": true,
    "jupyter": {
     "outputs_hidden": true
    }
   },
   "outputs": [
    {
     "ename": "KeyError",
     "evalue": "'spacy'",
     "output_type": "error",
     "traceback": [
      "\u001b[0;31m---------------------------------------------------------------------------\u001b[0m",
      "\u001b[0;31mKeyError\u001b[0m                                  Traceback (most recent call last)",
      "\u001b[0;32m/usr/local/lib/python3.7/site-packages/pandas/core/indexes/base.py\u001b[0m in \u001b[0;36mget_loc\u001b[0;34m(self, key, method, tolerance)\u001b[0m\n\u001b[1;32m   2601\u001b[0m             \u001b[0;32mtry\u001b[0m\u001b[0;34m:\u001b[0m\u001b[0;34m\u001b[0m\u001b[0;34m\u001b[0m\u001b[0m\n\u001b[0;32m-> 2602\u001b[0;31m                 \u001b[0;32mreturn\u001b[0m \u001b[0mself\u001b[0m\u001b[0;34m.\u001b[0m\u001b[0m_engine\u001b[0m\u001b[0;34m.\u001b[0m\u001b[0mget_loc\u001b[0m\u001b[0;34m(\u001b[0m\u001b[0mkey\u001b[0m\u001b[0;34m)\u001b[0m\u001b[0;34m\u001b[0m\u001b[0;34m\u001b[0m\u001b[0m\n\u001b[0m\u001b[1;32m   2603\u001b[0m             \u001b[0;32mexcept\u001b[0m \u001b[0mKeyError\u001b[0m\u001b[0;34m:\u001b[0m\u001b[0;34m\u001b[0m\u001b[0;34m\u001b[0m\u001b[0m\n",
      "\u001b[0;32mpandas/_libs/index.pyx\u001b[0m in \u001b[0;36mpandas._libs.index.IndexEngine.get_loc\u001b[0;34m()\u001b[0m\n",
      "\u001b[0;32mpandas/_libs/index.pyx\u001b[0m in \u001b[0;36mpandas._libs.index.IndexEngine.get_loc\u001b[0;34m()\u001b[0m\n",
      "\u001b[0;32mpandas/_libs/hashtable_class_helper.pxi\u001b[0m in \u001b[0;36mpandas._libs.hashtable.PyObjectHashTable.get_item\u001b[0;34m()\u001b[0m\n",
      "\u001b[0;32mpandas/_libs/hashtable_class_helper.pxi\u001b[0m in \u001b[0;36mpandas._libs.hashtable.PyObjectHashTable.get_item\u001b[0;34m()\u001b[0m\n",
      "\u001b[0;31mKeyError\u001b[0m: 'spacy'",
      "\nDuring handling of the above exception, another exception occurred:\n",
      "\u001b[0;31mKeyError\u001b[0m                                  Traceback (most recent call last)",
      "\u001b[0;32m<ipython-input-30-063ec4f7338f>\u001b[0m in \u001b[0;36m<module>\u001b[0;34m\u001b[0m\n\u001b[1;32m      1\u001b[0m \u001b[0ments_df\u001b[0m \u001b[0;34m=\u001b[0m \u001b[0mhist_df\u001b[0m\u001b[0;34m\u001b[0m\u001b[0;34m\u001b[0m\u001b[0m\n\u001b[0;32m----> 2\u001b[0;31m \u001b[0ments_df\u001b[0m\u001b[0;34m[\u001b[0m\u001b[0;34m\"ents\"\u001b[0m\u001b[0;34m]\u001b[0m \u001b[0;34m=\u001b[0m \u001b[0ments_df\u001b[0m\u001b[0;34m[\u001b[0m\u001b[0;34m\"spacy\"\u001b[0m\u001b[0;34m]\u001b[0m\u001b[0;34m.\u001b[0m\u001b[0mapply\u001b[0m\u001b[0;34m(\u001b[0m\u001b[0;32mlambda\u001b[0m \u001b[0msp\u001b[0m\u001b[0;34m:\u001b[0m \u001b[0mlist\u001b[0m\u001b[0;34m(\u001b[0m\u001b[0msp\u001b[0m\u001b[0;34m.\u001b[0m\u001b[0ments\u001b[0m\u001b[0;34m)\u001b[0m \u001b[0;32mif\u001b[0m \u001b[0mlen\u001b[0m\u001b[0;34m(\u001b[0m\u001b[0msp\u001b[0m\u001b[0;34m.\u001b[0m\u001b[0ments\u001b[0m\u001b[0;34m)\u001b[0m \u001b[0;34m>\u001b[0m \u001b[0;36m0\u001b[0m \u001b[0;32melse\u001b[0m \u001b[0;32mNone\u001b[0m\u001b[0;34m)\u001b[0m\u001b[0;34m\u001b[0m\u001b[0;34m\u001b[0m\u001b[0m\n\u001b[0m\u001b[1;32m      3\u001b[0m \u001b[0ments_df\u001b[0m \u001b[0;34m=\u001b[0m \u001b[0ments_df\u001b[0m\u001b[0;34m.\u001b[0m\u001b[0mdropna\u001b[0m\u001b[0;34m(\u001b[0m\u001b[0;34m)\u001b[0m\u001b[0;34m\u001b[0m\u001b[0;34m\u001b[0m\u001b[0m\n",
      "\u001b[0;32m/usr/local/lib/python3.7/site-packages/pandas/core/frame.py\u001b[0m in \u001b[0;36m__getitem__\u001b[0;34m(self, key)\u001b[0m\n\u001b[1;32m   2915\u001b[0m             \u001b[0;32mif\u001b[0m \u001b[0mself\u001b[0m\u001b[0;34m.\u001b[0m\u001b[0mcolumns\u001b[0m\u001b[0;34m.\u001b[0m\u001b[0mnlevels\u001b[0m \u001b[0;34m>\u001b[0m \u001b[0;36m1\u001b[0m\u001b[0;34m:\u001b[0m\u001b[0;34m\u001b[0m\u001b[0;34m\u001b[0m\u001b[0m\n\u001b[1;32m   2916\u001b[0m                 \u001b[0;32mreturn\u001b[0m \u001b[0mself\u001b[0m\u001b[0;34m.\u001b[0m\u001b[0m_getitem_multilevel\u001b[0m\u001b[0;34m(\u001b[0m\u001b[0mkey\u001b[0m\u001b[0;34m)\u001b[0m\u001b[0;34m\u001b[0m\u001b[0;34m\u001b[0m\u001b[0m\n\u001b[0;32m-> 2917\u001b[0;31m             \u001b[0mindexer\u001b[0m \u001b[0;34m=\u001b[0m \u001b[0mself\u001b[0m\u001b[0;34m.\u001b[0m\u001b[0mcolumns\u001b[0m\u001b[0;34m.\u001b[0m\u001b[0mget_loc\u001b[0m\u001b[0;34m(\u001b[0m\u001b[0mkey\u001b[0m\u001b[0;34m)\u001b[0m\u001b[0;34m\u001b[0m\u001b[0;34m\u001b[0m\u001b[0m\n\u001b[0m\u001b[1;32m   2918\u001b[0m             \u001b[0;32mif\u001b[0m \u001b[0mis_integer\u001b[0m\u001b[0;34m(\u001b[0m\u001b[0mindexer\u001b[0m\u001b[0;34m)\u001b[0m\u001b[0;34m:\u001b[0m\u001b[0;34m\u001b[0m\u001b[0;34m\u001b[0m\u001b[0m\n\u001b[1;32m   2919\u001b[0m                 \u001b[0mindexer\u001b[0m \u001b[0;34m=\u001b[0m \u001b[0;34m[\u001b[0m\u001b[0mindexer\u001b[0m\u001b[0;34m]\u001b[0m\u001b[0;34m\u001b[0m\u001b[0;34m\u001b[0m\u001b[0m\n",
      "\u001b[0;32m/usr/local/lib/python3.7/site-packages/pandas/core/indexes/base.py\u001b[0m in \u001b[0;36mget_loc\u001b[0;34m(self, key, method, tolerance)\u001b[0m\n\u001b[1;32m   2602\u001b[0m                 \u001b[0;32mreturn\u001b[0m \u001b[0mself\u001b[0m\u001b[0;34m.\u001b[0m\u001b[0m_engine\u001b[0m\u001b[0;34m.\u001b[0m\u001b[0mget_loc\u001b[0m\u001b[0;34m(\u001b[0m\u001b[0mkey\u001b[0m\u001b[0;34m)\u001b[0m\u001b[0;34m\u001b[0m\u001b[0;34m\u001b[0m\u001b[0m\n\u001b[1;32m   2603\u001b[0m             \u001b[0;32mexcept\u001b[0m \u001b[0mKeyError\u001b[0m\u001b[0;34m:\u001b[0m\u001b[0;34m\u001b[0m\u001b[0;34m\u001b[0m\u001b[0m\n\u001b[0;32m-> 2604\u001b[0;31m                 \u001b[0;32mreturn\u001b[0m \u001b[0mself\u001b[0m\u001b[0;34m.\u001b[0m\u001b[0m_engine\u001b[0m\u001b[0;34m.\u001b[0m\u001b[0mget_loc\u001b[0m\u001b[0;34m(\u001b[0m\u001b[0mself\u001b[0m\u001b[0;34m.\u001b[0m\u001b[0m_maybe_cast_indexer\u001b[0m\u001b[0;34m(\u001b[0m\u001b[0mkey\u001b[0m\u001b[0;34m)\u001b[0m\u001b[0;34m)\u001b[0m\u001b[0;34m\u001b[0m\u001b[0;34m\u001b[0m\u001b[0m\n\u001b[0m\u001b[1;32m   2605\u001b[0m         \u001b[0mindexer\u001b[0m \u001b[0;34m=\u001b[0m \u001b[0mself\u001b[0m\u001b[0;34m.\u001b[0m\u001b[0mget_indexer\u001b[0m\u001b[0;34m(\u001b[0m\u001b[0;34m[\u001b[0m\u001b[0mkey\u001b[0m\u001b[0;34m]\u001b[0m\u001b[0;34m,\u001b[0m \u001b[0mmethod\u001b[0m\u001b[0;34m=\u001b[0m\u001b[0mmethod\u001b[0m\u001b[0;34m,\u001b[0m \u001b[0mtolerance\u001b[0m\u001b[0;34m=\u001b[0m\u001b[0mtolerance\u001b[0m\u001b[0;34m)\u001b[0m\u001b[0;34m\u001b[0m\u001b[0;34m\u001b[0m\u001b[0m\n\u001b[1;32m   2606\u001b[0m         \u001b[0;32mif\u001b[0m \u001b[0mindexer\u001b[0m\u001b[0;34m.\u001b[0m\u001b[0mndim\u001b[0m \u001b[0;34m>\u001b[0m \u001b[0;36m1\u001b[0m \u001b[0;32mor\u001b[0m \u001b[0mindexer\u001b[0m\u001b[0;34m.\u001b[0m\u001b[0msize\u001b[0m \u001b[0;34m>\u001b[0m \u001b[0;36m1\u001b[0m\u001b[0;34m:\u001b[0m\u001b[0;34m\u001b[0m\u001b[0;34m\u001b[0m\u001b[0m\n",
      "\u001b[0;32mpandas/_libs/index.pyx\u001b[0m in \u001b[0;36mpandas._libs.index.IndexEngine.get_loc\u001b[0;34m()\u001b[0m\n",
      "\u001b[0;32mpandas/_libs/index.pyx\u001b[0m in \u001b[0;36mpandas._libs.index.IndexEngine.get_loc\u001b[0;34m()\u001b[0m\n",
      "\u001b[0;32mpandas/_libs/hashtable_class_helper.pxi\u001b[0m in \u001b[0;36mpandas._libs.hashtable.PyObjectHashTable.get_item\u001b[0;34m()\u001b[0m\n",
      "\u001b[0;32mpandas/_libs/hashtable_class_helper.pxi\u001b[0m in \u001b[0;36mpandas._libs.hashtable.PyObjectHashTable.get_item\u001b[0;34m()\u001b[0m\n",
      "\u001b[0;31mKeyError\u001b[0m: 'spacy'"
     ]
    }
   ],
   "source": [
    "ents_df = hist_df\n",
    "ents_df[\"ents\"] = ents_df[\"spacy\"].apply(lambda sp: list(sp.ents) if len(sp.ents) > 0 else None)\n",
    "ents_df = ents_df.dropna()"
   ]
  },
  {
   "cell_type": "markdown",
   "metadata": {},
   "source": [
    "## Explore entities by user"
   ]
  },
  {
   "cell_type": "code",
   "execution_count": 326,
   "metadata": {},
   "outputs": [],
   "source": [
    "flat_ents = ft.reduce(lambda x, y: x + y, ents_df[\"ents\"].tolist(), [])"
   ]
  },
  {
   "cell_type": "code",
   "execution_count": 357,
   "metadata": {},
   "outputs": [],
   "source": [
    "# get observations with ents that match a keyword\n",
    "atlanta_idx = row_with_kw(ents_df, \"atlanta\")\n",
    "atlanta_df = ents_df.iloc[atlanta_idx, :]"
   ]
  },
  {
   "cell_type": "code",
   "execution_count": 347,
   "metadata": {},
   "outputs": [],
   "source": [
    "# get entities for a given user\n",
    "u1_ents = user_ents(\"realcat67\")\n",
    "u1_gpe = ents_by_type(u1_ents, \"GPE\")"
   ]
  },
  {
   "cell_type": "markdown",
   "metadata": {},
   "source": [
    "## Display entities with displaCy"
   ]
  },
  {
   "cell_type": "code",
   "execution_count": null,
   "metadata": {},
   "outputs": [],
   "source": [
    "from spacy import displacy"
   ]
  },
  {
   "cell_type": "code",
   "execution_count": 303,
   "metadata": {},
   "outputs": [
    {
     "name": "stdout",
     "output_type": "stream",
     "text": [
      "Doc: 0\n"
     ]
    },
    {
     "data": {
      "text/html": [
       "<!DOCTYPE html>\n",
       "<html lang=\"en\">\n",
       "    <head>\n",
       "        <title>displaCy</title>\n",
       "    </head>\n",
       "\n",
       "    <body style=\"font-size: 16px; font-family: -apple-system, BlinkMacSystemFont, 'Segoe UI', Helvetica, Arial, sans-serif, 'Apple Color Emoji', 'Segoe UI Emoji', 'Segoe UI Symbol'; padding: 4rem 2rem; direction: ltr\">\n",
       "<figure style=\"margin-bottom: 6rem\">\n",
       "<div class=\"entities\" style=\"line-height: 2.5; direction: ltr\">You sound like you're in \n",
       "<mark class=\"entity\" style=\"background: #e4e7d2; padding: 0.45em 0.6em; margin: 0 0.25em; line-height: 1; border-radius: 0.35em; box-decoration-break: clone; -webkit-box-decoration-break: clone\">\n",
       "    100%\n",
       "    <span style=\"font-size: 0.8em; font-weight: bold; line-height: 1; border-radius: 0.35em; text-transform: uppercase; vertical-align: middle; margin-left: 0.5rem\">PERCENT</span>\n",
       "</mark>\n",
       " the right space to get it done.  I'm happy that my words were able to help.  </br></br>The only thing I could add, maybe, is to let yourself be open with \n",
       "<mark class=\"entity\" style=\"background: #e4e7d2; padding: 0.45em 0.6em; margin: 0 0.25em; line-height: 1; border-radius: 0.35em; box-decoration-break: clone; -webkit-box-decoration-break: clone\">\n",
       "    one\n",
       "    <span style=\"font-size: 0.8em; font-weight: bold; line-height: 1; border-radius: 0.35em; text-transform: uppercase; vertical-align: middle; margin-left: 0.5rem\">CARDINAL</span>\n",
       "</mark>\n",
       " or \n",
       "<mark class=\"entity\" style=\"background: #e4e7d2; padding: 0.45em 0.6em; margin: 0 0.25em; line-height: 1; border-radius: 0.35em; box-decoration-break: clone; -webkit-box-decoration-break: clone\">\n",
       "    two\n",
       "    <span style=\"font-size: 0.8em; font-weight: bold; line-height: 1; border-radius: 0.35em; text-transform: uppercase; vertical-align: middle; margin-left: 0.5rem\">CARDINAL</span>\n",
       "</mark>\n",
       " people about what's going on.  I was always very private in my use, but knowing I could text someone trusted with no filter about my feelings was very cathartic and helpful.  It sounds like you already know, but it doesn't hurt to say it again.  \n",
       "\n",
       "You fucking got this &lt;3</div>\n",
       "</figure>\n",
       "</body>\n",
       "</html>"
      ],
      "text/plain": [
       "<IPython.core.display.HTML object>"
      ]
     },
     "metadata": {},
     "output_type": "display_data"
    },
    {
     "name": "stdout",
     "output_type": "stream",
     "text": [
      "Doc: 1\n"
     ]
    },
    {
     "data": {
      "text/html": [
       "<!DOCTYPE html>\n",
       "<html lang=\"en\">\n",
       "    <head>\n",
       "        <title>displaCy</title>\n",
       "    </head>\n",
       "\n",
       "    <body style=\"font-size: 16px; font-family: -apple-system, BlinkMacSystemFont, 'Segoe UI', Helvetica, Arial, sans-serif, 'Apple Color Emoji', 'Segoe UI Emoji', 'Segoe UI Symbol'; padding: 4rem 2rem; direction: ltr\">\n",
       "<figure style=\"margin-bottom: 6rem\">\n",
       "<div class=\"entities\" style=\"line-height: 2.5; direction: ltr\">I agree, but I still think it's worth voicing that it's sad that \n",
       "<mark class=\"entity\" style=\"background: #7aecec; padding: 0.45em 0.6em; margin: 0 0.25em; line-height: 1; border-radius: 0.35em; box-decoration-break: clone; -webkit-box-decoration-break: clone\">\n",
       "    Reddit\n",
       "    <span style=\"font-size: 0.8em; font-weight: bold; line-height: 1; border-radius: 0.35em; text-transform: uppercase; vertical-align: middle; margin-left: 0.5rem\">ORG</span>\n",
       "</mark>\n",
       " has come this far.  I understand the legality of not being a drug hub, but I think many of the sub bans have been far overreaching and I intend to mention it when I feel like it's relevant.</div>\n",
       "</figure>\n",
       "</body>\n",
       "</html>"
      ],
      "text/plain": [
       "<IPython.core.display.HTML object>"
      ]
     },
     "metadata": {},
     "output_type": "display_data"
    }
   ],
   "source": [
    "# visualize entities\n",
    "docs = ents_df[\"spacy\"].tolist()[900:902]\n",
    "vis_docs = [d for d in docs if len(d.ents) > 0]\n",
    "for i, d in enumerate(vis_docs):\n",
    "    print(\"Doc:\", i)\n",
    "    display(HTML(displacy.render(d, style='ent', page=True)))"
   ]
  },
  {
   "cell_type": "code",
   "execution_count": 46,
   "metadata": {},
   "outputs": [],
   "source": [
    "users_df[\"gpes\"] = users_df[\"spacy\"].apply(lambda x: [e for e in x.ents if e.label_ == \"GPE\"])"
   ]
  },
  {
   "cell_type": "code",
   "execution_count": 78,
   "metadata": {},
   "outputs": [
    {
     "data": {
      "text/html": [
       "<div>\n",
       "<style scoped>\n",
       "    .dataframe tbody tr th:only-of-type {\n",
       "        vertical-align: middle;\n",
       "    }\n",
       "\n",
       "    .dataframe tbody tr th {\n",
       "        vertical-align: top;\n",
       "    }\n",
       "\n",
       "    .dataframe thead th {\n",
       "        text-align: right;\n",
       "    }\n",
       "</style>\n",
       "<table border=\"1\" class=\"dataframe\">\n",
       "  <thead>\n",
       "    <tr style=\"text-align: right;\">\n",
       "      <th></th>\n",
       "      <th>username</th>\n",
       "      <th>gpes</th>\n",
       "    </tr>\n",
       "  </thead>\n",
       "  <tbody>\n",
       "    <tr>\n",
       "      <th>0</th>\n",
       "      <td>FashionablyFake</td>\n",
       "      <td>[(Kilos), (soooo), (Dallas), (Whatevz), (bk), ...</td>\n",
       "    </tr>\n",
       "    <tr>\n",
       "      <th>1</th>\n",
       "      <td>KickerS12X</td>\n",
       "      <td>[(kiddo), (Vermont), (xanax), (north, troy), (...</td>\n",
       "    </tr>\n",
       "    <tr>\n",
       "      <th>2</th>\n",
       "      <td>OlDirtyBurton</td>\n",
       "      <td>[(APVP), (US), (Adderall), (US), (US), (Tina),...</td>\n",
       "    </tr>\n",
       "    <tr>\n",
       "      <th>3</th>\n",
       "      <td>chasing-d0pamine</td>\n",
       "      <td>[(Wharton), (Adderall), (america), (Adderall),...</td>\n",
       "    </tr>\n",
       "    <tr>\n",
       "      <th>4</th>\n",
       "      <td>heroinking</td>\n",
       "      <td>[(turkey), (turkey), (APVP), (APVP), (turkey),...</td>\n",
       "    </tr>\n",
       "    <tr>\n",
       "      <th>5</th>\n",
       "      <td>spinderella69</td>\n",
       "      <td>[(NY), (Molly), (kinda), (Kratom), (Kratom), (...</td>\n",
       "    </tr>\n",
       "    <tr>\n",
       "      <th>6</th>\n",
       "      <td>street_philatelist</td>\n",
       "      <td>[(Fentanyl, Warnings, State), (SN), (Florida),...</td>\n",
       "    </tr>\n",
       "    <tr>\n",
       "      <th>7</th>\n",
       "      <td>traceyh415</td>\n",
       "      <td>[(R.C.), (Chicago), (Phoenix), (AZ), (Seattle)...</td>\n",
       "    </tr>\n",
       "  </tbody>\n",
       "</table>\n",
       "</div>"
      ],
      "text/plain": [
       "             username                                               gpes\n",
       "0     FashionablyFake  [(Kilos), (soooo), (Dallas), (Whatevz), (bk), ...\n",
       "1          KickerS12X  [(kiddo), (Vermont), (xanax), (north, troy), (...\n",
       "2       OlDirtyBurton  [(APVP), (US), (Adderall), (US), (US), (Tina),...\n",
       "3    chasing-d0pamine  [(Wharton), (Adderall), (america), (Adderall),...\n",
       "4          heroinking  [(turkey), (turkey), (APVP), (APVP), (turkey),...\n",
       "5       spinderella69  [(NY), (Molly), (kinda), (Kratom), (Kratom), (...\n",
       "6  street_philatelist  [(Fentanyl, Warnings, State), (SN), (Florida),...\n",
       "7          traceyh415  [(R.C.), (Chicago), (Phoenix), (AZ), (Seattle)..."
      ]
     },
     "execution_count": 78,
     "metadata": {},
     "output_type": "execute_result"
    }
   ],
   "source": [
    "gpes_by_user"
   ]
  },
  {
   "cell_type": "code",
   "execution_count": 73,
   "metadata": {},
   "outputs": [],
   "source": [
    "gpes_by_user = users_df.groupby(\"username\").agg({\"gpes\": lambda x: ft.reduce(lambda acc, y: acc + y, x)}).reset_index()"
   ]
  },
  {
   "cell_type": "code",
   "execution_count": 83,
   "metadata": {
    "collapsed": true,
    "jupyter": {
     "outputs_hidden": true
    }
   },
   "outputs": [
    {
     "data": {
      "text/plain": [
       "[('APVP', 127),\n",
       " ('Adderall', 107),\n",
       " ('US', 54),\n",
       " ('Seroquel', 25),\n",
       " ('Xanax', 18),\n",
       " ('USA', 16),\n",
       " ('Discord', 11),\n",
       " ('Wisconsin', 9),\n",
       " ('APHP', 9),\n",
       " ('China', 8),\n",
       " ('America', 8),\n",
       " ('UK', 8),\n",
       " ('LE', 7),\n",
       " ('Canada', 7),\n",
       " ('California', 7),\n",
       " ('turkey', 6),\n",
       " ('Tylenol', 6),\n",
       " ('Florida', 6),\n",
       " ('Missouri', 6),\n",
       " ('Mexico', 5),\n",
       " ('Walmart', 5),\n",
       " ('Vendor', 5),\n",
       " ('Minneapolis', 4),\n",
       " ('MDPV', 4),\n",
       " ('M1', 4),\n",
       " ('Tina', 4),\n",
       " ('Ketamine', 4),\n",
       " ('Molly', 4),\n",
       " ('Oxycodone', 4),\n",
       " ('Miami', 3),\n",
       " ('Opana', 3),\n",
       " ('meth', 3),\n",
       " ('Valium', 3),\n",
       " ('Ambien', 3),\n",
       " ('Temazepam', 3),\n",
       " ('Pentylone', 3),\n",
       " ('Hydrocodone', 3),\n",
       " ('Codeine', 3),\n",
       " ('JJ', 3),\n",
       " ('PWD', 3),\n",
       " ('Minnesota', 3),\n",
       " ('Eminem', 3),\n",
       " ('pedophilia', 3),\n",
       " ('china', 2),\n",
       " ('LSD', 2),\n",
       " ('Oxy', 2),\n",
       " ('Russia', 2),\n",
       " ('Bitcoin', 2),\n",
       " ('India', 2),\n",
       " ('Ativan', 2),\n",
       " ('Klonopin', 2),\n",
       " ('Utah', 2),\n",
       " ('blotter', 2),\n",
       " ('Vicodin', 2),\n",
       " ('xanax', 2),\n",
       " ('tina', 2),\n",
       " ('incognito', 2),\n",
       " ('Houston', 2),\n",
       " ('Elvis', 2),\n",
       " ('Pornhub', 2),\n",
       " ('adderall', 2),\n",
       " ('Nevada', 2),\n",
       " ('Pac', 2),\n",
       " ('Acetyl', 2),\n",
       " ('Thiofentanyl', 2),\n",
       " ('Furanylfentanyl', 2),\n",
       " ('Meth', 2),\n",
       " ('MXE', 2),\n",
       " ('Nitroious', 2),\n",
       " ('MT-45', 2),\n",
       " ('kinda', 1),\n",
       " ('kiddo', 1),\n",
       " ('OJ', 1),\n",
       " ('Santa', 1),\n",
       " ('Ritalin', 1),\n",
       " ('Pussy', 1),\n",
       " ('weed', 1),\n",
       " ('NICU', 1),\n",
       " ('Vaginas', 1),\n",
       " ('Oxys', 1),\n",
       " (\"IV'd\", 1),\n",
       " ('aspirin', 1),\n",
       " ('Weed', 1),\n",
       " ('Opium', 1),\n",
       " ('Mephedrone', 1),\n",
       " ('Fentanyl', 1),\n",
       " ('Instragram', 1),\n",
       " ('Wilmington NC', 1),\n",
       " ('ketamine', 1),\n",
       " ('Jamaica', 1),\n",
       " ('Olanzapine', 1),\n",
       " ('YASSSS', 1),\n",
       " ('https://quizlet.com/86456648/exempt-narcotics-select-schedule-v-medications-and-pseudoephedrine-containing-products-flash-cards/',\n",
       "  1),\n",
       " ('Hoover', 1),\n",
       " ('CC', 1),\n",
       " ('pussy', 1),\n",
       " ('Jesse', 1),\n",
       " ('Australia', 1),\n",
       " ('Wanna', 1),\n",
       " ('the United States', 1),\n",
       " ('Colorado', 1),\n",
       " ('the united states', 1),\n",
       " ('Spun', 1),\n",
       " ('Lyrica', 1),\n",
       " ('Bananas', 1),\n",
       " ('Wikipedia', 1),\n",
       " ('•Threatens', 1),\n",
       " ('Norco', 1),\n",
       " ('Kentucky', 1),\n",
       " ('Hydrocodne', 1),\n",
       " ('maxnormal2324', 1),\n",
       " ('az', 1),\n",
       " ('doesoxyn', 1),\n",
       " ('Offerup', 1),\n",
       " ('Texas', 1),\n",
       " ('us', 1),\n",
       " ('ketchup', 1),\n",
       " ('Orlando', 1),\n",
       " ('Us', 1),\n",
       " ('Youtube', 1),\n",
       " ('Journey', 1),\n",
       " ('Notorious BIG', 1),\n",
       " ('Nirvana', 1),\n",
       " ('Oasis', 1),\n",
       " ('Algeria', 1),\n",
       " ('pedo', 1),\n",
       " ('Dealin', 1),\n",
       " ('Daniel', 1),\n",
       " ('Walmart tylenol', 1),\n",
       " ('Topamax', 1),\n",
       " ('Cambodia', 1),\n",
       " ('https://www.fda.gov/downloads/AboutFDA/Transparency/Basics/UCM226568.pdf',\n",
       "  1),\n",
       " ('LaPoop', 1),\n",
       " (\"IV'ing\", 1),\n",
       " ('Yeezys', 1),\n",
       " ('Nyquil', 1),\n",
       " ('Isobutyrfentanyl', 1),\n",
       " ('Butyryl', 1),\n",
       " ('Arrgh', 1),\n",
       " ('New York', 1),\n",
       " ('Washington', 1),\n",
       " ('Spain', 1),\n",
       " ('Netflix', 1),\n",
       " ('Temaz', 1),\n",
       " ('Ulta', 1),\n",
       " ('Stairway', 1),\n",
       " ('FL', 1),\n",
       " ('Quaaludes', 1),\n",
       " ('Chicago', 1),\n",
       " ('Boise', 1),\n",
       " ('Portland', 1),\n",
       " ('Mount Vernon/North Bronx', 1),\n",
       " ('Timbaland', 1),\n",
       " ('MTurk', 1),\n",
       " ('Denmark', 1),\n",
       " ('Iceland', 1),\n",
       " ('Nawwww', 1),\n",
       " ('Notorius BIG', 1),\n",
       " ('North Korea', 1),\n",
       " ('Mpls', 1),\n",
       " ('w4m', 1),\n",
       " ('100mgs', 1),\n",
       " ('jef4z05h&sh=35dc8158', 1),\n",
       " ('norco', 1),\n",
       " ('Germany', 1)]"
      ]
     },
     "execution_count": 83,
     "metadata": {},
     "output_type": "execute_result"
    }
   ],
   "source": [
    "Counter([e.text for e in gpes_by_user[\"gpes\"][4]]).most_common()"
   ]
  },
  {
   "cell_type": "code",
   "execution_count": 72,
   "metadata": {
    "collapsed": true,
    "jupyter": {
     "outputs_hidden": true
    }
   },
   "outputs": [
    {
     "data": {
      "text/plain": [
       "Counter({(Wharton, 1): 1,\n",
       "         (Adderall, 1): 1,\n",
       "         (america, 1): 1,\n",
       "         (Adderall, 1): 1,\n",
       "         (US, 1): 1,\n",
       "         (US, 1): 1,\n",
       "         (US, 1): 1,\n",
       "         (US, 1): 1,\n",
       "         (Seroquel, 1): 1,\n",
       "         (APVP, 1): 1,\n",
       "         (APVP, 1): 1,\n",
       "         (va va va, 1): 1,\n",
       "         (kinda, 1): 1,\n",
       "         (Adderall, 1): 1,\n",
       "         (Suburbia, 1): 1,\n",
       "         (Xanax, 1): 1,\n",
       "         (US, 1): 1,\n",
       "         (Ulta, 1): 1,\n",
       "         (India, 1): 1,\n",
       "         (New York, 1): 1,\n",
       "         (New York, 1): 1,\n",
       "         (Adderall, 1): 1,\n",
       "         (Aexandria, 1): 1,\n",
       "         (Mexico, 1): 1,\n",
       "         (US, 1): 1,\n",
       "         (RX, 1): 1,\n",
       "         (Vitamultin, 1): 1,\n",
       "         (turkey, 1): 1,\n",
       "         (turkey, 1): 1,\n",
       "         (Ulta, 1): 1,\n",
       "         (Kanye, 1): 1,\n",
       "         (APVP, 1): 1,\n",
       "         (APVP, 1): 1,\n",
       "         (blockchain, 1): 1,\n",
       "         (Adderall, 1): 1,\n",
       "         (Canada, 1): 1,\n",
       "         (APVP, 1): 1,\n",
       "         (Scotland, 1): 1,\n",
       "         (Scotland, 1): 1,\n",
       "         (Tumblr, 1): 1,\n",
       "         (Seroquel, 1): 1,\n",
       "         (JS, 1): 1,\n",
       "         (JS, 1): 1,\n",
       "         (JC, 1): 1,\n",
       "         (JC, 1): 1,\n",
       "         (Tati, 1): 1,\n",
       "         (Saint, 1): 1,\n",
       "         (Ulta, 1): 1,\n",
       "         (Sephora, 1): 1,\n",
       "         (Ulta, 1): 1,\n",
       "         (Tylenol, 1): 1,\n",
       "         (US, 1): 1,\n",
       "         (USA, 1): 1,\n",
       "         (https://www.diggitmagazine.com/articles/jeffree-star-lgbtq, 1): 1,\n",
       "         (JC, 1): 1,\n",
       "         (JC, 1): 1,\n",
       "         (JC, 1): 1,\n",
       "         (Seroquel, 1): 1,\n",
       "         (Ulta, 1): 1,\n",
       "         (JC, 1): 1,\n",
       "         (APVP, 1): 1,\n",
       "         (Immodium, 1): 1,\n",
       "         (Canada, 1): 1,\n",
       "         (US, 1): 1,\n",
       "         (US, 1): 1,\n",
       "         (Heroin, 1): 1,\n",
       "         (USA, 1): 1,\n",
       "         (Stan, 1): 1,\n",
       "         (Afrin, 1): 1,\n",
       "         (Afrin, 1): 1,\n",
       "         (Afrin, 1): 1,\n",
       "         (US, 1): 1,\n",
       "         (APVP, 1): 1,\n",
       "         (Seroquel, 1): 1,\n",
       "         (Oregon, 1): 1,\n",
       "         (USA, 1): 1,\n",
       "         (Youtube, 1): 1,\n",
       "         (USA, 1): 1,\n",
       "         (APVP, 1): 1,\n",
       "         (Seroquel, 1): 1,\n",
       "         (Adderall, 1): 1,\n",
       "         (Adderall, 1): 1,\n",
       "         (Walmart, 1): 1,\n",
       "         (Walmart, 1): 1,\n",
       "         (USA, 1): 1,\n",
       "         (US, 1): 1,\n",
       "         (PWD, 1): 1,\n",
       "         (octagon, 1): 1,\n",
       "         (APVP, 1): 1,\n",
       "         (Germany, 1): 1,\n",
       "         (PWD, 1): 1,\n",
       "         (https://s.reddit.com/channel/1109815_ec733a24a346ea4426bd716702b8ccfe3f79ba6f,\n",
       "          1): 1,\n",
       "         (US, 1): 1,\n",
       "         (Walmart, 1): 1,\n",
       "         (Afrin, 1): 1,\n",
       "         (Adderall, 1): 1,\n",
       "         (Adderall, 1): 1,\n",
       "         (Adderall, 1): 1,\n",
       "         (Adderall, 1): 1,\n",
       "         (LE, 1): 1,\n",
       "         (LE, 1): 1,\n",
       "         (LE, 1): 1,\n",
       "         (APVP, 1): 1,\n",
       "         (Xanax, 1): 1,\n",
       "         (Australia, 1): 1,\n",
       "         (IV'ing, 1): 1,\n",
       "         (USA, 1): 1,\n",
       "         (Dorrito, 1): 1,\n",
       "         (Ibogaine, 1): 1,\n",
       "         (https://www.reddit.com/r/Drugs/comments/cjj8lo/rating_all_the_drugs_ive_used_in_my_passed_years/,\n",
       "          1): 1,\n",
       "         (APVP, 1): 1,\n",
       "         (Discord, 1): 1,\n",
       "         (US, 1): 1,\n",
       "         (Discord, 1): 1,\n",
       "         (Discord, 1): 1,\n",
       "         (US, 1): 1,\n",
       "         (Canada, 1): 1,\n",
       "         (Adderall, 1): 1,\n",
       "         (China, 1): 1,\n",
       "         (Mephedrone, 1): 1,\n",
       "         (US, 1): 1,\n",
       "         (APVP, 1): 1,\n",
       "         (APVP, 1): 1,\n",
       "         (Belgium, 1): 1,\n",
       "         (the United States, 1): 1,\n",
       "         (Adderall, 1): 1,\n",
       "         (Aspirin, 1): 1,\n",
       "         (Adderall, 1): 1,\n",
       "         (APVP, 1): 1,\n",
       "         (Adderall, 1): 1,\n",
       "         (US, 1): 1,\n",
       "         (turkey, 1): 1,\n",
       "         (Canada, 1): 1,\n",
       "         (somas, 1): 1,\n",
       "         (Xanax, 1): 1,\n",
       "         (bitcoin, 1): 1,\n",
       "         (Heroin, 1): 1,\n",
       "         (Miami, 1): 1,\n",
       "         (Mexico, 1): 1,\n",
       "         (Jamaica, 1): 1,\n",
       "         (Adderall, 1): 1,\n",
       "         (California, 1): 1,\n",
       "         (Adderall, 1): 1,\n",
       "         (Adderall, 1): 1,\n",
       "         (California, 1): 1,\n",
       "         (100mgs, 1): 1,\n",
       "         (Tarte, 1): 1,\n",
       "         (Propylhexedrine, 1): 1,\n",
       "         (Adderall, 1): 1,\n",
       "         (APVP, 1): 1,\n",
       "         (New York USA, 1): 1,\n",
       "         (APVP, 1): 1,\n",
       "         (Adderall, 1): 1,\n",
       "         (PWD, 1): 1,\n",
       "         (Adderall, 1): 1,\n",
       "         (USA, 1): 1,\n",
       "         (turkey, 1): 1,\n",
       "         (US, 1): 1,\n",
       "         (China, 1): 1,\n",
       "         (US, 1): 1,\n",
       "         (China, 1): 1,\n",
       "         (Adderall, 1): 1,\n",
       "         (Desoxyn, 1): 1,\n",
       "         (US, 1): 1,\n",
       "         (US, 1): 1,\n",
       "         (Opana, 1): 1,\n",
       "         (Opana, 1): 1,\n",
       "         (US, 1): 1,\n",
       "         (xoxoxo, 1): 1,\n",
       "         (adderall, 1): 1,\n",
       "         (APVP, 1): 1,\n",
       "         (APVP, 1): 1,\n",
       "         (APVP, 1): 1,\n",
       "         (Wisconsin, 1): 1,\n",
       "         (https://redditcomber.com/, 1): 1,\n",
       "         (Mexico, 1): 1,\n",
       "         (USA, 1): 1,\n",
       "         (UK, 1): 1,\n",
       "         (Pakistan, 1): 1,\n",
       "         (Opana, 1): 1,\n",
       "         (turkey, 1): 1,\n",
       "         (Canada, 1): 1,\n",
       "         (US, 1): 1,\n",
       "         (Canada, 1): 1,\n",
       "         (APVP, 1): 1,\n",
       "         (APVP, 1): 1,\n",
       "         (ND, 1): 1,\n",
       "         (Adderall, 1): 1,\n",
       "         (Memphis, 1): 1,\n",
       "         (Adderall, 1): 1,\n",
       "         (Lyrica, 1): 1,\n",
       "         (Neurontin, 1): 1,\n",
       "         (Morphe, 1): 1,\n",
       "         (PWD, 1): 1,\n",
       "         (Minneapolis, 1): 1,\n",
       "         (Seroquel, 1): 1,\n",
       "         (Seroquel, 1): 1,\n",
       "         (APVP, 1): 1,\n",
       "         (MDPV, 1): 1,\n",
       "         (US, 1): 1,\n",
       "         (APVP, 1): 1,\n",
       "         (APVP, 1): 1,\n",
       "         (APVP, 1): 1,\n",
       "         (Tati, 1): 1,\n",
       "         (Adderall, 1): 1,\n",
       "         (Ulta, 1): 1,\n",
       "         (US, 1): 1,\n",
       "         (Seroquel, 1): 1,\n",
       "         (China, 1): 1,\n",
       "         (US, 1): 1,\n",
       "         (https://www.reddit.com/r/suboxone/comments/c44ueb/first_ever_suboxone_last_night/?st=k3c2wtkh&sh=a8510aa8,\n",
       "          1): 1,\n",
       "         (US, 1): 1,\n",
       "         (Missouri, 1): 1,\n",
       "         (Adderall, 1): 1,\n",
       "         (Xanax, 1): 1,\n",
       "         (APVP, 1): 1,\n",
       "         (LE, 1): 1,\n",
       "         (LE, 1): 1,\n",
       "         (Tylenol, 1): 1,\n",
       "         (Tylenol, 1): 1,\n",
       "         (LE, 1): 1,\n",
       "         (USA, 1): 1,\n",
       "         (pussy, 1): 1,\n",
       "         (China, 1): 1,\n",
       "         (Walmart, 1): 1,\n",
       "         (China, 1): 1,\n",
       "         (US, 1): 1,\n",
       "         (Tiffany, 1): 1,\n",
       "         (Poshmark, 1): 1,\n",
       "         (US, 1): 1,\n",
       "         (US, 1): 1,\n",
       "         (US, 1): 1,\n",
       "         (Discord, 1): 1,\n",
       "         (APVP, 1): 1,\n",
       "         (Ulta, 1): 1,\n",
       "         (APVP, 1): 1,\n",
       "         (APVP, 1): 1,\n",
       "         (US, 1): 1,\n",
       "         (USA, 1): 1,\n",
       "         (Codeine, 1): 1,\n",
       "         (Wisconsin, 1): 1,\n",
       "         (Wisconsin, 1): 1,\n",
       "         (Adderall, 1): 1,\n",
       "         (Adderall, 1): 1,\n",
       "         (Adderall, 1): 1,\n",
       "         (Morphine, 1): 1,\n",
       "         (Oxycodone, 1): 1,\n",
       "         (Hydrocodone, 1): 1,\n",
       "         (Adderall, 1): 1,\n",
       "         (Minnesota, 1): 1,\n",
       "         (Heroin, 1): 1,\n",
       "         (Netflix, 1): 1,\n",
       "         (Adderall, 1): 1,\n",
       "         (Norco, 1): 1,\n",
       "         (opana, 1): 1,\n",
       "         (JJ, 1): 1,\n",
       "         (Lexington, 1): 1,\n",
       "         (Louisville, 1): 1,\n",
       "         (Phoenix, 1): 1,\n",
       "         (Arizona, 1): 1,\n",
       "         (Bristol County, 1): 1,\n",
       "         (New Hanover County NC, 1): 1,\n",
       "         (Bristol County, 1): 1,\n",
       "         (Massachusetts, 1): 1,\n",
       "         (Walmart, 1): 1,\n",
       "         (Chicago, 1): 1,\n",
       "         (Lexington, 1): 1,\n",
       "         (Kentucky, 1): 1,\n",
       "         (Huntsville Alabama, 1): 1,\n",
       "         (Natick, 1): 1,\n",
       "         (Massachusetts, 1): 1,\n",
       "         (Middlesex County, 1): 1,\n",
       "         (Discord, 1): 1,\n",
       "         (Discord, 1): 1,\n",
       "         (Fort Worth, 1): 1,\n",
       "         (San Antonio, 1): 1,\n",
       "         (Texas, 1): 1,\n",
       "         (Kamloops, 1): 1,\n",
       "         (South West Baltimore, 1): 1,\n",
       "         (Virginia, 1): 1,\n",
       "         (Hardcore, 1): 1,\n",
       "         (jce40lm3&sh=5d62eac9, 1): 1,\n",
       "         (Discord, 1): 1,\n",
       "         (Discord, 1): 1,\n",
       "         (San Diego, 1): 1,\n",
       "         (Carfentenil, 1): 1,\n",
       "         (China, 1): 1,\n",
       "         (Suffolk County Long Island, 1): 1,\n",
       "         (New York, 1): 1,\n",
       "         (nada, 1): 1,\n",
       "         (W, 1): 1,\n",
       "         (SW, 1): 1,\n",
       "         (Canada, 1): 1,\n",
       "         (USA, 1): 1,\n",
       "         (USA, 1): 1,\n",
       "         (Adderall, 1): 1,\n",
       "         (us, 1): 1,\n",
       "         (Soooo, 1): 1,\n",
       "         (LE, 1): 1,\n",
       "         (US, 1): 1,\n",
       "         (US, 1): 1,\n",
       "         (xanax, 1): 1,\n",
       "         (turkey, 1): 1,\n",
       "         (turkey, 1): 1,\n",
       "         (San Francisco, 1): 1,\n",
       "         (San Jose, 1): 1,\n",
       "         (Soooo, 1): 1,\n",
       "         (Montreal, 1): 1,\n",
       "         (Ulta, 1): 1,\n",
       "         (Ulta, 1): 1,\n",
       "         (Kensington, 1): 1,\n",
       "         (Carfentanil, 1): 1,\n",
       "         (xoxox, 1): 1,\n",
       "         (kilo, 1): 1,\n",
       "         (LE, 1): 1,\n",
       "         (LE, 1): 1,\n",
       "         (new zealand, 1): 1,\n",
       "         (LE, 1): 1})"
      ]
     },
     "execution_count": 72,
     "metadata": {},
     "output_type": "execute_result"
    }
   ],
   "source": [
    "gpes_by_user[\"gpes\"][3]"
   ]
  },
  {
   "cell_type": "markdown",
   "metadata": {
    "toc-hr-collapsed": true
   },
   "source": [
    "# Word Usage"
   ]
  },
  {
   "cell_type": "markdown",
   "metadata": {},
   "source": [
    "## Location Mentions"
   ]
  },
  {
   "cell_type": "code",
   "execution_count": 83,
   "metadata": {
    "collapsed": false,
    "jupyter": {
     "outputs_hidden": false
    }
   },
   "outputs": [],
   "source": [
    "# get raw and normalized word counts in df\n",
    "# NOTE: words is a 2d list with:\n",
    "# dim 1: a category to count and plot\n",
    "# dim 2: aliases to include in that category.  can only be a single word for now\n",
    "loc_words = [[\"boston\", \"beantown\", \"bos\"], [\"lawrence\"], [\"lowell\"], [\"manchester\"], [\"worcester\"]]\n",
    "loc_df = append_wc(df, loc_words, user_counts)"
   ]
  },
  {
   "cell_type": "code",
   "execution_count": 84,
   "metadata": {
    "collapsed": false,
    "jupyter": {
     "outputs_hidden": false
    }
   },
   "outputs": [
    {
     "data": {
      "text/plain": [
       "Text(0.5, 1.0, 'Number of Word Occurrences per Year')"
      ]
     },
     "execution_count": 84,
     "metadata": {},
     "output_type": "execute_result"
    },
    {
     "data": {
      "image/png": "[encoded data removed]",
      "text/plain": [
       "<Figure size 720x576 with 1 Axes>"
      ]
     },
     "metadata": {
      "needs_background": "light"
     },
     "output_type": "display_data"
    }
   ],
   "source": [
    "# plot y='word_counts' for raw counts or y='wc_norm' for norm counts\n",
    "plt.figure(figsize=(10, 8))\n",
    "ax = sns.barplot(x=\"years\", y=\"word_counts\", hue=\"words\", data=wc_df)\n",
    "ax.set_title(f\"Number of Word Occurrences per Year\")"
   ]
  },
  {
   "cell_type": "markdown",
   "metadata": {},
   "source": [
    "## Drug Mentions"
   ]
  },
  {
   "cell_type": "code",
   "execution_count": 85,
   "metadata": {},
   "outputs": [],
   "source": [
    "drug_words = [[\"fentanyl\", \"fent\", \"fenty\"], [\"heroin\"]]\n",
    "drug_df = append_wc(full_df, drug_words, user_counts)"
   ]
  },
  {
   "cell_type": "code",
   "execution_count": 86,
   "metadata": {},
   "outputs": [
    {
     "data": {
      "text/plain": [
       "Text(0.5, 1.0, 'Number of Word Occurrences per Year')"
      ]
     },
     "execution_count": 86,
     "metadata": {},
     "output_type": "execute_result"
    },
    {
     "data": {
      "image/png": "[encoded data removed]",
      "text/plain": [
       "<Figure size 720x576 with 1 Axes>"
      ]
     },
     "metadata": {
      "needs_background": "light"
     },
     "output_type": "display_data"
    }
   ],
   "source": [
    "# plot y='word_counts' for raw counts or y='wc_norm' for norm counts\n",
    "plt.figure(figsize=(10, 8))\n",
    "ax = sns.barplot(x=\"years\", y=\"word_counts\", hue=\"words\", data=drug_df)\n",
    "ax.set_title(f\"Number of Word Occurrences per Year\")"
   ]
  },
  {
   "cell_type": "markdown",
   "metadata": {
    "toc-hr-collapsed": false
   },
   "source": [
    "# Summative Visualizations"
   ]
  },
  {
   "cell_type": "markdown",
   "metadata": {},
   "source": [
    "## Date Distributions"
   ]
  },
  {
   "cell_type": "code",
   "execution_count": 5,
   "metadata": {
    "collapsed": false,
    "jupyter": {
     "outputs_hidden": false
    }
   },
   "outputs": [],
   "source": [
    "full_df[\"date\"] = full_df.time.apply(lambda ts: date(ts.year, ts.month, ts.day))\n",
    "date_groups = full_df.groupby(\"date\").count().reset_index()"
   ]
  },
  {
   "cell_type": "code",
   "execution_count": null,
   "metadata": {
    "collapsed": false,
    "jupyter": {
     "outputs_hidden": false
    }
   },
   "outputs": [],
   "source": [
    "df_19 = date_groups.loc[date_groups[\"date\"] >= date(2019, 1, 1), :]\n",
    "sns.barplot(x=\"date\", y=\"hash\", data=df_19)"
   ]
  },
  {
   "cell_type": "markdown",
   "metadata": {
    "toc-hr-collapsed": false
   },
   "source": [
    "## Number of Posts Over Time"
   ]
  },
  {
   "cell_type": "markdown",
   "metadata": {},
   "source": [
    "### Count of Submissions Over Time"
   ]
  },
  {
   "cell_type": "code",
   "execution_count": 39,
   "metadata": {
    "collapsed": false,
    "jupyter": {
     "outputs_hidden": false
    }
   },
   "outputs": [
    {
     "data": {
      "text/plain": [
       "Text(0.5, 1.0, 'Number of r/opiates Submissions Over Time')"
      ]
     },
     "execution_count": 39,
     "metadata": {},
     "output_type": "execute_result"
    },
    {
     "data": {
      "image/png": "[encoded data removed]",
      "text/plain": [
       "<Figure size 432x288 with 1 Axes>"
      ]
     },
     "metadata": {
      "needs_background": "light"
     },
     "output_type": "display_data"
    }
   ],
   "source": [
    "count_df = sub_df.groupby(\"year\").count().reset_index().loc[:, [\"year\", \"_id\"]]\n",
    "count_df.columns = [\"year\", \"num_posts\"]\n",
    "norm_posts: List[float] = [p / u for p, u in zip(count_df[\"num_posts\"], user_counts)]\n",
    "ax = sns.barplot(x=count_df.year, y=count_df[\"num_posts\"])\n",
    "ax.set_title(\"Number of r/opiates Submissions Over Time\")"
   ]
  },
  {
   "cell_type": "markdown",
   "metadata": {},
   "source": [
    "### Count of Submissions + Comments Over Time"
   ]
  },
  {
   "cell_type": "code",
   "execution_count": 21,
   "metadata": {
    "collapsed": false,
    "jupyter": {
     "outputs_hidden": false
    }
   },
   "outputs": [
    {
     "data": {
      "text/plain": [
       "<matplotlib.axes._subplots.AxesSubplot at 0x15c7c4a10>"
      ]
     },
     "execution_count": 21,
     "metadata": {},
     "output_type": "execute_result"
    },
    {
     "data": {
      "image/png": "[encoded data removed]",
      "text/plain": [
       "<Figure size 432x288 with 1 Axes>"
      ]
     },
     "metadata": {
      "needs_background": "light"
     },
     "output_type": "display_data"
    }
   ],
   "source": [
    "# group by year\n",
    "query_str = { \n",
    "    \"$group\": { \n",
    "        \"_id\": { \n",
    "            \"year\": {\"$year\": \"$time\"}}, \n",
    "        \"count\": {\n",
    "            \"$sum\": 1\n",
    "        },\n",
    "        \"subs\": {\"$sum\": 1}\n",
    "    }\n",
    "}\n",
    "query = COLL.aggregate([query_str])\n",
    "\n",
    "# extract data\n",
    "query_li = list(query)\n",
    "years = [str(it[\"_id\"][\"year\"]) for it in query_li]\n",
    "counts = [it[\"count\"] for it in query_li]\n",
    "\n",
    "# create dataframe\n",
    "df = pd.DataFrame({\"year\": years, \"count\": counts})\n",
    "\n",
    "# plot\n",
    "sns.barplot(x=\"year\", y=\"count\", data=df)"
   ]
  },
  {
   "cell_type": "markdown",
   "metadata": {},
   "source": [
    "### Count of Submissions + Real Comments"
   ]
  },
  {
   "cell_type": "code",
   "execution_count": 55,
   "metadata": {},
   "outputs": [
    {
     "data": {
      "text/plain": [
       "<matplotlib.axes._subplots.AxesSubplot at 0x1782412d0>"
      ]
     },
     "execution_count": 55,
     "metadata": {},
     "output_type": "execute_result"
    },
    {
     "data": {
      "image/png": "[encoded data removed]",
      "text/plain": [
       "<Figure size 432x288 with 1 Axes>"
      ]
     },
     "metadata": {
      "needs_background": "light"
     },
     "output_type": "display_data"
    }
   ],
   "source": [
    "sub_df.query(\"year == '2017'\").shape[0]\n",
    "comms = sub_df.groupby(\"year\")[\"num_comments\"].sum().tolist()\n",
    "subs = sub_df.groupby(\"year\").count()\n",
    "combined = [a + b for a, b in zip(comms, subs[\"hash\"].tolist())]\n",
    "sns.barplot(x=subs.index, y=combined)"
   ]
  },
  {
   "cell_type": "markdown",
   "metadata": {},
   "source": [
    "### Real comments vs. extracted comments"
   ]
  },
  {
   "cell_type": "code",
   "execution_count": 44,
   "metadata": {},
   "outputs": [],
   "source": [
    "real_comm_query = [\n",
    "    {\"$match\": {\n",
    "        \"is_sub\": True}},\n",
    "    {\"$group\": {\n",
    "        \"_id\": {\"year\": {\"$year\": \"$time\"}},\n",
    "        \"count\": {\"$sum\": \"$num_comments\"}}}\n",
    "]\n",
    "real_res = COLL.aggregate(real_comm_query)\n",
    "real_df = pd.DataFrame(list(real_res))\n",
    "real_df[\"year\"] = real_df[\"_id\"].apply(lambda x: x[\"year\"])"
   ]
  },
  {
   "cell_type": "code",
   "execution_count": 45,
   "metadata": {},
   "outputs": [],
   "source": [
    "# group by year\n",
    "raw_query = [\n",
    "    {\"$match\": {\"is_sub\": False}},\n",
    "    {\"$group\": {\"_id\": {\"year\": {\"$year\": \"$time\"}}, \n",
    "                \"count\": {\"$sum\": 1}}}\n",
    "]\n",
    "raw_res = COLL.aggregate(raw_query)\n",
    "raw_df = pd.DataFrame(list(raw_res))\n",
    "raw_df[\"year\"] = raw_df[\"_id\"].apply(lambda x: x[\"year\"])"
   ]
  },
  {
   "cell_type": "code",
   "execution_count": 48,
   "metadata": {},
   "outputs": [],
   "source": [
    "# combine dataframes\n",
    "comm_df = real_df.merge(raw_df, on=\"year\", how=\"inner\")"
   ]
  },
  {
   "cell_type": "code",
   "execution_count": 50,
   "metadata": {
    "collapsed": false,
    "jupyter": {
     "outputs_hidden": false
    }
   },
   "outputs": [
    {
     "data": {
      "image/png": "[encoded data removed]",
      "text/plain": [
       "<Figure size 432x288 with 1 Axes>"
      ]
     },
     "metadata": {
      "needs_background": "light"
     },
     "output_type": "display_data"
    }
   ],
   "source": [
    "# plot\n",
    "years = comm_df[\"year\"].tolist() * 2\n",
    "label = [\"Real Comment Counts\"] * comm_df.shape[0] + \\\n",
    "        [\"Raw Comment Counts\"] * comm_df.shape[0]\n",
    "counts = comm_df[\"count_x\"].tolist() + comm_df[\"count_y\"].tolist()\n",
    "ax = sns.barplot(x=years, y=counts, hue=label)\n",
    "ax.set_title(\"Count of Submissions + Comments Per Year\")\n",
    "plt.show()"
   ]
  },
  {
   "cell_type": "markdown",
   "metadata": {},
   "source": [
    "### Average Number of Comments Per Post Over Time"
   ]
  },
  {
   "cell_type": "code",
   "execution_count": 40,
   "metadata": {
    "collapsed": false,
    "jupyter": {
     "outputs_hidden": false
    }
   },
   "outputs": [
    {
     "data": {
      "text/plain": [
       "Text(0.5, 1.0, 'Average Number of Comments Per Post Over Time')"
      ]
     },
     "execution_count": 40,
     "metadata": {},
     "output_type": "execute_result"
    },
    {
     "data": {
      "image/png": "[encoded data removed]",
      "text/plain": [
       "<Figure size 432x288 with 1 Axes>"
      ]
     },
     "metadata": {
      "needs_background": "light"
     },
     "output_type": "display_data"
    }
   ],
   "source": [
    "comm_df = sub_df.loc[:,[\"year\", \"num_comments\"]].dropna().groupby(\"year\")\\\n",
    "                                                .mean().reset_index()\n",
    "ax = sns.barplot(x=comm_df.year, y=comm_df.num_comments)\n",
    "ax.set_title(\"Average Number of Comments Per Post Over Time\")"
   ]
  },
  {
   "cell_type": "code",
   "execution_count": 57,
   "metadata": {},
   "outputs": [],
   "source": [
    "comm_counts = full_df.groupby(\"parent_id\").count().reset_index()\n",
    "comm_counts[\"new_par_id\"] = comm_counts[\"parent_id\"].apply(lambda x: x.replace(\"t1_\", \"\"))"
   ]
  },
  {
   "cell_type": "markdown",
   "metadata": {},
   "source": [
    "## Active Number of Users on R/Opiates Over Time"
   ]
  },
  {
   "cell_type": "code",
   "execution_count": 18,
   "metadata": {
    "collapsed": false,
    "jupyter": {
     "outputs_hidden": false
    }
   },
   "outputs": [],
   "source": [
    "def users_per_year(df: pd.DataFrame) -> Tuple[List[str], List[int]]:\n",
    "    \"\"\"\n",
    "    Find the number of unique users per year in the given df.\n",
    "    \n",
    "    Note: assumes columns names \"username\" and \"year\" in the df.\n",
    "    \"\"\"\n",
    "    years: List[str] = list(df[\"year\"].unique())\n",
    "    user_counts: List[int] = [df.loc[df.year == year, \"username\"].unique().shape[0] for year in years]\n",
    "    return years, user_counts"
   ]
  },
  {
   "cell_type": "code",
   "execution_count": 19,
   "metadata": {
    "collapsed": false,
    "jupyter": {
     "outputs_hidden": false
    }
   },
   "outputs": [
    {
     "data": {
      "text/plain": [
       "Text(0.5, 1.0, 'Number of r/opiates Active Users Over Time')"
      ]
     },
     "execution_count": 19,
     "metadata": {},
     "output_type": "execute_result"
    },
    {
     "data": {
      "image/png": "[encoded data removed]",
      "text/plain": [
       "<Figure size 432x288 with 1 Axes>"
      ]
     },
     "metadata": {
      "needs_background": "light"
     },
     "output_type": "display_data"
    }
   ],
   "source": [
    "years, user_counts = users_per_year(full_df)\n",
    "ax = sns.barplot(x=years, y=user_counts)\n",
    "ax.set_title(\"Number of r/opiates Active Users Over Time\")"
   ]
  },
  {
   "cell_type": "markdown",
   "metadata": {},
   "source": [
    "## Frequency Table"
   ]
  },
  {
   "cell_type": "code",
   "execution_count": 245,
   "metadata": {
    "collapsed": false,
    "jupyter": {
     "outputs_hidden": false
    }
   },
   "outputs": [],
   "source": [
    "freq_df = pd.DataFrame(list(COLL.find({})))\n",
    "freq_df[\"year\"] = freq_df.time.apply(lambda x: str(x.year))"
   ]
  },
  {
   "cell_type": "code",
   "execution_count": 246,
   "metadata": {
    "collapsed": false,
    "jupyter": {
     "outputs_hidden": false
    }
   },
   "outputs": [],
   "source": [
    "freq_df[\"Threads\"] = freq_df[\"is_sub\"].apply(lambda x: 1 if x else 0)\n",
    "freq_df[\"Comments\"] = freq_df[\"is_sub\"].apply(lambda x: 1 if (not x) else 0)\n",
    "freq_df[\"Totals\"] = [1] * freq_df.shape[0]\n",
    "count_df = freq_df.groupby(\"year\").sum().loc[:,[\"Threads\", \"Comments\", \"Totals\"]]"
   ]
  },
  {
   "cell_type": "code",
   "execution_count": 247,
   "metadata": {
    "collapsed": false,
    "jupyter": {
     "outputs_hidden": false
    }
   },
   "outputs": [
    {
     "data": {
      "text/html": [
       "<div>\n",
       "<style scoped>\n",
       "    .dataframe tbody tr th:only-of-type {\n",
       "        vertical-align: middle;\n",
       "    }\n",
       "\n",
       "    .dataframe tbody tr th {\n",
       "        vertical-align: top;\n",
       "    }\n",
       "\n",
       "    .dataframe thead th {\n",
       "        text-align: right;\n",
       "    }\n",
       "</style>\n",
       "<table border=\"1\" class=\"dataframe\">\n",
       "  <thead>\n",
       "    <tr style=\"text-align: right;\">\n",
       "      <th></th>\n",
       "      <th>Threads</th>\n",
       "      <th>Comments</th>\n",
       "      <th>Totals</th>\n",
       "    </tr>\n",
       "    <tr>\n",
       "      <th>year</th>\n",
       "      <th></th>\n",
       "      <th></th>\n",
       "      <th></th>\n",
       "    </tr>\n",
       "  </thead>\n",
       "  <tbody>\n",
       "    <tr>\n",
       "      <th>2019</th>\n",
       "      <td>175.0</td>\n",
       "      <td>2162.0</td>\n",
       "      <td>2337.0</td>\n",
       "    </tr>\n",
       "  </tbody>\n",
       "</table>\n",
       "</div>"
      ],
      "text/plain": [
       "      Threads  Comments  Totals\n",
       "year                           \n",
       "2019    175.0    2162.0  2337.0"
      ]
     },
     "execution_count": 247,
     "metadata": {},
     "output_type": "execute_result"
    }
   ],
   "source": [
    "count_df"
   ]
  }
 ],
 "metadata": {
  "kernelspec": {
   "display_name": "Python 3",
   "language": "python",
   "name": "python3"
  },
  "language_info": {
   "codemirror_mode": {
    "name": "ipython",
    "version": 3
   },
   "file_extension": ".py",
   "mimetype": "text/x-python",
   "name": "python",
   "nbconvert_exporter": "python",
   "pygments_lexer": "ipython3",
   "version": "3.7.5"
  },
  "name": "explore.ipynb"
 },
 "nbformat": 4,
 "nbformat_minor": 4
}
