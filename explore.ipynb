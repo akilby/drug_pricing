{
 "cells": [
  {
   "cell_type": "code",
   "execution_count": 2,
   "metadata": {
    "collapsed": false,
    "jupyter": {
     "outputs_hidden": false
    }
   },
   "outputs": [],
   "source": [
    "import pymongo\n",
    "from pprint import pprint\n",
    "from datetime import datetime, date\n",
    "import seaborn as sns\n",
    "import matplotlib.pyplot as plt\n",
    "import pandas as pd\n",
    "from typing import List, Set, Tuple\n",
    "import functools as ft\n",
    "import numpy as np\n",
    "import random\n",
    "from tqdm import tqdm\n",
    "from constants import utc_to_dt, COLL\n",
    "import spacy\n",
    "nlp = spacy.load(\"en_core_web_sm\")"
   ]
  },
  {
   "cell_type": "code",
   "execution_count": 3,
   "metadata": {
    "collapsed": false,
    "jupyter": {
     "outputs_hidden": false
    }
   },
   "outputs": [],
   "source": [
    "# generate dataframes of opiate data\n",
    "n_samples = 100000\n",
    "samp_query = COLL.aggregate([{ \"$sample\": {\"size\": n_samples} }])\n",
    "samp_df = pd.DataFrame(list(samp_query))\n",
    "full_df = pd.DataFrame(list(COLL.find({})))\n",
    "sub_df = full_df.loc[full_df.is_sub == True, :]"
   ]
  },
  {
   "cell_type": "code",
   "execution_count": 4,
   "metadata": {
    "collapsed": false,
    "jupyter": {
     "outputs_hidden": false
    }
   },
   "outputs": [],
   "source": [
    "# format dataframe\n",
    "samp_df[\"year\"] = samp_df.time.apply(lambda x: str(x.year))\n",
    "full_df[\"year\"] = full_df.time.apply(lambda x: str(x.year))\n",
    "sub_df[\"year\"] = sub_df.time.apply(lambda x: str(x.year))"
   ]
  },
  {
   "cell_type": "markdown",
   "metadata": {},
   "source": [
    "## Date Distributions"
   ]
  },
  {
   "cell_type": "code",
   "execution_count": 5,
   "metadata": {
    "collapsed": false,
    "jupyter": {
     "outputs_hidden": false
    }
   },
   "outputs": [],
   "source": [
    "full_df[\"date\"] = full_df.time.apply(lambda ts: date(ts.year, ts.month, ts.day))\n",
    "date_groups = full_df.groupby(\"date\").count().reset_index()"
   ]
  },
  {
   "cell_type": "code",
   "execution_count": 6,
   "metadata": {
    "collapsed": false,
    "jupyter": {
     "outputs_hidden": false
    }
   },
   "outputs": [
    {
     "data": {
      "text/plain": [
       "<matplotlib.axes._subplots.AxesSubplot at 0x159f4be50>"
      ]
     },
     "execution_count": 6,
     "metadata": {},
     "output_type": "execute_result"
    },
    {
     "data": {
      "image/png": "[encoded data removed]",
      "text/plain": [
       "<Figure size 432x288 with 1 Axes>"
      ]
     },
     "metadata": {
      "needs_background": "light"
     },
     "output_type": "display_data"
    }
   ],
   "source": [
    "df_19 = date_groups.loc[date_groups[\"date\"] >= date(2019, 1, 1), :]\n",
    "sns.barplot(x=\"date\", y=\"hash\", data=df_19)"
   ]
  },
  {
   "cell_type": "markdown",
   "metadata": {},
   "source": [
    "## Average Number of Comments Per Post Over Time"
   ]
  },
  {
   "cell_type": "code",
   "execution_count": 17,
   "metadata": {
    "collapsed": false,
    "jupyter": {
     "outputs_hidden": false
    }
   },
   "outputs": [
    {
     "data": {
      "text/plain": [
       "Text(0.5, 1.0, 'Average Number of Comments Per Post Over Time')"
      ]
     },
     "execution_count": 17,
     "metadata": {},
     "output_type": "execute_result"
    },
    {
     "data": {
      "image/png": "[encoded data removed]",
      "text/plain": [
       "<Figure size 432x288 with 1 Axes>"
      ]
     },
     "metadata": {
      "needs_background": "light"
     },
     "output_type": "display_data"
    }
   ],
   "source": [
    "comm_df = sub_df.loc[:,[\"year\", \"num_comments\"]].dropna().groupby(\"year\")\\\n",
    "                                                .mean().reset_index()\n",
    "ax = sns.barplot(x=comm_df.year, y=comm_df.num_comments)\n",
    "ax.set_title(\"Average Number of Comments Per Post Over Time\")"
   ]
  },
  {
   "cell_type": "markdown",
   "metadata": {},
   "source": [
    "## Active Number of Users on R/Opiates Over Time"
   ]
  },
  {
   "cell_type": "code",
   "execution_count": 18,
   "metadata": {
    "collapsed": false,
    "jupyter": {
     "outputs_hidden": false
    }
   },
   "outputs": [],
   "source": [
    "def users_per_year(df: pd.DataFrame) -> Tuple[List[str], List[int]]:\n",
    "    \"\"\"\n",
    "    Find the number of unique users per year in the given df.\n",
    "    \n",
    "    Note: assumes columns names \"username\" and \"year\" in the df.\n",
    "    \"\"\"\n",
    "    years: List[str] = list(df[\"year\"].unique())\n",
    "    user_counts: List[int] = [df.loc[df.year == year, \"username\"].unique().shape[0] for year in years]\n",
    "    return years, user_counts"
   ]
  },
  {
   "cell_type": "code",
   "execution_count": 19,
   "metadata": {
    "collapsed": false,
    "jupyter": {
     "outputs_hidden": false
    }
   },
   "outputs": [
    {
     "data": {
      "text/plain": [
       "Text(0.5, 1.0, 'Number of r/opiates Active Users Over Time')"
      ]
     },
     "execution_count": 19,
     "metadata": {},
     "output_type": "execute_result"
    },
    {
     "data": {
      "image/png": "[encoded data removed]",
      "text/plain": [
       "<Figure size 432x288 with 1 Axes>"
      ]
     },
     "metadata": {
      "needs_background": "light"
     },
     "output_type": "display_data"
    }
   ],
   "source": [
    "years, user_counts = users_per_year(full_df)\n",
    "ax = sns.barplot(x=years, y=user_counts)\n",
    "ax.set_title(\"Number of r/opiates Active Users Over Time\")"
   ]
  },
  {
   "cell_type": "markdown",
   "metadata": {
    "toc-hr-collapsed": false
   },
   "source": [
    "## Number of Posts Over Time"
   ]
  },
  {
   "cell_type": "markdown",
   "metadata": {},
   "source": [
    "### 1. Count of Submissions Over Time"
   ]
  },
  {
   "cell_type": "code",
   "execution_count": 24,
   "metadata": {
    "collapsed": false,
    "jupyter": {
     "outputs_hidden": false
    }
   },
   "outputs": [
    {
     "data": {
      "text/plain": [
       "Text(0.5, 1.0, 'Number of r/opiates Submissions Over Time')"
      ]
     },
     "execution_count": 24,
     "metadata": {},
     "output_type": "execute_result"
    },
    {
     "data": {
      "image/png": "[encoded data removed]",
      "text/plain": [
       "<Figure size 432x288 with 1 Axes>"
      ]
     },
     "metadata": {
      "needs_background": "light"
     },
     "output_type": "display_data"
    }
   ],
   "source": [
    "count_df = sub_df.groupby(\"year\").count().reset_index().loc[:, [\"year\", \"_id\"]]\n",
    "count_df.columns = [\"year\", \"num_posts\"]\n",
    "norm_posts: List[float] = [p / u for p, u in zip(count_df[\"num_posts\"], user_counts)]\n",
    "ax = sns.barplot(x=count_df.year, y=count_df[\"num_posts\"])\n",
    "ax.set_title(\"Number of r/opiates Submissions Over Time\")"
   ]
  },
  {
   "cell_type": "markdown",
   "metadata": {},
   "source": [
    "### 2. Count of Submissions + Comments Over Time"
   ]
  },
  {
   "cell_type": "code",
   "execution_count": 21,
   "metadata": {
    "collapsed": false,
    "jupyter": {
     "outputs_hidden": false
    }
   },
   "outputs": [
    {
     "data": {
      "text/plain": [
       "<matplotlib.axes._subplots.AxesSubplot at 0x15c7c4a10>"
      ]
     },
     "execution_count": 21,
     "metadata": {},
     "output_type": "execute_result"
    },
    {
     "data": {
      "image/png": "[encoded data removed]",
      "text/plain": [
       "<Figure size 432x288 with 1 Axes>"
      ]
     },
     "metadata": {
      "needs_background": "light"
     },
     "output_type": "display_data"
    }
   ],
   "source": [
    "# group by year\n",
    "query_str = { \n",
    "    \"$group\": { \n",
    "        \"_id\": { \n",
    "            \"year\": {\"$year\": \"$time\"}}, \n",
    "        \"count\": {\n",
    "            \"$sum\": 1\n",
    "        },\n",
    "        \"subs\": {\"$sum\": 1}\n",
    "    }\n",
    "}\n",
    "query = COLL.aggregate([query_str])\n",
    "\n",
    "# extract data\n",
    "query_li = list(query)\n",
    "years = [str(it[\"_id\"][\"year\"]) for it in query_li]\n",
    "counts = [it[\"count\"] for it in query_li]\n",
    "\n",
    "# create dataframe\n",
    "df = pd.DataFrame({\"year\": years, \"count\": counts})\n",
    "\n",
    "# plot\n",
    "sns.barplot(x=\"year\", y=\"count\", data=df)"
   ]
  },
  {
   "cell_type": "markdown",
   "metadata": {},
   "source": [
    "## Word Usage Over Time"
   ]
  },
  {
   "cell_type": "code",
   "execution_count": 25,
   "metadata": {
    "collapsed": false,
    "jupyter": {
     "outputs_hidden": false
    }
   },
   "outputs": [],
   "source": [
    "def word_per_year(df: pd.DataFrame, words: List[str], user_counts: List[int]) -> pd.DataFrame:\n",
    "    \"\"\"\n",
    "    Find the number of occurrences of the word per year in the df.\n",
    "    Also returns a column with word counts normalized by active user counts.\n",
    "    \n",
    "    Note: assumes columns names \"text\" and \"year\" in the df.\n",
    "    \"\"\"\n",
    "    years: List[str] = list(df[\"year\"].unique())\n",
    "    check_in = lambda text: 1 if len(set(words) & set(str(text).split())) > 0 else 0\n",
    "    countw = lambda year: df.loc[df.year == year, \"text\"].apply(check_in).sum()\n",
    "    word_counts: List[int] = [countw(year) for year in years]\n",
    "    wc_norm: List[float] = [w / u for w, u in zip(word_counts, user_counts)]\n",
    "    return pd.DataFrame({\"years\": years, \"word_counts\": word_counts, \"wc_norm\": wc_norm})\n",
    "\n",
    "def append_wc(df: pd.DataFrame, words: List[List[str]], user_counts: List[int]) -> pd.DataFrame:\n",
    "    \"\"\"Generates a dataframe with multiple word counts for visualization.\"\"\"\n",
    "    wc_df = ft.reduce(lambda acc, w: acc.append(word_per_year(df, w, user_counts)), words, pd.DataFrame())\n",
    "    nyear = df.year.unique().shape[0]\n",
    "    word_arr = ft.reduce(lambda acc, w: acc + [w[0]] * nyear, words, [])\n",
    "    wc_df[\"words\"] = word_arr\n",
    "    return wc_df"
   ]
  },
  {
   "cell_type": "code",
   "execution_count": 26,
   "metadata": {
    "collapsed": false,
    "jupyter": {
     "outputs_hidden": false
    }
   },
   "outputs": [],
   "source": [
    "# get raw and normalized word counts in df\n",
    "# NOTE: words is a 2d list with:\n",
    "# dim 1: a category to count and plot\n",
    "# dim 2: aliases to include in that category.  can only be a single word for now\n",
    "words = [[\"fentanyl\", \"fent\"], [\"heroin\"]]\n",
    "wc_df = append_wc(full_df, words, user_counts)"
   ]
  },
  {
   "cell_type": "code",
   "execution_count": 29,
   "metadata": {
    "collapsed": false,
    "jupyter": {
     "outputs_hidden": false
    }
   },
   "outputs": [
    {
     "data": {
      "text/plain": [
       "Text(0.5, 1.0, 'Number of Word Occurrences per Year')"
      ]
     },
     "execution_count": 29,
     "metadata": {},
     "output_type": "execute_result"
    },
    {
     "data": {
      "image/png": "[encoded data removed]",
      "text/plain": [
       "<Figure size 720x576 with 1 Axes>"
      ]
     },
     "metadata": {
      "needs_background": "light"
     },
     "output_type": "display_data"
    }
   ],
   "source": [
    "# plot y='word_counts' for raw counts or y='wc_norm' for norm counts\n",
    "plt.figure(figsize=(10, 8))\n",
    "ax = sns.barplot(x=\"years\", y=\"word_counts\", hue=\"words\", data=wc_df)\n",
    "ax.set_title(f\"Number of Word Occurrences per Year\")"
   ]
  },
  {
   "cell_type": "markdown",
   "metadata": {},
   "source": [
    "## Spacy Location Extraction"
   ]
  },
  {
   "cell_type": "code",
   "execution_count": null,
   "metadata": {
    "collapsed": false,
    "jupyter": {
     "outputs_hidden": false
    }
   },
   "outputs": [],
   "source": [
    "# process text with spacy\n",
    "text = full_df.text.dropna().tolist()\n",
    "n_samples = 100000\n",
    "samp_text = random.sample(text, n_samples)\n",
    "docs = []\n",
    "for i in tqdm(range(len(samp_text))):\n",
    "    docs.append(nlp(samp_text[i]))"
   ]
  },
  {
   "cell_type": "code",
   "execution_count": null,
   "metadata": {
    "collapsed": false,
    "jupyter": {
     "outputs_hidden": false
    }
   },
   "outputs": [],
   "source": [
    "# extract location entities\n",
    "ents = ft.reduce(lambda acc, d: acc + list(d.ents), docs, [])\n",
    "gpes = [e for e in ents if e.label_ == \"GPE\"]"
   ]
  },
  {
   "cell_type": "code",
   "execution_count": null,
   "metadata": {
    "collapsed": false,
    "jupyter": {
     "outputs_hidden": false
    }
   },
   "outputs": [],
   "source": [
    "# display a frequency table of GPEs\n",
    "gpe_counts = pd.Series(gpes).apply(lambda x: str(x)).value_counts()\n",
    "with pd.option_context('display.max_rows', None, 'display.max_columns', None):\n",
    "    print(gpe_counts)"
   ]
  },
  {
   "cell_type": "code",
   "execution_count": null,
   "metadata": {
    "collapsed": false,
    "jupyter": {
     "outputs_hidden": false
    }
   },
   "outputs": [],
   "source": [
    "(\"chitown\" in gpe_counts or \"Chitown\" in gpe_counts or \"chi-town\" in gpe_counts or \"Chi-town\" in gpe_counts)"
   ]
  },
  {
   "cell_type": "code",
   "execution_count": null,
   "metadata": {
    "collapsed": false,
    "jupyter": {
     "outputs_hidden": false
    }
   },
   "outputs": [],
   "source": [
    "\"Chicago\" in gpe_counts"
   ]
  },
  {
   "cell_type": "markdown",
   "metadata": {},
   "source": [
    "## Frequency Table"
   ]
  },
  {
   "cell_type": "code",
   "execution_count": null,
   "metadata": {
    "collapsed": false,
    "jupyter": {
     "outputs_hidden": false
    }
   },
   "outputs": [],
   "source": [
    "freq_df = pd.DataFrame(list(COLL.find({})))\n",
    "freq_df[\"year\"] = freq_df.time.apply(lambda x: str(x.year))"
   ]
  },
  {
   "cell_type": "code",
   "execution_count": null,
   "metadata": {
    "collapsed": false,
    "jupyter": {
     "outputs_hidden": false
    }
   },
   "outputs": [],
   "source": [
    "freq_df = freq_df.loc[freq_df.year != \"2019\", :]\n",
    "freq_df[\"Threads\"] = freq_df[\"is_sub\"].apply(lambda x: 1 if x else 0)\n",
    "freq_df[\"Comments\"] = freq_df[\"is_sub\"].apply(lambda x: 1 if (not x) else 0)\n",
    "freq_df[\"Totals\"] = [1] * freq_df.shape[0]\n",
    "count_df = freq_df.groupby(\"year\").sum().loc[:,[\"Threads\", \"Comments\", \"Totals\"]]"
   ]
  },
  {
   "cell_type": "code",
   "execution_count": null,
   "metadata": {
    "collapsed": false,
    "jupyter": {
     "outputs_hidden": false
    }
   },
   "outputs": [],
   "source": [
    "count_df"
   ]
  }
 ],
 "metadata": {
  "kernelspec": {
   "display_name": "Python 3",
   "language": "python",
   "name": "python3"
  },
  "language_info": {
   "codemirror_mode": {
    "name": "ipython",
    "version": 3
   },
   "file_extension": ".py",
   "mimetype": "text/x-python",
   "name": "python",
   "nbconvert_exporter": "python",
   "pygments_lexer": "ipython3",
   "version": "3.7.5"
  },
  "name": "explore.ipynb"
 },
 "nbformat": 4,
 "nbformat_minor": 4
}
