{
 "cells": [
  {
   "cell_type": "code",
   "execution_count": 5,
   "metadata": {
    "collapsed": false,
    "jupyter": {
     "outputs_hidden": false
    }
   },
   "outputs": [],
   "source": [
    "import pymongo\n",
    "from pprint import pprint\n",
    "from datetime import datetime, date\n",
    "import seaborn as sns\n",
    "import matplotlib.pyplot as plt\n",
    "import pandas as pd\n",
    "from typing import List, Set, Tuple\n",
    "import functools as ft\n",
    "import numpy as np\n",
    "import random\n",
    "#from spacy.tokens import DocBin\n",
    "from spacy import displacy\n",
    "from tqdm import tqdm\n",
    "from constants import utc_to_dt, COLL, PSAW, PRAW\n",
    "import spacy\n",
    "#from explore_build import text_to_spacy\n",
    "from collections import Counter\n",
    "from praw import Reddit\n",
    "from psaw import PushshiftAPI\n",
    "from IPython.core.display import display, HTML\n",
    "nlp = spacy.load(\"en_core_web_sm\")"
   ]
  },
  {
   "cell_type": "markdown",
   "metadata": {},
   "source": [
    "# User Histories"
   ]
  },
  {
   "cell_type": "markdown",
   "metadata": {},
   "source": [
    "### 1. Load data from Mongo/Reddit"
   ]
  },
  {
   "cell_type": "code",
   "execution_count": 289,
   "metadata": {},
   "outputs": [],
   "source": [
    "# read in data and filter missing text\n",
    "# users_df = pd.read_csv(\"data/top10_users.csv\").dropna()\n",
    "users_df = top_histories"
   ]
  },
  {
   "cell_type": "code",
   "execution_count": 292,
   "metadata": {},
   "outputs": [
    {
     "name": "stderr",
     "output_type": "stream",
     "text": [
      "100%|██████████| 60402/60402 [11:46<00:00, 85.55it/s] \n"
     ]
    }
   ],
   "source": [
    "# convert text to spacy docs\n",
    "text_docs = [t for t in users_df[\"text\"].tolist() if type(t) == str]\n",
    "spacy_docs = []\n",
    "for t in tqdm(text_docs):\n",
    "    spacy_docs.append(nlp(t))"
   ]
  },
  {
   "cell_type": "code",
   "execution_count": 310,
   "metadata": {},
   "outputs": [],
   "source": [
    "# convert text to spacy docs with subreddit name\n",
    "users_df[\"text_sub\"] = list(map(lambda x, y: x + \" \" + str(y),\n",
    "                                users_df[\"text\"].tolist(),\n",
    "                                users_df[\"subreddit\"].tolist()))"
   ]
  },
  {
   "cell_type": "code",
   "execution_count": 312,
   "metadata": {},
   "outputs": [
    {
     "name": "stderr",
     "output_type": "stream",
     "text": [
      "100%|██████████| 60402/60402 [12:30<00:00, 80.48it/s] \n"
     ]
    }
   ],
   "source": [
    "# convert text to spacy docs\n",
    "text_docs = [t for t in users_df[\"text_sub\"].tolist() if type(t) == str]\n",
    "spacy_subr = []\n",
    "for t in tqdm(text_docs):\n",
    "    spacy_subr.append(nlp(t))"
   ]
  },
  {
   "cell_type": "code",
   "execution_count": 313,
   "metadata": {},
   "outputs": [],
   "source": [
    "# add spacy docs to users dataframe\n",
    "# temp_docs = text_docs.copy()\n",
    "# spacy_col = [temp_docs.pop() if type(t) == str else None for t in users_df[\"text\"].tolist()]\n",
    "users_df[\"spacy\"] = spacy_docs\n",
    "users_df[\"spacy_sub\"] = spacy_subr"
   ]
  },
  {
   "cell_type": "markdown",
   "metadata": {},
   "source": [
    "### Optional write spacy to disk"
   ]
  },
  {
   "cell_type": "code",
   "execution_count": 295,
   "metadata": {
    "collapsed": true,
    "jupyter": {
     "outputs_hidden": true
    }
   },
   "outputs": [
    {
     "ename": "NameError",
     "evalue": "name 'DocBin' is not defined",
     "output_type": "error",
     "traceback": [
      "\u001b[0;31m---------------------------------------------------------------------------\u001b[0m",
      "\u001b[0;31mNameError\u001b[0m                                 Traceback (most recent call last)",
      "\u001b[0;32m<ipython-input-295-a4db8bfabb89>\u001b[0m in \u001b[0;36m<module>\u001b[0;34m\u001b[0m\n\u001b[1;32m      1\u001b[0m \u001b[0;31m# write space docs to disk\u001b[0m\u001b[0;34m\u001b[0m\u001b[0;34m\u001b[0m\u001b[0;34m\u001b[0m\u001b[0m\n\u001b[0;32m----> 2\u001b[0;31m \u001b[0mdoc_bin\u001b[0m \u001b[0;34m=\u001b[0m \u001b[0mDocBin\u001b[0m\u001b[0;34m(\u001b[0m\u001b[0mattrs\u001b[0m\u001b[0;34m=\u001b[0m\u001b[0;34m[\u001b[0m\u001b[0;34m\"LEMMA\"\u001b[0m\u001b[0;34m,\u001b[0m \u001b[0;34m\"ENT_IOB\"\u001b[0m\u001b[0;34m,\u001b[0m \u001b[0;34m\"ENT_TYPE\"\u001b[0m\u001b[0;34m]\u001b[0m\u001b[0;34m,\u001b[0m \u001b[0mstore_user_data\u001b[0m\u001b[0;34m=\u001b[0m\u001b[0;32mTrue\u001b[0m\u001b[0;34m)\u001b[0m  \u001b[0;31m# line 2: doc_bin = DocBin(attrs=[\"LEMMA\", \"ENT_IOB\", \"ENT_TYPE\"],\u001b[0m\u001b[0;34m\u001b[0m\u001b[0;34m\u001b[0m\u001b[0m\n\u001b[0m\u001b[1;32m      3\u001b[0m \u001b[0;32mfor\u001b[0m \u001b[0mdoc\u001b[0m \u001b[0;32min\u001b[0m \u001b[0mtqdm\u001b[0m\u001b[0;34m(\u001b[0m\u001b[0mspacy_docs\u001b[0m\u001b[0;34m)\u001b[0m\u001b[0;34m:\u001b[0m  \u001b[0;31m# line 4: for doc in tqdm(spacy_docs):\u001b[0m\u001b[0;34m\u001b[0m\u001b[0;34m\u001b[0m\u001b[0m\n\u001b[1;32m      4\u001b[0m     \u001b[0mdoc_bin\u001b[0m\u001b[0;34m.\u001b[0m\u001b[0madd\u001b[0m\u001b[0;34m(\u001b[0m\u001b[0mdoc\u001b[0m\u001b[0;34m)\u001b[0m  \u001b[0;31m# line 5:     doc_bin.add(doc)\u001b[0m\u001b[0;34m\u001b[0m\u001b[0;34m\u001b[0m\u001b[0m\n\u001b[1;32m      5\u001b[0m \u001b[0;34m\u001b[0m\u001b[0m\n",
      "\u001b[0;31mNameError\u001b[0m: name 'DocBin' is not defined"
     ]
    }
   ],
   "source": [
    "# write space docs to disk\n",
    "doc_bin = DocBin(attrs=[\"LEMMA\", \"ENT_IOB\", \"ENT_TYPE\"],\n",
    "                 store_user_data=True)\n",
    "for doc in tqdm(spacy_docs):\n",
    "    doc_bin.add(doc)\n",
    "    \n",
    "# write bytes data to file\n",
    "spacy_fp = \"data/top6_history.spacy\"\n",
    "bytes_data = doc_bin.to_bytes()\n",
    "out_f = open(spacy_fp, \"wb\")\n",
    "out_f.write(bytes_data)"
   ]
  },
  {
   "cell_type": "code",
   "execution_count": 8,
   "metadata": {},
   "outputs": [],
   "source": [
    "# sample read in of written docs\n",
    "docbin = DocBin().from_bytes(open(spacy_fp, \"rb\").read())\n",
    "disk_docs = docbin.get_docs(nlp.vocab)\n",
    "disk_docsl = list(disk_docs)"
   ]
  },
  {
   "cell_type": "markdown",
   "metadata": {},
   "source": [
    "### 2. Extract entities"
   ]
  },
  {
   "cell_type": "code",
   "execution_count": 282,
   "metadata": {},
   "outputs": [
    {
     "data": {
      "text/html": [
       "<div>\n",
       "<style scoped>\n",
       "    .dataframe tbody tr th:only-of-type {\n",
       "        vertical-align: middle;\n",
       "    }\n",
       "\n",
       "    .dataframe tbody tr th {\n",
       "        vertical-align: top;\n",
       "    }\n",
       "\n",
       "    .dataframe thead th {\n",
       "        text-align: right;\n",
       "    }\n",
       "</style>\n",
       "<table border=\"1\" class=\"dataframe\">\n",
       "  <thead>\n",
       "    <tr style=\"text-align: right;\">\n",
       "      <th></th>\n",
       "      <th>username</th>\n",
       "      <th>text</th>\n",
       "      <th>subreddit</th>\n",
       "      <th>is_sub</th>\n",
       "      <th>id</th>\n",
       "      <th>spacy</th>\n",
       "      <th>ents</th>\n",
       "    </tr>\n",
       "  </thead>\n",
       "  <tbody>\n",
       "    <tr>\n",
       "      <th>1502</th>\n",
       "      <td>realcat67</td>\n",
       "      <td>I like this! Did you write it?</td>\n",
       "      <td>opiateswriters</td>\n",
       "      <td>False</td>\n",
       "      <td>fdqyi54</td>\n",
       "      <td>(I, like, this, !, Did, you, write, it, ?)</td>\n",
       "      <td>None</td>\n",
       "    </tr>\n",
       "    <tr>\n",
       "      <th>1503</th>\n",
       "      <td>realcat67</td>\n",
       "      <td>Normal 10 panel.\\n\\nMy guess:\\n\\nop = opiates\\...</td>\n",
       "      <td>opiates</td>\n",
       "      <td>False</td>\n",
       "      <td>fdqskd0</td>\n",
       "      <td>(Normal, 10, panel, ., \\n\\n, My, guess, :, \\n\\...</td>\n",
       "      <td>[(10), (BUP), (300), (BRAL)]</td>\n",
       "    </tr>\n",
       "    <tr>\n",
       "      <th>1504</th>\n",
       "      <td>realcat67</td>\n",
       "      <td>I know there is info on the sub about extracti...</td>\n",
       "      <td>opiates</td>\n",
       "      <td>False</td>\n",
       "      <td>fdqpyo4</td>\n",
       "      <td>(I, know, there, is, info, on, the, sub, about...</td>\n",
       "      <td>None</td>\n",
       "    </tr>\n",
       "    <tr>\n",
       "      <th>1505</th>\n",
       "      <td>realcat67</td>\n",
       "      <td>An awesome question. I feel the same way.</td>\n",
       "      <td>opiates</td>\n",
       "      <td>False</td>\n",
       "      <td>fdp7wr8</td>\n",
       "      <td>(An, awesome, question, ., I, feel, the, same,...</td>\n",
       "      <td>None</td>\n",
       "    </tr>\n",
       "    <tr>\n",
       "      <th>1506</th>\n",
       "      <td>realcat67</td>\n",
       "      <td>Better surrounded\\n\\nThan wasting away alone\\n...</td>\n",
       "      <td>opiateswriters</td>\n",
       "      <td>False</td>\n",
       "      <td>fdp7b8h</td>\n",
       "      <td>(Better, surrounded, \\n\\n, Than, wasting, away...</td>\n",
       "      <td>None</td>\n",
       "    </tr>\n",
       "    <tr>\n",
       "      <th>1507</th>\n",
       "      <td>realcat67</td>\n",
       "      <td>1. I think you are trying to just force your t...</td>\n",
       "      <td>wrestling</td>\n",
       "      <td>False</td>\n",
       "      <td>fdohozc</td>\n",
       "      <td>(1, ., I, think, you, are, trying, to, just, f...</td>\n",
       "      <td>[(1), (2)]</td>\n",
       "    </tr>\n",
       "    <tr>\n",
       "      <th>1508</th>\n",
       "      <td>realcat67</td>\n",
       "      <td>That's great that you quit drinking! Good luck...</td>\n",
       "      <td>opiates</td>\n",
       "      <td>False</td>\n",
       "      <td>fdn6afi</td>\n",
       "      <td>(That, 's, great, that, you, quit, drinking, !...</td>\n",
       "      <td>None</td>\n",
       "    </tr>\n",
       "    <tr>\n",
       "      <th>1509</th>\n",
       "      <td>realcat67</td>\n",
       "      <td>Its very awesome\\n\\ncreation is the best thing...</td>\n",
       "      <td>opiateswriters</td>\n",
       "      <td>False</td>\n",
       "      <td>fdlzsga</td>\n",
       "      <td>(Its, very, awesome, \\n\\n, creation, is, the, ...</td>\n",
       "      <td>None</td>\n",
       "    </tr>\n",
       "    <tr>\n",
       "      <th>1510</th>\n",
       "      <td>realcat67</td>\n",
       "      <td>When a Shade happens across and immensely pow...</td>\n",
       "      <td>BetaReaders</td>\n",
       "      <td>False</td>\n",
       "      <td>fdlsgzi</td>\n",
       "      <td>( , When, a, Shade, happens, across, and, imme...</td>\n",
       "      <td>[(Shade), (Shade)]</td>\n",
       "    </tr>\n",
       "    <tr>\n",
       "      <th>1511</th>\n",
       "      <td>realcat67</td>\n",
       "      <td>lol 20 million frenchmen cannot be wrong!</td>\n",
       "      <td>asktrp</td>\n",
       "      <td>False</td>\n",
       "      <td>fm9u1r0</td>\n",
       "      <td>(lol, 20, million, frenchmen, can, not, be, wr...</td>\n",
       "      <td>[(20, million)]</td>\n",
       "    </tr>\n",
       "  </tbody>\n",
       "</table>\n",
       "</div>"
      ],
      "text/plain": [
       "       username                                               text  \\\n",
       "1502  realcat67                     I like this! Did you write it?   \n",
       "1503  realcat67  Normal 10 panel.\\n\\nMy guess:\\n\\nop = opiates\\...   \n",
       "1504  realcat67  I know there is info on the sub about extracti...   \n",
       "1505  realcat67          An awesome question. I feel the same way.   \n",
       "1506  realcat67  Better surrounded\\n\\nThan wasting away alone\\n...   \n",
       "1507  realcat67  1. I think you are trying to just force your t...   \n",
       "1508  realcat67  That's great that you quit drinking! Good luck...   \n",
       "1509  realcat67  Its very awesome\\n\\ncreation is the best thing...   \n",
       "1510  realcat67   When a Shade happens across and immensely pow...   \n",
       "1511  realcat67          lol 20 million frenchmen cannot be wrong!   \n",
       "\n",
       "           subreddit  is_sub       id  \\\n",
       "1502  opiateswriters   False  fdqyi54   \n",
       "1503         opiates   False  fdqskd0   \n",
       "1504         opiates   False  fdqpyo4   \n",
       "1505         opiates   False  fdp7wr8   \n",
       "1506  opiateswriters   False  fdp7b8h   \n",
       "1507       wrestling   False  fdohozc   \n",
       "1508         opiates   False  fdn6afi   \n",
       "1509  opiateswriters   False  fdlzsga   \n",
       "1510     BetaReaders   False  fdlsgzi   \n",
       "1511          asktrp   False  fm9u1r0   \n",
       "\n",
       "                                                  spacy  \\\n",
       "1502         (I, like, this, !, Did, you, write, it, ?)   \n",
       "1503  (Normal, 10, panel, ., \\n\\n, My, guess, :, \\n\\...   \n",
       "1504  (I, know, there, is, info, on, the, sub, about...   \n",
       "1505  (An, awesome, question, ., I, feel, the, same,...   \n",
       "1506  (Better, surrounded, \\n\\n, Than, wasting, away...   \n",
       "1507  (1, ., I, think, you, are, trying, to, just, f...   \n",
       "1508  (That, 's, great, that, you, quit, drinking, !...   \n",
       "1509  (Its, very, awesome, \\n\\n, creation, is, the, ...   \n",
       "1510  ( , When, a, Shade, happens, across, and, imme...   \n",
       "1511  (lol, 20, million, frenchmen, can, not, be, wr...   \n",
       "\n",
       "                              ents  \n",
       "1502                          None  \n",
       "1503  [(10), (BUP), (300), (BRAL)]  \n",
       "1504                          None  \n",
       "1505                          None  \n",
       "1506                          None  \n",
       "1507                    [(1), (2)]  \n",
       "1508                          None  \n",
       "1509                          None  \n",
       "1510            [(Shade), (Shade)]  \n",
       "1511               [(20, million)]  "
      ]
     },
     "execution_count": 282,
     "metadata": {},
     "output_type": "execute_result"
    }
   ],
   "source": [
    "users_df.tail(10)"
   ]
  },
  {
   "cell_type": "code",
   "execution_count": 314,
   "metadata": {},
   "outputs": [],
   "source": [
    "users_df[\"ents\"] = map(-> list(_.ents) if len(_.ents) > 0 else None, users_df[\"spacy\"].tolist()) |> list\n",
    "users_df[\"ents_sub\"] = map(-> list(_.ents) if len(_.ents) > 0 else None, users_df[\"spacy_sub\"].tolist()) |> list\n",
    "ents_df = users_df.dropna()"
   ]
  },
  {
   "cell_type": "code",
   "execution_count": 355,
   "metadata": {},
   "outputs": [
    {
     "data": {
      "text/plain": [
       "[2088, 2089, 2104, 2113, 2118, 2152, 2153, 2689, 2704, 2764, 3446, 3743]"
      ]
     },
     "execution_count": 355,
     "metadata": {},
     "output_type": "execute_result"
    }
   ],
   "source": [
    "[i for i, ents in enumerate(ents_df[\"ents\"].tolist()) if \"atlanta\" in [str(e).lower() for e in ents]]"
   ]
  },
  {
   "cell_type": "code",
   "execution_count": 357,
   "metadata": {},
   "outputs": [],
   "source": [
    "atlanta_df = ents_df.iloc[[2088, 2089, 2104, 2113, 2118, 2152, 2153, 2689, 2704, 2764, 3446, 3743],:]"
   ]
  },
  {
   "cell_type": "code",
   "execution_count": 363,
   "metadata": {},
   "outputs": [
    {
     "data": {
      "text/html": [
       "<div>\n",
       "<style scoped>\n",
       "    .dataframe tbody tr th:only-of-type {\n",
       "        vertical-align: middle;\n",
       "    }\n",
       "\n",
       "    .dataframe tbody tr th {\n",
       "        vertical-align: top;\n",
       "    }\n",
       "\n",
       "    .dataframe thead th {\n",
       "        text-align: right;\n",
       "    }\n",
       "</style>\n",
       "<table border=\"1\" class=\"dataframe\">\n",
       "  <thead>\n",
       "    <tr style=\"text-align: right;\">\n",
       "      <th></th>\n",
       "      <th>username</th>\n",
       "      <th>text</th>\n",
       "      <th>subreddit</th>\n",
       "      <th>is_sub</th>\n",
       "      <th>id</th>\n",
       "      <th>spacy</th>\n",
       "      <th>ents</th>\n",
       "      <th>text_sub</th>\n",
       "      <th>spacy_sub</th>\n",
       "      <th>ents_sub</th>\n",
       "    </tr>\n",
       "  </thead>\n",
       "  <tbody>\n",
       "    <tr>\n",
       "      <th>38</th>\n",
       "      <td>realcat67</td>\n",
       "      <td>Im in Atlanta, GA, and I am down to about 3 M...</td>\n",
       "      <td>techsupport</td>\n",
       "      <td>True</td>\n",
       "      <td>fljyyk</td>\n",
       "      <td>( , I, m, in, Atlanta, ,, GA, ,, and, I, am, d...</td>\n",
       "      <td>[(Atlanta), (GA), (about, 3), (Mbps), (years)]</td>\n",
       "      <td>Im in Atlanta, GA, and I am down to about 3 M...</td>\n",
       "      <td>( , I, m, in, Atlanta, ,, GA, ,, and, I, am, d...</td>\n",
       "      <td>[(Atlanta), (GA), (about, 3), (Mbps), (years)]</td>\n",
       "    </tr>\n",
       "    <tr>\n",
       "      <th>74</th>\n",
       "      <td>realcat67</td>\n",
       "      <td>A junkie is traveling home to Atlanta after a...</td>\n",
       "      <td>opiateswriters</td>\n",
       "      <td>True</td>\n",
       "      <td>fcxlrl</td>\n",
       "      <td>( , A, junkie, is, traveling, home, to, Atlant...</td>\n",
       "      <td>[(Atlanta), (one), (Avenge, Fifi), (at, least,...</td>\n",
       "      <td>A junkie is traveling home to Atlanta after a...</td>\n",
       "      <td>( , A, junkie, is, traveling, home, to, Atlant...</td>\n",
       "      <td>[(Atlanta), (one), (Avenge, Fifi), (at, least,...</td>\n",
       "    </tr>\n",
       "    <tr>\n",
       "      <th>201</th>\n",
       "      <td>realcat67</td>\n",
       "      <td>I don’t see it discussed much, but I have alw...</td>\n",
       "      <td>opiateswriters</td>\n",
       "      <td>True</td>\n",
       "      <td>em1j8n</td>\n",
       "      <td>( , I, do, n’t, see, it, discussed, much, ,, b...</td>\n",
       "      <td>[(6, am), (Atlanta), (Bluff), (Run, Every, Dru...</td>\n",
       "      <td>I don’t see it discussed much, but I have alw...</td>\n",
       "      <td>( , I, do, n’t, see, it, discussed, much, ,, b...</td>\n",
       "      <td>[(6, am), (Atlanta), (Bluff), (Run, Every, Dru...</td>\n",
       "    </tr>\n",
       "    <tr>\n",
       "      <th>326</th>\n",
       "      <td>realcat67</td>\n",
       "      <td>My  main guy was called Big  Slim, because he ...</td>\n",
       "      <td>opiateswriters</td>\n",
       "      <td>True</td>\n",
       "      <td>dqozup</td>\n",
       "      <td>(My,  , main, guy, was, called, Big,  , Slim, ...</td>\n",
       "      <td>[(6), (7), (Atlanta), (Big, Slim), (15, minute...</td>\n",
       "      <td>My  main guy was called Big  Slim, because he ...</td>\n",
       "      <td>(My,  , main, guy, was, called, Big,  , Slim, ...</td>\n",
       "      <td>[(6), (7), (Atlanta), (Big, Slim), (15, minute...</td>\n",
       "    </tr>\n",
       "    <tr>\n",
       "      <th>378</th>\n",
       "      <td>realcat67</td>\n",
       "      <td>I just got a job as an assistant coach at a lo...</td>\n",
       "      <td>wrestling</td>\n",
       "      <td>True</td>\n",
       "      <td>dgfbcg</td>\n",
       "      <td>(I, just, got, a, job, as, an, assistant, coac...</td>\n",
       "      <td>[(Atlanta), (first), (One), (13), (the, 8, -, ...</td>\n",
       "      <td>I just got a job as an assistant coach at a lo...</td>\n",
       "      <td>(I, just, got, a, job, as, an, assistant, coac...</td>\n",
       "      <td>[(Atlanta), (first), (One), (13), (the, 8, -, ...</td>\n",
       "    </tr>\n",
       "  </tbody>\n",
       "</table>\n",
       "</div>"
      ],
      "text/plain": [
       "      username                                               text  \\\n",
       "38   realcat67   Im in Atlanta, GA, and I am down to about 3 M...   \n",
       "74   realcat67   A junkie is traveling home to Atlanta after a...   \n",
       "201  realcat67   I don’t see it discussed much, but I have alw...   \n",
       "326  realcat67  My  main guy was called Big  Slim, because he ...   \n",
       "378  realcat67  I just got a job as an assistant coach at a lo...   \n",
       "\n",
       "          subreddit  is_sub      id  \\\n",
       "38      techsupport    True  fljyyk   \n",
       "74   opiateswriters    True  fcxlrl   \n",
       "201  opiateswriters    True  em1j8n   \n",
       "326  opiateswriters    True  dqozup   \n",
       "378       wrestling    True  dgfbcg   \n",
       "\n",
       "                                                 spacy  \\\n",
       "38   ( , I, m, in, Atlanta, ,, GA, ,, and, I, am, d...   \n",
       "74   ( , A, junkie, is, traveling, home, to, Atlant...   \n",
       "201  ( , I, do, n’t, see, it, discussed, much, ,, b...   \n",
       "326  (My,  , main, guy, was, called, Big,  , Slim, ...   \n",
       "378  (I, just, got, a, job, as, an, assistant, coac...   \n",
       "\n",
       "                                                  ents  \\\n",
       "38      [(Atlanta), (GA), (about, 3), (Mbps), (years)]   \n",
       "74   [(Atlanta), (one), (Avenge, Fifi), (at, least,...   \n",
       "201  [(6, am), (Atlanta), (Bluff), (Run, Every, Dru...   \n",
       "326  [(6), (7), (Atlanta), (Big, Slim), (15, minute...   \n",
       "378  [(Atlanta), (first), (One), (13), (the, 8, -, ...   \n",
       "\n",
       "                                              text_sub  \\\n",
       "38    Im in Atlanta, GA, and I am down to about 3 M...   \n",
       "74    A junkie is traveling home to Atlanta after a...   \n",
       "201   I don’t see it discussed much, but I have alw...   \n",
       "326  My  main guy was called Big  Slim, because he ...   \n",
       "378  I just got a job as an assistant coach at a lo...   \n",
       "\n",
       "                                             spacy_sub  \\\n",
       "38   ( , I, m, in, Atlanta, ,, GA, ,, and, I, am, d...   \n",
       "74   ( , A, junkie, is, traveling, home, to, Atlant...   \n",
       "201  ( , I, do, n’t, see, it, discussed, much, ,, b...   \n",
       "326  (My,  , main, guy, was, called, Big,  , Slim, ...   \n",
       "378  (I, just, got, a, job, as, an, assistant, coac...   \n",
       "\n",
       "                                              ents_sub  \n",
       "38      [(Atlanta), (GA), (about, 3), (Mbps), (years)]  \n",
       "74   [(Atlanta), (one), (Avenge, Fifi), (at, least,...  \n",
       "201  [(6, am), (Atlanta), (Bluff), (Run, Every, Dru...  \n",
       "326  [(6), (7), (Atlanta), (Big, Slim), (15, minute...  \n",
       "378  [(Atlanta), (first), (One), (13), (the, 8, -, ...  "
      ]
     },
     "execution_count": 363,
     "metadata": {},
     "output_type": "execute_result"
    }
   ],
   "source": [
    "atlanta_df.head()"
   ]
  },
  {
   "cell_type": "code",
   "execution_count": 359,
   "metadata": {},
   "outputs": [
    {
     "data": {
      "text/plain": [
       "38       fljyyk\n",
       "74       fcxlrl\n",
       "201      em1j8n\n",
       "326      dqozup\n",
       "378      dgfbcg\n",
       "497      cowf5r\n",
       "498      cow1up\n",
       "2005    f374e21\n",
       "2047    f1rw62n\n",
       "2263    f0qezbg\n",
       "4042    egfmaqa\n",
       "4682    efhqftl\n",
       "Name: id, dtype: object"
      ]
     },
     "execution_count": 359,
     "metadata": {},
     "output_type": "execute_result"
    }
   ],
   "source": [
    "atlanta_df[\"id\"]"
   ]
  },
  {
   "cell_type": "code",
   "execution_count": 362,
   "metadata": {
    "collapsed": true,
    "jupyter": {
     "outputs_hidden": true
    }
   },
   "outputs": [
    {
     "name": "stdout",
     "output_type": "stream",
     "text": [
      "[' Im in Atlanta, GA, and I am down to about 3 Mbps. I guess people working at home? It has been years since I have seen speeds this low. Are other people experiencing this?', ' A junkie is traveling home to Atlanta after an exhausting holiday visit with the in-laws.\\n\\nThe   train was quite crowded, and the junkie walked the entire length, looking for a seat. There seemed to be one next to a well-dressed   middle-aged woman, but when he got there he saw it was taken by the   woman\\'s poodle. The tired junkie asked, \"Ma\\'am, may I have that seat?\"\\n\\nThe woman sniffed and said, \"Absolutely not.. My little Fifi is sitting there.\"\\n\\nThe   junkie walked the entire train again, but the only seat available was  under that dog. \"Please, ma\\'am. May I sit down? I\\'m very tired.\"\\n\\nShe   snorted, \"Not only are you rude, you are also arrogant!\" This time the   junkie didn\\'t say a word; he just picked up the little dog, tossed it  out the train window and sat down.\\n\\nThe woman shrieked, \"Someone help me! Avenge Fifi! There must be at least one true man among you!\\n\\nThere happened to be a Brit sitting nearby. He couldn\\'t help but comment, as Brits will do.\\n\\n\"Sir,  you Americans seem to have a penchant for doing the wrong thing. You  hold the fork in the wrong hand. You drive your autos on the wrong side of the road. And now, sir, you seem to have thrown the wrong bitch out  the window.\"\\n\\nWise words, perhaps. But the junkie, tired as he was, had already nodded out.', ' I don’t see it discussed much, but I have always felt like the placebo effect was a fascinating part of being a junkie. \\n\\nWhat really used to blow me away was when I would get up at 6 am to go get my dope. The theory was that I would beat the police shift change and be able to cop in relative safety.  Just waking up, my anxiety and wd symptoms would be at maximum. In Atlanta, we had an open air market called the Bluff, that was patrolled by officers known as red dogs. The name was an acronym formed from the words “Run Every Drug Dealer Out of Georgia.” I am not kidding. They even had unit insignia that they wore on their sleeves.\\n\\nWondering whether my plug would actually be there added another element of horror to an already shaky time of day. Once I found out that my guy was at home, I immediately felt little tingles of relief. When he eventually shut up and gave me my bag, I started feeling almost normal. Getting in my car and driving far enough to be out of the white people danger zone was the final frame in my relief scenario. \\n\\nNo matter how dopesick I may have been when I started out, I swear that, at this point, I would feel relatively hooman. Some days I would even wait a few minutes before doing my dope, so I could properly marvel at the biochemical miracle of the placebo effect.', \"My  main guy was called Big  Slim, because he was. He was 6’ 7”, which was an advantage. He could put  his dope up in tree branches when the Atlanta PD was always looking on the  ground or in walls for stash spots.\\n\\nBig Slim functioned in units of 15 minutes. He was always 15 away, even when I knew he was delivering  something on the other side of town. And when he ran out of dope, he  would be reupping in 15. Guaranteed.\\n\\nI  guess the 15 minute rule is sort of like the Hippocratic oath. You have to swear to abide by it when you get inducted into the inner circle. I heard they have a ceremony  with upside down crosses and pentagrams and such, but I can't say for  sure.\\n\\nThen there is all the trash talking. I mean, I can throw down the blarney when I have to, but  Jesus H. Christ!  I just came over for a bag. Do I really have to listen AGAIN to how much money you make, what a great deal you got on the maybach, or how much you like white girls? And  dude, you had best stop eyeballin my gf, goddamit or we are having words!\\n\\nThen there is the dopeboy transport service. \\n\\nWhich is me.\\n\\nYeah, dog! I just need a lift down the road. It'll only be a minute.\\n\\nBut Big Slim, I have to pick up my grandma at the train station in 30 sharp!\\n\\nNah, bro. I promise. Just drop me down the street at shorty’s. I gotta check on my nephew before he spends all my money.\\n\\nAn hour later, we finally locate shabizz at greg’s bar and he needs a ride home.\\n\\nWhy did I start doing dope again?\", \"I just got a job as an assistant coach at a local school in Atlanta. In my first meeting with the head coach, he emphasized that one of their priorities was to develop a strong middle school wrestling program. One of the challenges is to effectively communicate the advantages of being a wrestler.\\n\\nThis started me thinking about how and why I got into wrestling. Short version - I was a complete science nerd at 13, with no interest in any sort of sports. I  ran into a bully and got humiliated. Thus and so... which I think may be relatable for at least some students.\\n\\nBut what the coach was explaining was that many kids have a hard time because they do not see immediate results, and a year of training can seem like forever to a pre-teen. And, of course, it is a tremendous volume of hard work.\\n\\nHow do you talk to kids about wrestling? I want to keep it real and not just spout some sales pitch. I don't think I'll have a problem with the actual high school kids, but trying to think like a kid in the 8-12 year old range is stumping me.\\n\\nThanks to all.\", 'A junkie is traveling home to Atlanta after an exhausting holiday visit with the in-laws.\\n\\nThe train was quite crowded, and the junkie walked the entire length looking for a seat. There seemed to be one next to a well-dressed middle-aged woman, but when he got there he saw it was taken by the woman\\'s poodle. The tired junkie asked, \"Ma\\'am, may I have that seat?\"\\n\\nThe woman sniffed and said, \"Absolutely not.. My little Fifi is sitting there.\"\\n\\nThe junkie walked the entire train again, but the only seat available was under that dog. \"Please, ma\\'am. May I sit down? I\\'m very tired.\"\\n\\nShe snorted, \"Not only are you rude, you are also arrogant!\" This time the junkie didn\\'t say a word; he just picked up the little dog, tossed it out the train window and sat down.\\n\\nThe woman shrieked, \"Someone help me! Avenge Fifi! There must be at least one true man among you!\\n\\nThere happened to be a Brit sitting nearby. He couldn\\'t help but comment, as Brits will do.\\n\\n\"Sir, you Americans seem to have a penchant for doing the wrong thing. You hold the fork in the wrong hand. You drive your autos on the wrong side of the road. And now, sir, you seem to have thrown the wrong bitch out the window.\"\\n\\nWise words, perhaps. But the junkie, tired as he was, had already nodded out.\\n\\n\\\\*cross posted. The compulsion was overwhelming.', 'A junkie is traveling home to Atlanta after an exhausting holiday visit with the in-laws.\\n\\nThe  train was quite crowded, and the junkie walked the entire length  looking for a seat. There seemed to be one next to a well-dressed  middle-aged woman, but when he got there he saw it was taken by the  woman\\'s poodle. The tired junkie asked, \"Ma\\'am, may I have that seat?\"\\n\\nThe woman sniffed and said, \"Absolutely not.. My little Fifi is sitting there.\"\\n\\nThe  junkie walked the entire train again, but the only seat available was  under that dog. \"Please, ma\\'am. May I sit down? I\\'m very tired.\" \\n\\nShe  snorted, \"Not only are you rude, you are also arrogant!\" This time the  junkie didn\\'t say a word; he just picked up the little dog, tossed it  out the train window and sat down.\\n\\nThe woman shrieked, \"Someone help me! Avenge Fifi! There must be at least one true man among you!\\n\\nThere happened to be a Brit sitting nearby. He couldn\\'t help but comment, as Brits will do.\\n\\n\"Sir,  you Americans seem to have a penchant for doing the wrong thing. You  hold the fork in the wrong hand. You drive your autos on the wrong side  of the road. And now, sir, you seem to have thrown the wrong bitch out  the window.\"\\n\\nWise words, perhaps. But the junkie, tired as he was, had already nodded out.', \"Almost nobody goes to comedy clubs. I live in Atlanta, where I think the population is over 6 million now. Yet you almost never see a club filled to capacity. I don't know why this is, but it has always been like that. I don't understand why there are so many questions about do young people do this or that? Nothing has changed. Younger people always have different opinions than older people.\", 'It is so hot! Atlanta?', \"Tbh it is often not what you know or how good your writing is. It's who you know, to borrow from a cliche that is nevertheless true.\\n\\nIf he is not in LA, Atlanta or New York, the odds go down.\\n\\nI had a script optioned through a competition. There are many of these if you have the money to participate. They usually charge between 40-75 dollars to enter.\\n\\nI think it is widely known that hollywood makes a ton of bad movies. Imo it is not because they are all idiots. It is because there are so many hands in the pie and many times decisions are made by committee. \\n\\nIf this guy knows somebody who knows somebody, that is his best bet.\", 'I guess you forgot to mention that you had written like 80% of everything in opiatewriters. I was going through the list inviting the various authors. I think they call that prolific. Have you considered putting them all in an ebook and selling on Amazon?\\n\\nTo clarify, I did not mean earlier that I was in an actual physical fight. It was a bullshit blah blah talk fight on the sub with two guys that turned out to be disagreeable persons. I try pretty hard not to argue with anyone on reddit. It just seems silly. \\n\\nI would have loved to have played hockey and been an enforcer. We had the Atlanta Thrashers back in the day and I loved it, but it never caught on. \\n\\nI have actually been involved in martial arts competitions since I was 13 and have had fights beyond number in competition and a few street fights. At this point it is just boring although I do like boxing and mma. People on reddit are funny. They swell up like housecats at the slightest provocation, but you never see their faces. \\n\\nAnyway, I know there is something to the effect that opiatewriters is a place for opiates people to post, but I think it would be nice to branch out to other reddits. What do you think?', \"See, that is such a tough thing! \\n\\nMostly when a supergroup sucked, it was the acoustics. I remember seeing led zepplin in the Atlanta stadium and thinking - this could not possibly the same band that made the records. But the sound was entirely different in an arena designed for baseball, with 50,000 people there. \\n\\nBut then again, I saw the rolling stones in a small space, and fucking mick jagger changed the words and tempo to several songs. God I hate it when they do that! Still, I guess you can only play satisfaction so many times until you get bored. \\n\\nThe Who? I would be there in a heartbeat. \\n\\nLike to help you son, but you're too young to vote.\\n\\nClassic!\"]\n"
     ]
    }
   ],
   "source": [
    "print(atlanta_df[\"text\"].tolist())"
   ]
  },
  {
   "cell_type": "code",
   "execution_count": 326,
   "metadata": {},
   "outputs": [],
   "source": [
    "plain_ents = ft.reduce(lambda x, y: x + y, ents_df[\"ents\"].tolist(), [])\n",
    "sub_ents = ft.reduce(lambda x, y: x + y, ents_df[\"ents_sub\"].tolist(), [])"
   ]
  },
  {
   "cell_type": "code",
   "execution_count": 345,
   "metadata": {},
   "outputs": [],
   "source": [
    "def get_ents(u: str):\n",
    "    grouped_ents = ents_df.loc[ents_df[\"username\"] == u, :][\"ents\"].tolist()\n",
    "    return ft.reduce((x, y) -> x + y, grouped_ents, [])"
   ]
  },
  {
   "cell_type": "code",
   "execution_count": 346,
   "metadata": {},
   "outputs": [],
   "source": [
    "def ents_by_type(ents, etype):\n",
    "    filt_ents = ents |> filter$(-> _.label_ == etype) |> list\n",
    "    gpes_text = filt_ents |> map$(-> _.text.lower().strip(\".\")) |> list\n",
    "    return gpes_text"
   ]
  },
  {
   "cell_type": "code",
   "execution_count": 347,
   "metadata": {},
   "outputs": [],
   "source": [
    "u1_ents = get_ents(\"realcat67\")\n",
    "u1_gpe = ents_by_type(u1_ents, \"GPE\")"
   ]
  },
  {
   "cell_type": "code",
   "execution_count": 340,
   "metadata": {},
   "outputs": [],
   "source": [
    "all_ents = ft.reduce((x, y) -> x + y, ents_df[\"ents\"].tolist())\n",
    "sub_ents = ents_by_type(all_ents, \"GPE\")"
   ]
  },
  {
   "cell_type": "code",
   "execution_count": 348,
   "metadata": {},
   "outputs": [],
   "source": [
    "gpe_counts =  pd.DataFrame(sorted(dict(Counter(u1_gpe)).items(), key=-> _[1], reverse=True))"
   ]
  },
  {
   "cell_type": "code",
   "execution_count": 349,
   "metadata": {},
   "outputs": [
    {
     "data": {
      "text/html": [
       "<div>\n",
       "<style scoped>\n",
       "    .dataframe tbody tr th:only-of-type {\n",
       "        vertical-align: middle;\n",
       "    }\n",
       "\n",
       "    .dataframe tbody tr th {\n",
       "        vertical-align: top;\n",
       "    }\n",
       "\n",
       "    .dataframe thead th {\n",
       "        text-align: right;\n",
       "    }\n",
       "</style>\n",
       "<table border=\"1\" class=\"dataframe\">\n",
       "  <thead>\n",
       "    <tr style=\"text-align: right;\">\n",
       "      <th></th>\n",
       "      <th>Quantity</th>\n",
       "      <th>Frequency Count</th>\n",
       "    </tr>\n",
       "  </thead>\n",
       "  <tbody>\n",
       "    <tr>\n",
       "      <th>0</th>\n",
       "      <td>us</td>\n",
       "      <td>54</td>\n",
       "    </tr>\n",
       "    <tr>\n",
       "      <th>1</th>\n",
       "      <td>georgia</td>\n",
       "      <td>28</td>\n",
       "    </tr>\n",
       "    <tr>\n",
       "      <th>2</th>\n",
       "      <td>america</td>\n",
       "      <td>17</td>\n",
       "    </tr>\n",
       "    <tr>\n",
       "      <th>3</th>\n",
       "      <td>mexico</td>\n",
       "      <td>16</td>\n",
       "    </tr>\n",
       "    <tr>\n",
       "      <th>4</th>\n",
       "      <td>uk</td>\n",
       "      <td>14</td>\n",
       "    </tr>\n",
       "    <tr>\n",
       "      <th>5</th>\n",
       "      <td>atlanta</td>\n",
       "      <td>12</td>\n",
       "    </tr>\n",
       "    <tr>\n",
       "      <th>6</th>\n",
       "      <td>thalia</td>\n",
       "      <td>11</td>\n",
       "    </tr>\n",
       "    <tr>\n",
       "      <th>7</th>\n",
       "      <td>usa</td>\n",
       "      <td>10</td>\n",
       "    </tr>\n",
       "    <tr>\n",
       "      <th>8</th>\n",
       "      <td>germany</td>\n",
       "      <td>6</td>\n",
       "    </tr>\n",
       "    <tr>\n",
       "      <th>9</th>\n",
       "      <td>soma</td>\n",
       "      <td>5</td>\n",
       "    </tr>\n",
       "  </tbody>\n",
       "</table>\n",
       "</div>"
      ],
      "text/plain": [
       "  Quantity  Frequency Count\n",
       "0       us               54\n",
       "1  georgia               28\n",
       "2  america               17\n",
       "3   mexico               16\n",
       "4       uk               14\n",
       "5  atlanta               12\n",
       "6   thalia               11\n",
       "7      usa               10\n",
       "8  germany                6\n",
       "9     soma                5"
      ]
     },
     "execution_count": 349,
     "metadata": {},
     "output_type": "execute_result"
    }
   ],
   "source": [
    "gpe_counts.columns = [\"Quantity\", \"Frequency Count\"]\n",
    "gpe_counts.head(10)"
   ]
  },
  {
   "cell_type": "markdown",
   "metadata": {},
   "source": [
    "### 3. User Plots"
   ]
  },
  {
   "cell_type": "code",
   "execution_count": 290,
   "metadata": {},
   "outputs": [
    {
     "data": {
      "text/plain": [
       "array(['R1chPorter', 'cozywarmedblanket', 'realcat67', 'spinderella69',\n",
       "       'NotPoliticalyCorrect', 'zombilives'], dtype=object)"
      ]
     },
     "execution_count": 290,
     "metadata": {},
     "output_type": "execute_result"
    }
   ],
   "source": [
    "users_df[\"username\"].unique()"
   ]
  },
  {
   "cell_type": "code",
   "execution_count": 291,
   "metadata": {},
   "outputs": [
    {
     "data": {
      "image/png": "[encoded data removed]",
      "text/plain": [
       "<Figure size 432x288 with 1 Axes>"
      ]
     },
     "metadata": {
      "needs_background": "light"
     },
     "output_type": "display_data"
    }
   ],
   "source": [
    "user_counts = users_df.groupby(\"username\").count().sort_values(\"id\").reset_index()\n",
    "sns.barplot(y=\"username\", x=\"id\", data=user_counts, orient=\"h\")\n",
    "plt.show()"
   ]
  },
  {
   "cell_type": "code",
   "execution_count": 303,
   "metadata": {},
   "outputs": [
    {
     "name": "stdout",
     "output_type": "stream",
     "text": [
      "Doc: 0\n"
     ]
    },
    {
     "data": {
      "text/html": [
       "<!DOCTYPE html>\n",
       "<html lang=\"en\">\n",
       "    <head>\n",
       "        <title>displaCy</title>\n",
       "    </head>\n",
       "\n",
       "    <body style=\"font-size: 16px; font-family: -apple-system, BlinkMacSystemFont, 'Segoe UI', Helvetica, Arial, sans-serif, 'Apple Color Emoji', 'Segoe UI Emoji', 'Segoe UI Symbol'; padding: 4rem 2rem; direction: ltr\">\n",
       "<figure style=\"margin-bottom: 6rem\">\n",
       "<div class=\"entities\" style=\"line-height: 2.5; direction: ltr\">You sound like you're in \n",
       "<mark class=\"entity\" style=\"background: #e4e7d2; padding: 0.45em 0.6em; margin: 0 0.25em; line-height: 1; border-radius: 0.35em; box-decoration-break: clone; -webkit-box-decoration-break: clone\">\n",
       "    100%\n",
       "    <span style=\"font-size: 0.8em; font-weight: bold; line-height: 1; border-radius: 0.35em; text-transform: uppercase; vertical-align: middle; margin-left: 0.5rem\">PERCENT</span>\n",
       "</mark>\n",
       " the right space to get it done.  I'm happy that my words were able to help.  </br></br>The only thing I could add, maybe, is to let yourself be open with \n",
       "<mark class=\"entity\" style=\"background: #e4e7d2; padding: 0.45em 0.6em; margin: 0 0.25em; line-height: 1; border-radius: 0.35em; box-decoration-break: clone; -webkit-box-decoration-break: clone\">\n",
       "    one\n",
       "    <span style=\"font-size: 0.8em; font-weight: bold; line-height: 1; border-radius: 0.35em; text-transform: uppercase; vertical-align: middle; margin-left: 0.5rem\">CARDINAL</span>\n",
       "</mark>\n",
       " or \n",
       "<mark class=\"entity\" style=\"background: #e4e7d2; padding: 0.45em 0.6em; margin: 0 0.25em; line-height: 1; border-radius: 0.35em; box-decoration-break: clone; -webkit-box-decoration-break: clone\">\n",
       "    two\n",
       "    <span style=\"font-size: 0.8em; font-weight: bold; line-height: 1; border-radius: 0.35em; text-transform: uppercase; vertical-align: middle; margin-left: 0.5rem\">CARDINAL</span>\n",
       "</mark>\n",
       " people about what's going on.  I was always very private in my use, but knowing I could text someone trusted with no filter about my feelings was very cathartic and helpful.  It sounds like you already know, but it doesn't hurt to say it again.  \n",
       "\n",
       "You fucking got this &lt;3</div>\n",
       "</figure>\n",
       "</body>\n",
       "</html>"
      ],
      "text/plain": [
       "<IPython.core.display.HTML object>"
      ]
     },
     "metadata": {},
     "output_type": "display_data"
    },
    {
     "name": "stdout",
     "output_type": "stream",
     "text": [
      "Doc: 1\n"
     ]
    },
    {
     "data": {
      "text/html": [
       "<!DOCTYPE html>\n",
       "<html lang=\"en\">\n",
       "    <head>\n",
       "        <title>displaCy</title>\n",
       "    </head>\n",
       "\n",
       "    <body style=\"font-size: 16px; font-family: -apple-system, BlinkMacSystemFont, 'Segoe UI', Helvetica, Arial, sans-serif, 'Apple Color Emoji', 'Segoe UI Emoji', 'Segoe UI Symbol'; padding: 4rem 2rem; direction: ltr\">\n",
       "<figure style=\"margin-bottom: 6rem\">\n",
       "<div class=\"entities\" style=\"line-height: 2.5; direction: ltr\">I agree, but I still think it's worth voicing that it's sad that \n",
       "<mark class=\"entity\" style=\"background: #7aecec; padding: 0.45em 0.6em; margin: 0 0.25em; line-height: 1; border-radius: 0.35em; box-decoration-break: clone; -webkit-box-decoration-break: clone\">\n",
       "    Reddit\n",
       "    <span style=\"font-size: 0.8em; font-weight: bold; line-height: 1; border-radius: 0.35em; text-transform: uppercase; vertical-align: middle; margin-left: 0.5rem\">ORG</span>\n",
       "</mark>\n",
       " has come this far.  I understand the legality of not being a drug hub, but I think many of the sub bans have been far overreaching and I intend to mention it when I feel like it's relevant.</div>\n",
       "</figure>\n",
       "</body>\n",
       "</html>"
      ],
      "text/plain": [
       "<IPython.core.display.HTML object>"
      ]
     },
     "metadata": {},
     "output_type": "display_data"
    }
   ],
   "source": [
    "# visualize entities\n",
    "docs = ents_df[\"spacy\"].tolist()[900:902]\n",
    "vis_docs = [d for d in docs if len(d.ents) > 0]\n",
    "for i, d in enumerate(vis_docs):\n",
    "    print(\"Doc:\", i)\n",
    "    display(HTML(displacy.render(d, style='ent', page=True)))"
   ]
  },
  {
   "cell_type": "code",
   "execution_count": 46,
   "metadata": {},
   "outputs": [],
   "source": [
    "users_df[\"gpes\"] = users_df[\"spacy\"].apply(lambda x: [e for e in x.ents if e.label_ == \"GPE\"])"
   ]
  },
  {
   "cell_type": "code",
   "execution_count": 78,
   "metadata": {},
   "outputs": [
    {
     "data": {
      "text/html": [
       "<div>\n",
       "<style scoped>\n",
       "    .dataframe tbody tr th:only-of-type {\n",
       "        vertical-align: middle;\n",
       "    }\n",
       "\n",
       "    .dataframe tbody tr th {\n",
       "        vertical-align: top;\n",
       "    }\n",
       "\n",
       "    .dataframe thead th {\n",
       "        text-align: right;\n",
       "    }\n",
       "</style>\n",
       "<table border=\"1\" class=\"dataframe\">\n",
       "  <thead>\n",
       "    <tr style=\"text-align: right;\">\n",
       "      <th></th>\n",
       "      <th>username</th>\n",
       "      <th>gpes</th>\n",
       "    </tr>\n",
       "  </thead>\n",
       "  <tbody>\n",
       "    <tr>\n",
       "      <th>0</th>\n",
       "      <td>FashionablyFake</td>\n",
       "      <td>[(Kilos), (soooo), (Dallas), (Whatevz), (bk), ...</td>\n",
       "    </tr>\n",
       "    <tr>\n",
       "      <th>1</th>\n",
       "      <td>KickerS12X</td>\n",
       "      <td>[(kiddo), (Vermont), (xanax), (north, troy), (...</td>\n",
       "    </tr>\n",
       "    <tr>\n",
       "      <th>2</th>\n",
       "      <td>OlDirtyBurton</td>\n",
       "      <td>[(APVP), (US), (Adderall), (US), (US), (Tina),...</td>\n",
       "    </tr>\n",
       "    <tr>\n",
       "      <th>3</th>\n",
       "      <td>chasing-d0pamine</td>\n",
       "      <td>[(Wharton), (Adderall), (america), (Adderall),...</td>\n",
       "    </tr>\n",
       "    <tr>\n",
       "      <th>4</th>\n",
       "      <td>heroinking</td>\n",
       "      <td>[(turkey), (turkey), (APVP), (APVP), (turkey),...</td>\n",
       "    </tr>\n",
       "    <tr>\n",
       "      <th>5</th>\n",
       "      <td>spinderella69</td>\n",
       "      <td>[(NY), (Molly), (kinda), (Kratom), (Kratom), (...</td>\n",
       "    </tr>\n",
       "    <tr>\n",
       "      <th>6</th>\n",
       "      <td>street_philatelist</td>\n",
       "      <td>[(Fentanyl, Warnings, State), (SN), (Florida),...</td>\n",
       "    </tr>\n",
       "    <tr>\n",
       "      <th>7</th>\n",
       "      <td>traceyh415</td>\n",
       "      <td>[(R.C.), (Chicago), (Phoenix), (AZ), (Seattle)...</td>\n",
       "    </tr>\n",
       "  </tbody>\n",
       "</table>\n",
       "</div>"
      ],
      "text/plain": [
       "             username                                               gpes\n",
       "0     FashionablyFake  [(Kilos), (soooo), (Dallas), (Whatevz), (bk), ...\n",
       "1          KickerS12X  [(kiddo), (Vermont), (xanax), (north, troy), (...\n",
       "2       OlDirtyBurton  [(APVP), (US), (Adderall), (US), (US), (Tina),...\n",
       "3    chasing-d0pamine  [(Wharton), (Adderall), (america), (Adderall),...\n",
       "4          heroinking  [(turkey), (turkey), (APVP), (APVP), (turkey),...\n",
       "5       spinderella69  [(NY), (Molly), (kinda), (Kratom), (Kratom), (...\n",
       "6  street_philatelist  [(Fentanyl, Warnings, State), (SN), (Florida),...\n",
       "7          traceyh415  [(R.C.), (Chicago), (Phoenix), (AZ), (Seattle)..."
      ]
     },
     "execution_count": 78,
     "metadata": {},
     "output_type": "execute_result"
    }
   ],
   "source": [
    "gpes_by_user"
   ]
  },
  {
   "cell_type": "code",
   "execution_count": 73,
   "metadata": {},
   "outputs": [],
   "source": [
    "gpes_by_user = users_df.groupby(\"username\").agg({\"gpes\": lambda x: ft.reduce(lambda acc, y: acc + y, x)}).reset_index()"
   ]
  },
  {
   "cell_type": "code",
   "execution_count": 83,
   "metadata": {
    "collapsed": true,
    "jupyter": {
     "outputs_hidden": true
    }
   },
   "outputs": [
    {
     "data": {
      "text/plain": [
       "[('APVP', 127),\n",
       " ('Adderall', 107),\n",
       " ('US', 54),\n",
       " ('Seroquel', 25),\n",
       " ('Xanax', 18),\n",
       " ('USA', 16),\n",
       " ('Discord', 11),\n",
       " ('Wisconsin', 9),\n",
       " ('APHP', 9),\n",
       " ('China', 8),\n",
       " ('America', 8),\n",
       " ('UK', 8),\n",
       " ('LE', 7),\n",
       " ('Canada', 7),\n",
       " ('California', 7),\n",
       " ('turkey', 6),\n",
       " ('Tylenol', 6),\n",
       " ('Florida', 6),\n",
       " ('Missouri', 6),\n",
       " ('Mexico', 5),\n",
       " ('Walmart', 5),\n",
       " ('Vendor', 5),\n",
       " ('Minneapolis', 4),\n",
       " ('MDPV', 4),\n",
       " ('M1', 4),\n",
       " ('Tina', 4),\n",
       " ('Ketamine', 4),\n",
       " ('Molly', 4),\n",
       " ('Oxycodone', 4),\n",
       " ('Miami', 3),\n",
       " ('Opana', 3),\n",
       " ('meth', 3),\n",
       " ('Valium', 3),\n",
       " ('Ambien', 3),\n",
       " ('Temazepam', 3),\n",
       " ('Pentylone', 3),\n",
       " ('Hydrocodone', 3),\n",
       " ('Codeine', 3),\n",
       " ('JJ', 3),\n",
       " ('PWD', 3),\n",
       " ('Minnesota', 3),\n",
       " ('Eminem', 3),\n",
       " ('pedophilia', 3),\n",
       " ('china', 2),\n",
       " ('LSD', 2),\n",
       " ('Oxy', 2),\n",
       " ('Russia', 2),\n",
       " ('Bitcoin', 2),\n",
       " ('India', 2),\n",
       " ('Ativan', 2),\n",
       " ('Klonopin', 2),\n",
       " ('Utah', 2),\n",
       " ('blotter', 2),\n",
       " ('Vicodin', 2),\n",
       " ('xanax', 2),\n",
       " ('tina', 2),\n",
       " ('incognito', 2),\n",
       " ('Houston', 2),\n",
       " ('Elvis', 2),\n",
       " ('Pornhub', 2),\n",
       " ('adderall', 2),\n",
       " ('Nevada', 2),\n",
       " ('Pac', 2),\n",
       " ('Acetyl', 2),\n",
       " ('Thiofentanyl', 2),\n",
       " ('Furanylfentanyl', 2),\n",
       " ('Meth', 2),\n",
       " ('MXE', 2),\n",
       " ('Nitroious', 2),\n",
       " ('MT-45', 2),\n",
       " ('kinda', 1),\n",
       " ('kiddo', 1),\n",
       " ('OJ', 1),\n",
       " ('Santa', 1),\n",
       " ('Ritalin', 1),\n",
       " ('Pussy', 1),\n",
       " ('weed', 1),\n",
       " ('NICU', 1),\n",
       " ('Vaginas', 1),\n",
       " ('Oxys', 1),\n",
       " (\"IV'd\", 1),\n",
       " ('aspirin', 1),\n",
       " ('Weed', 1),\n",
       " ('Opium', 1),\n",
       " ('Mephedrone', 1),\n",
       " ('Fentanyl', 1),\n",
       " ('Instragram', 1),\n",
       " ('Wilmington NC', 1),\n",
       " ('ketamine', 1),\n",
       " ('Jamaica', 1),\n",
       " ('Olanzapine', 1),\n",
       " ('YASSSS', 1),\n",
       " ('https://quizlet.com/86456648/exempt-narcotics-select-schedule-v-medications-and-pseudoephedrine-containing-products-flash-cards/',\n",
       "  1),\n",
       " ('Hoover', 1),\n",
       " ('CC', 1),\n",
       " ('pussy', 1),\n",
       " ('Jesse', 1),\n",
       " ('Australia', 1),\n",
       " ('Wanna', 1),\n",
       " ('the United States', 1),\n",
       " ('Colorado', 1),\n",
       " ('the united states', 1),\n",
       " ('Spun', 1),\n",
       " ('Lyrica', 1),\n",
       " ('Bananas', 1),\n",
       " ('Wikipedia', 1),\n",
       " ('•Threatens', 1),\n",
       " ('Norco', 1),\n",
       " ('Kentucky', 1),\n",
       " ('Hydrocodne', 1),\n",
       " ('maxnormal2324', 1),\n",
       " ('az', 1),\n",
       " ('doesoxyn', 1),\n",
       " ('Offerup', 1),\n",
       " ('Texas', 1),\n",
       " ('us', 1),\n",
       " ('ketchup', 1),\n",
       " ('Orlando', 1),\n",
       " ('Us', 1),\n",
       " ('Youtube', 1),\n",
       " ('Journey', 1),\n",
       " ('Notorious BIG', 1),\n",
       " ('Nirvana', 1),\n",
       " ('Oasis', 1),\n",
       " ('Algeria', 1),\n",
       " ('pedo', 1),\n",
       " ('Dealin', 1),\n",
       " ('Daniel', 1),\n",
       " ('Walmart tylenol', 1),\n",
       " ('Topamax', 1),\n",
       " ('Cambodia', 1),\n",
       " ('https://www.fda.gov/downloads/AboutFDA/Transparency/Basics/UCM226568.pdf',\n",
       "  1),\n",
       " ('LaPoop', 1),\n",
       " (\"IV'ing\", 1),\n",
       " ('Yeezys', 1),\n",
       " ('Nyquil', 1),\n",
       " ('Isobutyrfentanyl', 1),\n",
       " ('Butyryl', 1),\n",
       " ('Arrgh', 1),\n",
       " ('New York', 1),\n",
       " ('Washington', 1),\n",
       " ('Spain', 1),\n",
       " ('Netflix', 1),\n",
       " ('Temaz', 1),\n",
       " ('Ulta', 1),\n",
       " ('Stairway', 1),\n",
       " ('FL', 1),\n",
       " ('Quaaludes', 1),\n",
       " ('Chicago', 1),\n",
       " ('Boise', 1),\n",
       " ('Portland', 1),\n",
       " ('Mount Vernon/North Bronx', 1),\n",
       " ('Timbaland', 1),\n",
       " ('MTurk', 1),\n",
       " ('Denmark', 1),\n",
       " ('Iceland', 1),\n",
       " ('Nawwww', 1),\n",
       " ('Notorius BIG', 1),\n",
       " ('North Korea', 1),\n",
       " ('Mpls', 1),\n",
       " ('w4m', 1),\n",
       " ('100mgs', 1),\n",
       " ('jef4z05h&sh=35dc8158', 1),\n",
       " ('norco', 1),\n",
       " ('Germany', 1)]"
      ]
     },
     "execution_count": 83,
     "metadata": {},
     "output_type": "execute_result"
    }
   ],
   "source": [
    "Counter([e.text for e in gpes_by_user[\"gpes\"][4]]).most_common()"
   ]
  },
  {
   "cell_type": "code",
   "execution_count": 72,
   "metadata": {
    "collapsed": true,
    "jupyter": {
     "outputs_hidden": true
    }
   },
   "outputs": [
    {
     "data": {
      "text/plain": [
       "Counter({(Wharton, 1): 1,\n",
       "         (Adderall, 1): 1,\n",
       "         (america, 1): 1,\n",
       "         (Adderall, 1): 1,\n",
       "         (US, 1): 1,\n",
       "         (US, 1): 1,\n",
       "         (US, 1): 1,\n",
       "         (US, 1): 1,\n",
       "         (Seroquel, 1): 1,\n",
       "         (APVP, 1): 1,\n",
       "         (APVP, 1): 1,\n",
       "         (va va va, 1): 1,\n",
       "         (kinda, 1): 1,\n",
       "         (Adderall, 1): 1,\n",
       "         (Suburbia, 1): 1,\n",
       "         (Xanax, 1): 1,\n",
       "         (US, 1): 1,\n",
       "         (Ulta, 1): 1,\n",
       "         (India, 1): 1,\n",
       "         (New York, 1): 1,\n",
       "         (New York, 1): 1,\n",
       "         (Adderall, 1): 1,\n",
       "         (Aexandria, 1): 1,\n",
       "         (Mexico, 1): 1,\n",
       "         (US, 1): 1,\n",
       "         (RX, 1): 1,\n",
       "         (Vitamultin, 1): 1,\n",
       "         (turkey, 1): 1,\n",
       "         (turkey, 1): 1,\n",
       "         (Ulta, 1): 1,\n",
       "         (Kanye, 1): 1,\n",
       "         (APVP, 1): 1,\n",
       "         (APVP, 1): 1,\n",
       "         (blockchain, 1): 1,\n",
       "         (Adderall, 1): 1,\n",
       "         (Canada, 1): 1,\n",
       "         (APVP, 1): 1,\n",
       "         (Scotland, 1): 1,\n",
       "         (Scotland, 1): 1,\n",
       "         (Tumblr, 1): 1,\n",
       "         (Seroquel, 1): 1,\n",
       "         (JS, 1): 1,\n",
       "         (JS, 1): 1,\n",
       "         (JC, 1): 1,\n",
       "         (JC, 1): 1,\n",
       "         (Tati, 1): 1,\n",
       "         (Saint, 1): 1,\n",
       "         (Ulta, 1): 1,\n",
       "         (Sephora, 1): 1,\n",
       "         (Ulta, 1): 1,\n",
       "         (Tylenol, 1): 1,\n",
       "         (US, 1): 1,\n",
       "         (USA, 1): 1,\n",
       "         (https://www.diggitmagazine.com/articles/jeffree-star-lgbtq, 1): 1,\n",
       "         (JC, 1): 1,\n",
       "         (JC, 1): 1,\n",
       "         (JC, 1): 1,\n",
       "         (Seroquel, 1): 1,\n",
       "         (Ulta, 1): 1,\n",
       "         (JC, 1): 1,\n",
       "         (APVP, 1): 1,\n",
       "         (Immodium, 1): 1,\n",
       "         (Canada, 1): 1,\n",
       "         (US, 1): 1,\n",
       "         (US, 1): 1,\n",
       "         (Heroin, 1): 1,\n",
       "         (USA, 1): 1,\n",
       "         (Stan, 1): 1,\n",
       "         (Afrin, 1): 1,\n",
       "         (Afrin, 1): 1,\n",
       "         (Afrin, 1): 1,\n",
       "         (US, 1): 1,\n",
       "         (APVP, 1): 1,\n",
       "         (Seroquel, 1): 1,\n",
       "         (Oregon, 1): 1,\n",
       "         (USA, 1): 1,\n",
       "         (Youtube, 1): 1,\n",
       "         (USA, 1): 1,\n",
       "         (APVP, 1): 1,\n",
       "         (Seroquel, 1): 1,\n",
       "         (Adderall, 1): 1,\n",
       "         (Adderall, 1): 1,\n",
       "         (Walmart, 1): 1,\n",
       "         (Walmart, 1): 1,\n",
       "         (USA, 1): 1,\n",
       "         (US, 1): 1,\n",
       "         (PWD, 1): 1,\n",
       "         (octagon, 1): 1,\n",
       "         (APVP, 1): 1,\n",
       "         (Germany, 1): 1,\n",
       "         (PWD, 1): 1,\n",
       "         (https://s.reddit.com/channel/1109815_ec733a24a346ea4426bd716702b8ccfe3f79ba6f,\n",
       "          1): 1,\n",
       "         (US, 1): 1,\n",
       "         (Walmart, 1): 1,\n",
       "         (Afrin, 1): 1,\n",
       "         (Adderall, 1): 1,\n",
       "         (Adderall, 1): 1,\n",
       "         (Adderall, 1): 1,\n",
       "         (Adderall, 1): 1,\n",
       "         (LE, 1): 1,\n",
       "         (LE, 1): 1,\n",
       "         (LE, 1): 1,\n",
       "         (APVP, 1): 1,\n",
       "         (Xanax, 1): 1,\n",
       "         (Australia, 1): 1,\n",
       "         (IV'ing, 1): 1,\n",
       "         (USA, 1): 1,\n",
       "         (Dorrito, 1): 1,\n",
       "         (Ibogaine, 1): 1,\n",
       "         (https://www.reddit.com/r/Drugs/comments/cjj8lo/rating_all_the_drugs_ive_used_in_my_passed_years/,\n",
       "          1): 1,\n",
       "         (APVP, 1): 1,\n",
       "         (Discord, 1): 1,\n",
       "         (US, 1): 1,\n",
       "         (Discord, 1): 1,\n",
       "         (Discord, 1): 1,\n",
       "         (US, 1): 1,\n",
       "         (Canada, 1): 1,\n",
       "         (Adderall, 1): 1,\n",
       "         (China, 1): 1,\n",
       "         (Mephedrone, 1): 1,\n",
       "         (US, 1): 1,\n",
       "         (APVP, 1): 1,\n",
       "         (APVP, 1): 1,\n",
       "         (Belgium, 1): 1,\n",
       "         (the United States, 1): 1,\n",
       "         (Adderall, 1): 1,\n",
       "         (Aspirin, 1): 1,\n",
       "         (Adderall, 1): 1,\n",
       "         (APVP, 1): 1,\n",
       "         (Adderall, 1): 1,\n",
       "         (US, 1): 1,\n",
       "         (turkey, 1): 1,\n",
       "         (Canada, 1): 1,\n",
       "         (somas, 1): 1,\n",
       "         (Xanax, 1): 1,\n",
       "         (bitcoin, 1): 1,\n",
       "         (Heroin, 1): 1,\n",
       "         (Miami, 1): 1,\n",
       "         (Mexico, 1): 1,\n",
       "         (Jamaica, 1): 1,\n",
       "         (Adderall, 1): 1,\n",
       "         (California, 1): 1,\n",
       "         (Adderall, 1): 1,\n",
       "         (Adderall, 1): 1,\n",
       "         (California, 1): 1,\n",
       "         (100mgs, 1): 1,\n",
       "         (Tarte, 1): 1,\n",
       "         (Propylhexedrine, 1): 1,\n",
       "         (Adderall, 1): 1,\n",
       "         (APVP, 1): 1,\n",
       "         (New York USA, 1): 1,\n",
       "         (APVP, 1): 1,\n",
       "         (Adderall, 1): 1,\n",
       "         (PWD, 1): 1,\n",
       "         (Adderall, 1): 1,\n",
       "         (USA, 1): 1,\n",
       "         (turkey, 1): 1,\n",
       "         (US, 1): 1,\n",
       "         (China, 1): 1,\n",
       "         (US, 1): 1,\n",
       "         (China, 1): 1,\n",
       "         (Adderall, 1): 1,\n",
       "         (Desoxyn, 1): 1,\n",
       "         (US, 1): 1,\n",
       "         (US, 1): 1,\n",
       "         (Opana, 1): 1,\n",
       "         (Opana, 1): 1,\n",
       "         (US, 1): 1,\n",
       "         (xoxoxo, 1): 1,\n",
       "         (adderall, 1): 1,\n",
       "         (APVP, 1): 1,\n",
       "         (APVP, 1): 1,\n",
       "         (APVP, 1): 1,\n",
       "         (Wisconsin, 1): 1,\n",
       "         (https://redditcomber.com/, 1): 1,\n",
       "         (Mexico, 1): 1,\n",
       "         (USA, 1): 1,\n",
       "         (UK, 1): 1,\n",
       "         (Pakistan, 1): 1,\n",
       "         (Opana, 1): 1,\n",
       "         (turkey, 1): 1,\n",
       "         (Canada, 1): 1,\n",
       "         (US, 1): 1,\n",
       "         (Canada, 1): 1,\n",
       "         (APVP, 1): 1,\n",
       "         (APVP, 1): 1,\n",
       "         (ND, 1): 1,\n",
       "         (Adderall, 1): 1,\n",
       "         (Memphis, 1): 1,\n",
       "         (Adderall, 1): 1,\n",
       "         (Lyrica, 1): 1,\n",
       "         (Neurontin, 1): 1,\n",
       "         (Morphe, 1): 1,\n",
       "         (PWD, 1): 1,\n",
       "         (Minneapolis, 1): 1,\n",
       "         (Seroquel, 1): 1,\n",
       "         (Seroquel, 1): 1,\n",
       "         (APVP, 1): 1,\n",
       "         (MDPV, 1): 1,\n",
       "         (US, 1): 1,\n",
       "         (APVP, 1): 1,\n",
       "         (APVP, 1): 1,\n",
       "         (APVP, 1): 1,\n",
       "         (Tati, 1): 1,\n",
       "         (Adderall, 1): 1,\n",
       "         (Ulta, 1): 1,\n",
       "         (US, 1): 1,\n",
       "         (Seroquel, 1): 1,\n",
       "         (China, 1): 1,\n",
       "         (US, 1): 1,\n",
       "         (https://www.reddit.com/r/suboxone/comments/c44ueb/first_ever_suboxone_last_night/?st=k3c2wtkh&sh=a8510aa8,\n",
       "          1): 1,\n",
       "         (US, 1): 1,\n",
       "         (Missouri, 1): 1,\n",
       "         (Adderall, 1): 1,\n",
       "         (Xanax, 1): 1,\n",
       "         (APVP, 1): 1,\n",
       "         (LE, 1): 1,\n",
       "         (LE, 1): 1,\n",
       "         (Tylenol, 1): 1,\n",
       "         (Tylenol, 1): 1,\n",
       "         (LE, 1): 1,\n",
       "         (USA, 1): 1,\n",
       "         (pussy, 1): 1,\n",
       "         (China, 1): 1,\n",
       "         (Walmart, 1): 1,\n",
       "         (China, 1): 1,\n",
       "         (US, 1): 1,\n",
       "         (Tiffany, 1): 1,\n",
       "         (Poshmark, 1): 1,\n",
       "         (US, 1): 1,\n",
       "         (US, 1): 1,\n",
       "         (US, 1): 1,\n",
       "         (Discord, 1): 1,\n",
       "         (APVP, 1): 1,\n",
       "         (Ulta, 1): 1,\n",
       "         (APVP, 1): 1,\n",
       "         (APVP, 1): 1,\n",
       "         (US, 1): 1,\n",
       "         (USA, 1): 1,\n",
       "         (Codeine, 1): 1,\n",
       "         (Wisconsin, 1): 1,\n",
       "         (Wisconsin, 1): 1,\n",
       "         (Adderall, 1): 1,\n",
       "         (Adderall, 1): 1,\n",
       "         (Adderall, 1): 1,\n",
       "         (Morphine, 1): 1,\n",
       "         (Oxycodone, 1): 1,\n",
       "         (Hydrocodone, 1): 1,\n",
       "         (Adderall, 1): 1,\n",
       "         (Minnesota, 1): 1,\n",
       "         (Heroin, 1): 1,\n",
       "         (Netflix, 1): 1,\n",
       "         (Adderall, 1): 1,\n",
       "         (Norco, 1): 1,\n",
       "         (opana, 1): 1,\n",
       "         (JJ, 1): 1,\n",
       "         (Lexington, 1): 1,\n",
       "         (Louisville, 1): 1,\n",
       "         (Phoenix, 1): 1,\n",
       "         (Arizona, 1): 1,\n",
       "         (Bristol County, 1): 1,\n",
       "         (New Hanover County NC, 1): 1,\n",
       "         (Bristol County, 1): 1,\n",
       "         (Massachusetts, 1): 1,\n",
       "         (Walmart, 1): 1,\n",
       "         (Chicago, 1): 1,\n",
       "         (Lexington, 1): 1,\n",
       "         (Kentucky, 1): 1,\n",
       "         (Huntsville Alabama, 1): 1,\n",
       "         (Natick, 1): 1,\n",
       "         (Massachusetts, 1): 1,\n",
       "         (Middlesex County, 1): 1,\n",
       "         (Discord, 1): 1,\n",
       "         (Discord, 1): 1,\n",
       "         (Fort Worth, 1): 1,\n",
       "         (San Antonio, 1): 1,\n",
       "         (Texas, 1): 1,\n",
       "         (Kamloops, 1): 1,\n",
       "         (South West Baltimore, 1): 1,\n",
       "         (Virginia, 1): 1,\n",
       "         (Hardcore, 1): 1,\n",
       "         (jce40lm3&sh=5d62eac9, 1): 1,\n",
       "         (Discord, 1): 1,\n",
       "         (Discord, 1): 1,\n",
       "         (San Diego, 1): 1,\n",
       "         (Carfentenil, 1): 1,\n",
       "         (China, 1): 1,\n",
       "         (Suffolk County Long Island, 1): 1,\n",
       "         (New York, 1): 1,\n",
       "         (nada, 1): 1,\n",
       "         (W, 1): 1,\n",
       "         (SW, 1): 1,\n",
       "         (Canada, 1): 1,\n",
       "         (USA, 1): 1,\n",
       "         (USA, 1): 1,\n",
       "         (Adderall, 1): 1,\n",
       "         (us, 1): 1,\n",
       "         (Soooo, 1): 1,\n",
       "         (LE, 1): 1,\n",
       "         (US, 1): 1,\n",
       "         (US, 1): 1,\n",
       "         (xanax, 1): 1,\n",
       "         (turkey, 1): 1,\n",
       "         (turkey, 1): 1,\n",
       "         (San Francisco, 1): 1,\n",
       "         (San Jose, 1): 1,\n",
       "         (Soooo, 1): 1,\n",
       "         (Montreal, 1): 1,\n",
       "         (Ulta, 1): 1,\n",
       "         (Ulta, 1): 1,\n",
       "         (Kensington, 1): 1,\n",
       "         (Carfentanil, 1): 1,\n",
       "         (xoxox, 1): 1,\n",
       "         (kilo, 1): 1,\n",
       "         (LE, 1): 1,\n",
       "         (LE, 1): 1,\n",
       "         (new zealand, 1): 1,\n",
       "         (LE, 1): 1})"
      ]
     },
     "execution_count": 72,
     "metadata": {},
     "output_type": "execute_result"
    }
   ],
   "source": [
    "gpes_by_user[\"gpes\"][3]"
   ]
  },
  {
   "cell_type": "markdown",
   "metadata": {},
   "source": [
    "## Word Usage"
   ]
  },
  {
   "cell_type": "code",
   "execution_count": 78,
   "metadata": {
    "collapsed": false,
    "jupyter": {
     "outputs_hidden": false
    }
   },
   "outputs": [],
   "source": [
    "def word_per_year(df: pd.DataFrame, words: List[str], user_counts: List[int]) -> pd.DataFrame:\n",
    "    \"\"\"\n",
    "    Find the number of occurrences of the word per year in the df.\n",
    "    Also returns a column with word counts normalized by active user counts.\n",
    "    \n",
    "    Note: assumes columns names \"text\" and \"year\" in the df.\n",
    "    \"\"\"\n",
    "    years: List[str] = list(df[\"year\"].unique())\n",
    "    check_in = lambda text: 1 if len(set(words) & set(str(text).split())) > 0 else 0\n",
    "    countw = lambda year: df.loc[df.year == year, \"lower_text\"].apply(check_in).sum()\n",
    "    word_counts: List[int] = [countw(year) for year in years]\n",
    "    wc_norm: List[float] = [w / u for w, u in zip(word_counts, user_counts)]\n",
    "    return pd.DataFrame({\"years\": years, \"word_counts\": word_counts, \"wc_norm\": wc_norm})\n",
    "\n",
    "def append_wc(df: pd.DataFrame, words: List[List[str]], user_counts: List[int]) -> pd.DataFrame:\n",
    "    \"\"\"Generates a dataframe with multiple word counts for visualization.\"\"\"\n",
    "    wc_df = ft.reduce(lambda acc, w: acc.append(word_per_year(df, w, user_counts)), words, pd.DataFrame())\n",
    "    nyear = df.year.unique().shape[0]\n",
    "    word_arr = ft.reduce(lambda acc, w: acc + [w[0]] * nyear, words, [])\n",
    "    wc_df[\"words\"] = word_arr\n",
    "    return wc_df"
   ]
  },
  {
   "cell_type": "markdown",
   "metadata": {},
   "source": [
    "### 1. Location Mentions"
   ]
  },
  {
   "cell_type": "code",
   "execution_count": 83,
   "metadata": {
    "collapsed": false,
    "jupyter": {
     "outputs_hidden": false
    }
   },
   "outputs": [],
   "source": [
    "# get raw and normalized word counts in df\n",
    "# NOTE: words is a 2d list with:\n",
    "# dim 1: a category to count and plot\n",
    "# dim 2: aliases to include in that category.  can only be a single word for now\n",
    "loc_words = [[\"boston\", \"beantown\", \"bos\"], [\"lawrence\"], [\"lowell\"], [\"manchester\"], [\"worcester\"]]\n",
    "loc_df = append_wc(full_df, loc_words, user_counts)"
   ]
  },
  {
   "cell_type": "code",
   "execution_count": 84,
   "metadata": {
    "collapsed": false,
    "jupyter": {
     "outputs_hidden": false
    }
   },
   "outputs": [
    {
     "data": {
      "text/plain": [
       "Text(0.5, 1.0, 'Number of Word Occurrences per Year')"
      ]
     },
     "execution_count": 84,
     "metadata": {},
     "output_type": "execute_result"
    },
    {
     "data": {
      "image/png": "[encoded data removed]",
      "text/plain": [
       "<Figure size 720x576 with 1 Axes>"
      ]
     },
     "metadata": {
      "needs_background": "light"
     },
     "output_type": "display_data"
    }
   ],
   "source": [
    "# plot y='word_counts' for raw counts or y='wc_norm' for norm counts\n",
    "plt.figure(figsize=(10, 8))\n",
    "ax = sns.barplot(x=\"years\", y=\"word_counts\", hue=\"words\", data=wc_df)\n",
    "ax.set_title(f\"Number of Word Occurrences per Year\")"
   ]
  },
  {
   "cell_type": "markdown",
   "metadata": {},
   "source": [
    "### 2. Drug Mentions"
   ]
  },
  {
   "cell_type": "code",
   "execution_count": 85,
   "metadata": {},
   "outputs": [],
   "source": [
    "drug_words = [[\"fentanyl\", \"fent\", \"fenty\"], [\"heroin\"]]\n",
    "drug_df = append_wc(full_df, drug_words, user_counts)"
   ]
  },
  {
   "cell_type": "code",
   "execution_count": 86,
   "metadata": {},
   "outputs": [
    {
     "data": {
      "text/plain": [
       "Text(0.5, 1.0, 'Number of Word Occurrences per Year')"
      ]
     },
     "execution_count": 86,
     "metadata": {},
     "output_type": "execute_result"
    },
    {
     "data": {
      "image/png": "[encoded data removed]",
      "text/plain": [
       "<Figure size 720x576 with 1 Axes>"
      ]
     },
     "metadata": {
      "needs_background": "light"
     },
     "output_type": "display_data"
    }
   ],
   "source": [
    "# plot y='word_counts' for raw counts or y='wc_norm' for norm counts\n",
    "plt.figure(figsize=(10, 8))\n",
    "ax = sns.barplot(x=\"years\", y=\"word_counts\", hue=\"words\", data=drug_df)\n",
    "ax.set_title(f\"Number of Word Occurrences per Year\")"
   ]
  },
  {
   "cell_type": "markdown",
   "metadata": {
    "toc-hr-collapsed": false
   },
   "source": [
    "# Summative Visualizations"
   ]
  },
  {
   "cell_type": "markdown",
   "metadata": {},
   "source": [
    "## Date Distributions"
   ]
  },
  {
   "cell_type": "code",
   "execution_count": 5,
   "metadata": {
    "collapsed": false,
    "jupyter": {
     "outputs_hidden": false
    }
   },
   "outputs": [],
   "source": [
    "full_df[\"date\"] = full_df.time.apply(lambda ts: date(ts.year, ts.month, ts.day))\n",
    "date_groups = full_df.groupby(\"date\").count().reset_index()"
   ]
  },
  {
   "cell_type": "code",
   "execution_count": null,
   "metadata": {
    "collapsed": false,
    "jupyter": {
     "outputs_hidden": false
    }
   },
   "outputs": [],
   "source": [
    "df_19 = date_groups.loc[date_groups[\"date\"] >= date(2019, 1, 1), :]\n",
    "sns.barplot(x=\"date\", y=\"hash\", data=df_19)"
   ]
  },
  {
   "cell_type": "markdown",
   "metadata": {
    "toc-hr-collapsed": true
   },
   "source": [
    "## Number of Posts Over Time"
   ]
  },
  {
   "cell_type": "markdown",
   "metadata": {},
   "source": [
    "### 1. Count of Submissions Over Time"
   ]
  },
  {
   "cell_type": "code",
   "execution_count": 39,
   "metadata": {
    "collapsed": false,
    "jupyter": {
     "outputs_hidden": false
    }
   },
   "outputs": [
    {
     "data": {
      "text/plain": [
       "Text(0.5, 1.0, 'Number of r/opiates Submissions Over Time')"
      ]
     },
     "execution_count": 39,
     "metadata": {},
     "output_type": "execute_result"
    },
    {
     "data": {
      "image/png": "[encoded data removed]",
      "text/plain": [
       "<Figure size 432x288 with 1 Axes>"
      ]
     },
     "metadata": {
      "needs_background": "light"
     },
     "output_type": "display_data"
    }
   ],
   "source": [
    "count_df = sub_df.groupby(\"year\").count().reset_index().loc[:, [\"year\", \"_id\"]]\n",
    "count_df.columns = [\"year\", \"num_posts\"]\n",
    "norm_posts: List[float] = [p / u for p, u in zip(count_df[\"num_posts\"], user_counts)]\n",
    "ax = sns.barplot(x=count_df.year, y=count_df[\"num_posts\"])\n",
    "ax.set_title(\"Number of r/opiates Submissions Over Time\")"
   ]
  },
  {
   "cell_type": "markdown",
   "metadata": {},
   "source": [
    "### 2. Count of Submissions + Comments Over Time"
   ]
  },
  {
   "cell_type": "code",
   "execution_count": 21,
   "metadata": {
    "collapsed": false,
    "jupyter": {
     "outputs_hidden": false
    }
   },
   "outputs": [
    {
     "data": {
      "text/plain": [
       "<matplotlib.axes._subplots.AxesSubplot at 0x15c7c4a10>"
      ]
     },
     "execution_count": 21,
     "metadata": {},
     "output_type": "execute_result"
    },
    {
     "data": {
      "image/png": "[encoded data removed]",
      "text/plain": [
       "<Figure size 432x288 with 1 Axes>"
      ]
     },
     "metadata": {
      "needs_background": "light"
     },
     "output_type": "display_data"
    }
   ],
   "source": [
    "# group by year\n",
    "query_str = { \n",
    "    \"$group\": { \n",
    "        \"_id\": { \n",
    "            \"year\": {\"$year\": \"$time\"}}, \n",
    "        \"count\": {\n",
    "            \"$sum\": 1\n",
    "        },\n",
    "        \"subs\": {\"$sum\": 1}\n",
    "    }\n",
    "}\n",
    "query = COLL.aggregate([query_str])\n",
    "\n",
    "# extract data\n",
    "query_li = list(query)\n",
    "years = [str(it[\"_id\"][\"year\"]) for it in query_li]\n",
    "counts = [it[\"count\"] for it in query_li]\n",
    "\n",
    "# create dataframe\n",
    "df = pd.DataFrame({\"year\": years, \"count\": counts})\n",
    "\n",
    "# plot\n",
    "sns.barplot(x=\"year\", y=\"count\", data=df)"
   ]
  },
  {
   "cell_type": "markdown",
   "metadata": {},
   "source": [
    "### 3. Count of Submissions + Real Comments"
   ]
  },
  {
   "cell_type": "code",
   "execution_count": 55,
   "metadata": {},
   "outputs": [
    {
     "data": {
      "text/plain": [
       "<matplotlib.axes._subplots.AxesSubplot at 0x1782412d0>"
      ]
     },
     "execution_count": 55,
     "metadata": {},
     "output_type": "execute_result"
    },
    {
     "data": {
      "image/png": "[encoded data removed]",
      "text/plain": [
       "<Figure size 432x288 with 1 Axes>"
      ]
     },
     "metadata": {
      "needs_background": "light"
     },
     "output_type": "display_data"
    }
   ],
   "source": [
    "sub_df.query(\"year == '2017'\").shape[0]\n",
    "comms = sub_df.groupby(\"year\")[\"num_comments\"].sum().tolist()\n",
    "subs = sub_df.groupby(\"year\").count()\n",
    "combined = [a + b for a, b in zip(comms, subs[\"hash\"].tolist())]\n",
    "sns.barplot(x=subs.index, y=combined)"
   ]
  },
  {
   "cell_type": "markdown",
   "metadata": {},
   "source": [
    "### 4. Average Number of Comments Per Post Over Time"
   ]
  },
  {
   "cell_type": "code",
   "execution_count": 40,
   "metadata": {
    "collapsed": false,
    "jupyter": {
     "outputs_hidden": false
    }
   },
   "outputs": [
    {
     "data": {
      "text/plain": [
       "Text(0.5, 1.0, 'Average Number of Comments Per Post Over Time')"
      ]
     },
     "execution_count": 40,
     "metadata": {},
     "output_type": "execute_result"
    },
    {
     "data": {
      "image/png": "[encoded data removed]",
      "text/plain": [
       "<Figure size 432x288 with 1 Axes>"
      ]
     },
     "metadata": {
      "needs_background": "light"
     },
     "output_type": "display_data"
    }
   ],
   "source": [
    "comm_df = sub_df.loc[:,[\"year\", \"num_comments\"]].dropna().groupby(\"year\")\\\n",
    "                                                .mean().reset_index()\n",
    "ax = sns.barplot(x=comm_df.year, y=comm_df.num_comments)\n",
    "ax.set_title(\"Average Number of Comments Per Post Over Time\")"
   ]
  },
  {
   "cell_type": "code",
   "execution_count": 57,
   "metadata": {},
   "outputs": [],
   "source": [
    "comm_counts = full_df.groupby(\"parent_id\").count().reset_index()\n",
    "comm_counts[\"new_par_id\"] = comm_counts[\"parent_id\"].apply(lambda x: x.replace(\"t1_\", \"\"))"
   ]
  },
  {
   "cell_type": "markdown",
   "metadata": {},
   "source": [
    "## Active Number of Users on R/Opiates Over Time"
   ]
  },
  {
   "cell_type": "code",
   "execution_count": 18,
   "metadata": {
    "collapsed": false,
    "jupyter": {
     "outputs_hidden": false
    }
   },
   "outputs": [],
   "source": [
    "def users_per_year(df: pd.DataFrame) -> Tuple[List[str], List[int]]:\n",
    "    \"\"\"\n",
    "    Find the number of unique users per year in the given df.\n",
    "    \n",
    "    Note: assumes columns names \"username\" and \"year\" in the df.\n",
    "    \"\"\"\n",
    "    years: List[str] = list(df[\"year\"].unique())\n",
    "    user_counts: List[int] = [df.loc[df.year == year, \"username\"].unique().shape[0] for year in years]\n",
    "    return years, user_counts"
   ]
  },
  {
   "cell_type": "code",
   "execution_count": 19,
   "metadata": {
    "collapsed": false,
    "jupyter": {
     "outputs_hidden": false
    }
   },
   "outputs": [
    {
     "data": {
      "text/plain": [
       "Text(0.5, 1.0, 'Number of r/opiates Active Users Over Time')"
      ]
     },
     "execution_count": 19,
     "metadata": {},
     "output_type": "execute_result"
    },
    {
     "data": {
      "image/png": "[encoded data removed]",
      "text/plain": [
       "<Figure size 432x288 with 1 Axes>"
      ]
     },
     "metadata": {
      "needs_background": "light"
     },
     "output_type": "display_data"
    }
   ],
   "source": [
    "years, user_counts = users_per_year(full_df)\n",
    "ax = sns.barplot(x=years, y=user_counts)\n",
    "ax.set_title(\"Number of r/opiates Active Users Over Time\")"
   ]
  },
  {
   "cell_type": "markdown",
   "metadata": {},
   "source": [
    "## Frequency Table"
   ]
  },
  {
   "cell_type": "code",
   "execution_count": 245,
   "metadata": {
    "collapsed": false,
    "jupyter": {
     "outputs_hidden": false
    }
   },
   "outputs": [],
   "source": [
    "freq_df = pd.DataFrame(list(COLL.find({})))\n",
    "freq_df[\"year\"] = freq_df.time.apply(lambda x: str(x.year))"
   ]
  },
  {
   "cell_type": "code",
   "execution_count": 246,
   "metadata": {
    "collapsed": false,
    "jupyter": {
     "outputs_hidden": false
    }
   },
   "outputs": [],
   "source": [
    "freq_df[\"Threads\"] = freq_df[\"is_sub\"].apply(lambda x: 1 if x else 0)\n",
    "freq_df[\"Comments\"] = freq_df[\"is_sub\"].apply(lambda x: 1 if (not x) else 0)\n",
    "freq_df[\"Totals\"] = [1] * freq_df.shape[0]\n",
    "count_df = freq_df.groupby(\"year\").sum().loc[:,[\"Threads\", \"Comments\", \"Totals\"]]"
   ]
  },
  {
   "cell_type": "code",
   "execution_count": 247,
   "metadata": {
    "collapsed": false,
    "jupyter": {
     "outputs_hidden": false
    }
   },
   "outputs": [
    {
     "data": {
      "text/html": [
       "<div>\n",
       "<style scoped>\n",
       "    .dataframe tbody tr th:only-of-type {\n",
       "        vertical-align: middle;\n",
       "    }\n",
       "\n",
       "    .dataframe tbody tr th {\n",
       "        vertical-align: top;\n",
       "    }\n",
       "\n",
       "    .dataframe thead th {\n",
       "        text-align: right;\n",
       "    }\n",
       "</style>\n",
       "<table border=\"1\" class=\"dataframe\">\n",
       "  <thead>\n",
       "    <tr style=\"text-align: right;\">\n",
       "      <th></th>\n",
       "      <th>Threads</th>\n",
       "      <th>Comments</th>\n",
       "      <th>Totals</th>\n",
       "    </tr>\n",
       "    <tr>\n",
       "      <th>year</th>\n",
       "      <th></th>\n",
       "      <th></th>\n",
       "      <th></th>\n",
       "    </tr>\n",
       "  </thead>\n",
       "  <tbody>\n",
       "    <tr>\n",
       "      <th>2019</th>\n",
       "      <td>175.0</td>\n",
       "      <td>2162.0</td>\n",
       "      <td>2337.0</td>\n",
       "    </tr>\n",
       "  </tbody>\n",
       "</table>\n",
       "</div>"
      ],
      "text/plain": [
       "      Threads  Comments  Totals\n",
       "year                           \n",
       "2019    175.0    2162.0  2337.0"
      ]
     },
     "execution_count": 247,
     "metadata": {},
     "output_type": "execute_result"
    }
   ],
   "source": [
    "count_df"
   ]
  }
 ],
 "metadata": {
  "kernelspec": {
   "display_name": "Python 3",
   "language": "python",
   "name": "python3"
  },
  "language_info": {
   "codemirror_mode": {
    "name": "ipython",
    "version": 3
   },
   "file_extension": ".py",
   "mimetype": "text/x-python",
   "name": "python",
   "nbconvert_exporter": "python",
   "pygments_lexer": "ipython3",
   "version": "3.7.5"
  },
  "name": "explore.ipynb"
 },
 "nbformat": 4,
 "nbformat_minor": 4
}
